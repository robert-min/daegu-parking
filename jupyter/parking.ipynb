{
 "cells": [
  {
   "cell_type": "markdown",
   "source": [
    "# 주차장 정보 데이터 확인 및 전처리 후 DB 저장\n"
   ],
   "metadata": {
    "collapsed": false
   }
  },
  {
   "cell_type": "code",
   "execution_count": 19,
   "metadata": {
    "collapsed": true
   },
   "outputs": [],
   "source": [
    "import pandas as pd\n",
    "import pymysql\n",
    "pd.set_option('display.max_columns', None)"
   ]
  },
  {
   "cell_type": "code",
   "execution_count": 13,
   "outputs": [
    {
     "data": {
      "text/plain": "   순번       주차장관리번호       주차장명 주차장 유형               소재지지번주소  주차구획수  급지구분  \\\n0   1  154-1-000001  3공단로25길인근     노상  대구광역시 북구 노원동3가 191-1      6     3   \n1   2  154-1-000002     3공단로인근     노상     대구광역시 북구 노원동3가 14    329     3   \n\n  부제시행구분        운영요일  평일운영시작시각  평일운영종료시각 토요일운영시작시각 토요일운영종료시각 공휴일운영시작시각  \\\n0    미시행  평일+토요일+공휴일  00:00:00  00:00:00  00:00:00  00:00:00  00:00:00   \n1    미시행  평일+토요일+공휴일  00:00:00  00:00:00  00:00:00  00:00:00  00:00:00   \n\n  공유일운영종료시각 요금정보  주차기본시간  주차기본요금  추가단위시간  추가단위요금  1일주차권요금적용시간  1일주차권적용시간  \\\n0  00:00:00   무료       0       0       0       0            0          0   \n1  00:00:00   무료       0       0       0       0            0          0   \n\n   월정기요금 결제방법      관리기관명         경도          위도  \n0      0    0  대구광역시 북구청  35.897770  128.565410  \n1      0    0     대구광역시청  35.899471  128.569853  ",
      "text/html": "<div>\n<style scoped>\n    .dataframe tbody tr th:only-of-type {\n        vertical-align: middle;\n    }\n\n    .dataframe tbody tr th {\n        vertical-align: top;\n    }\n\n    .dataframe thead th {\n        text-align: right;\n    }\n</style>\n<table border=\"1\" class=\"dataframe\">\n  <thead>\n    <tr style=\"text-align: right;\">\n      <th></th>\n      <th>순번</th>\n      <th>주차장관리번호</th>\n      <th>주차장명</th>\n      <th>주차장 유형</th>\n      <th>소재지지번주소</th>\n      <th>주차구획수</th>\n      <th>급지구분</th>\n      <th>부제시행구분</th>\n      <th>운영요일</th>\n      <th>평일운영시작시각</th>\n      <th>평일운영종료시각</th>\n      <th>토요일운영시작시각</th>\n      <th>토요일운영종료시각</th>\n      <th>공휴일운영시작시각</th>\n      <th>공유일운영종료시각</th>\n      <th>요금정보</th>\n      <th>주차기본시간</th>\n      <th>주차기본요금</th>\n      <th>추가단위시간</th>\n      <th>추가단위요금</th>\n      <th>1일주차권요금적용시간</th>\n      <th>1일주차권적용시간</th>\n      <th>월정기요금</th>\n      <th>결제방법</th>\n      <th>관리기관명</th>\n      <th>경도</th>\n      <th>위도</th>\n    </tr>\n  </thead>\n  <tbody>\n    <tr>\n      <th>0</th>\n      <td>1</td>\n      <td>154-1-000001</td>\n      <td>3공단로25길인근</td>\n      <td>노상</td>\n      <td>대구광역시 북구 노원동3가 191-1</td>\n      <td>6</td>\n      <td>3</td>\n      <td>미시행</td>\n      <td>평일+토요일+공휴일</td>\n      <td>00:00:00</td>\n      <td>00:00:00</td>\n      <td>00:00:00</td>\n      <td>00:00:00</td>\n      <td>00:00:00</td>\n      <td>00:00:00</td>\n      <td>무료</td>\n      <td>0</td>\n      <td>0</td>\n      <td>0</td>\n      <td>0</td>\n      <td>0</td>\n      <td>0</td>\n      <td>0</td>\n      <td>0</td>\n      <td>대구광역시 북구청</td>\n      <td>35.897770</td>\n      <td>128.565410</td>\n    </tr>\n    <tr>\n      <th>1</th>\n      <td>2</td>\n      <td>154-1-000002</td>\n      <td>3공단로인근</td>\n      <td>노상</td>\n      <td>대구광역시 북구 노원동3가 14</td>\n      <td>329</td>\n      <td>3</td>\n      <td>미시행</td>\n      <td>평일+토요일+공휴일</td>\n      <td>00:00:00</td>\n      <td>00:00:00</td>\n      <td>00:00:00</td>\n      <td>00:00:00</td>\n      <td>00:00:00</td>\n      <td>00:00:00</td>\n      <td>무료</td>\n      <td>0</td>\n      <td>0</td>\n      <td>0</td>\n      <td>0</td>\n      <td>0</td>\n      <td>0</td>\n      <td>0</td>\n      <td>0</td>\n      <td>대구광역시청</td>\n      <td>35.899471</td>\n      <td>128.569853</td>\n    </tr>\n  </tbody>\n</table>\n</div>"
     },
     "execution_count": 13,
     "metadata": {},
     "output_type": "execute_result"
    }
   ],
   "source": [
    "gov_parking = pd.read_csv(\"ori_file/대구광역시 북구_공영주차장 운영 현황 및 현장 정보_20211123.csv\", encoding=\"cp949\")\n",
    "gov_parking.head(2)"
   ],
   "metadata": {
    "collapsed": false,
    "pycharm": {
     "name": "#%%\n"
    }
   }
  },
  {
   "cell_type": "code",
   "execution_count": 14,
   "outputs": [
    {
     "data": {
      "text/plain": "   순번  개방호수    주차장명                  지번주소  면수  \\\n0   1     4  성북초등학교      대구광역시 북구 서변동 861  33   \n1   2     5    대도교회  대구광역시 북구 산격동 1404-12  17   \n\n                                                개방시간       약정시작일       약정종료일  \\\n0  평일 : 18:00∼익일 07:00+토,일요일 : 전일 18:00~익일 07:00+...  2020-07-02  2022-07-01   \n1  평일 : 24시간+토요일 : 00:00~18:00+공휴일 : 24시간+일요일 및 특...  2020-05-01  2022-04-30   \n\n          경도          위도  \n0  35.889957  128.602590  \n1  35.933692  128.549839  ",
      "text/html": "<div>\n<style scoped>\n    .dataframe tbody tr th:only-of-type {\n        vertical-align: middle;\n    }\n\n    .dataframe tbody tr th {\n        vertical-align: top;\n    }\n\n    .dataframe thead th {\n        text-align: right;\n    }\n</style>\n<table border=\"1\" class=\"dataframe\">\n  <thead>\n    <tr style=\"text-align: right;\">\n      <th></th>\n      <th>순번</th>\n      <th>개방호수</th>\n      <th>주차장명</th>\n      <th>지번주소</th>\n      <th>면수</th>\n      <th>개방시간</th>\n      <th>약정시작일</th>\n      <th>약정종료일</th>\n      <th>경도</th>\n      <th>위도</th>\n    </tr>\n  </thead>\n  <tbody>\n    <tr>\n      <th>0</th>\n      <td>1</td>\n      <td>4</td>\n      <td>성북초등학교</td>\n      <td>대구광역시 북구 서변동 861</td>\n      <td>33</td>\n      <td>평일 : 18:00∼익일 07:00+토,일요일 : 전일 18:00~익일 07:00+...</td>\n      <td>2020-07-02</td>\n      <td>2022-07-01</td>\n      <td>35.889957</td>\n      <td>128.602590</td>\n    </tr>\n    <tr>\n      <th>1</th>\n      <td>2</td>\n      <td>5</td>\n      <td>대도교회</td>\n      <td>대구광역시 북구 산격동 1404-12</td>\n      <td>17</td>\n      <td>평일 : 24시간+토요일 : 00:00~18:00+공휴일 : 24시간+일요일 및 특...</td>\n      <td>2020-05-01</td>\n      <td>2022-04-30</td>\n      <td>35.933692</td>\n      <td>128.549839</td>\n    </tr>\n  </tbody>\n</table>\n</div>"
     },
     "execution_count": 14,
     "metadata": {},
     "output_type": "execute_result"
    }
   ],
   "source": [
    "public_parking = pd.read_csv(\"ori_file/대구광역시 북구_공유개방 주차장 현황_20211123.csv\", encoding=\"cp949\")\n",
    "public_parking.head(2)"
   ],
   "metadata": {
    "collapsed": false,
    "pycharm": {
     "name": "#%%\n"
    }
   }
  },
  {
   "cell_type": "code",
   "execution_count": 15,
   "outputs": [
    {
     "data": {
      "text/plain": "   순번       주차장관리번호       주차장명 주차장 유형               소재지지번주소  주차구획수  급지구분  \\\n0   1  154-1-000001  3공단로25길인근     노상  대구광역시 북구 노원동3가 191-1      6     3   \n1   2  154-1-000002     3공단로인근     노상     대구광역시 북구 노원동3가 14    329     3   \n\n  부제시행구분        운영요일  평일운영시작시각  평일운영종료시각 토요일운영시작시각 토요일운영종료시각 공휴일운영시작시각  \\\n0    미시행  평일+토요일+공휴일  00:00:00  00:00:00  00:00:00  00:00:00  00:00:00   \n1    미시행  평일+토요일+공휴일  00:00:00  00:00:00  00:00:00  00:00:00  00:00:00   \n\n  공유일운영종료시각 요금정보  주차기본시간  주차기본요금  추가단위시간  추가단위요금  1일주차권요금적용시간  1일주차권적용시간  \\\n0  00:00:00   무료       0       0       0       0            0          0   \n1  00:00:00   무료       0       0       0       0            0          0   \n\n   월정기요금 결제방법      관리기관명         경도          위도  \n0      0    0  대구광역시 북구청  35.897770  128.565410  \n1      0    0     대구광역시청  35.899471  128.569853  ",
      "text/html": "<div>\n<style scoped>\n    .dataframe tbody tr th:only-of-type {\n        vertical-align: middle;\n    }\n\n    .dataframe tbody tr th {\n        vertical-align: top;\n    }\n\n    .dataframe thead th {\n        text-align: right;\n    }\n</style>\n<table border=\"1\" class=\"dataframe\">\n  <thead>\n    <tr style=\"text-align: right;\">\n      <th></th>\n      <th>순번</th>\n      <th>주차장관리번호</th>\n      <th>주차장명</th>\n      <th>주차장 유형</th>\n      <th>소재지지번주소</th>\n      <th>주차구획수</th>\n      <th>급지구분</th>\n      <th>부제시행구분</th>\n      <th>운영요일</th>\n      <th>평일운영시작시각</th>\n      <th>평일운영종료시각</th>\n      <th>토요일운영시작시각</th>\n      <th>토요일운영종료시각</th>\n      <th>공휴일운영시작시각</th>\n      <th>공유일운영종료시각</th>\n      <th>요금정보</th>\n      <th>주차기본시간</th>\n      <th>주차기본요금</th>\n      <th>추가단위시간</th>\n      <th>추가단위요금</th>\n      <th>1일주차권요금적용시간</th>\n      <th>1일주차권적용시간</th>\n      <th>월정기요금</th>\n      <th>결제방법</th>\n      <th>관리기관명</th>\n      <th>경도</th>\n      <th>위도</th>\n    </tr>\n  </thead>\n  <tbody>\n    <tr>\n      <th>0</th>\n      <td>1</td>\n      <td>154-1-000001</td>\n      <td>3공단로25길인근</td>\n      <td>노상</td>\n      <td>대구광역시 북구 노원동3가 191-1</td>\n      <td>6</td>\n      <td>3</td>\n      <td>미시행</td>\n      <td>평일+토요일+공휴일</td>\n      <td>00:00:00</td>\n      <td>00:00:00</td>\n      <td>00:00:00</td>\n      <td>00:00:00</td>\n      <td>00:00:00</td>\n      <td>00:00:00</td>\n      <td>무료</td>\n      <td>0</td>\n      <td>0</td>\n      <td>0</td>\n      <td>0</td>\n      <td>0</td>\n      <td>0</td>\n      <td>0</td>\n      <td>0</td>\n      <td>대구광역시 북구청</td>\n      <td>35.897770</td>\n      <td>128.565410</td>\n    </tr>\n    <tr>\n      <th>1</th>\n      <td>2</td>\n      <td>154-1-000002</td>\n      <td>3공단로인근</td>\n      <td>노상</td>\n      <td>대구광역시 북구 노원동3가 14</td>\n      <td>329</td>\n      <td>3</td>\n      <td>미시행</td>\n      <td>평일+토요일+공휴일</td>\n      <td>00:00:00</td>\n      <td>00:00:00</td>\n      <td>00:00:00</td>\n      <td>00:00:00</td>\n      <td>00:00:00</td>\n      <td>00:00:00</td>\n      <td>무료</td>\n      <td>0</td>\n      <td>0</td>\n      <td>0</td>\n      <td>0</td>\n      <td>0</td>\n      <td>0</td>\n      <td>0</td>\n      <td>0</td>\n      <td>대구광역시청</td>\n      <td>35.899471</td>\n      <td>128.569853</td>\n    </tr>\n  </tbody>\n</table>\n</div>"
     },
     "execution_count": 15,
     "metadata": {},
     "output_type": "execute_result"
    }
   ],
   "source": [
    "road_parking = pd.read_csv(\"ori_file/대구광역시 북구_노상주차장 운영 현황 및 현장 정보_20211123.csv\", encoding=\"cp949\")\n",
    "road_parking.head(2)"
   ],
   "metadata": {
    "collapsed": false,
    "pycharm": {
     "name": "#%%\n"
    }
   }
  },
  {
   "cell_type": "code",
   "execution_count": 16,
   "outputs": [
    {
     "data": {
      "text/plain": "   순번       주차장관리번호 주차장명 주차장 유형               소재지지번주소  주차구획수  급지구분 부제시행구분  \\\n0   1  154-4-000190   광양     노외  대구광역시 북구 노원동3가 892-1     25     2    미시행   \n1   2  154-4-000191   구남     노외   대구광역시 북구 읍내동 1121-1     15     2    미시행   \n\n         운영요일  평일운영시작시각  평일운영종료시각 토요일운영시작시각 토요일운영종료시각 공휴일운영시작시각 공유일운영종료시각  \\\n0  평일+토요일+공휴일  00:00:00  00:00:00  00:00:00  00:00:00  00:00:00  00:00:00   \n1  평일+토요일+공휴일  00:00:00  00:00:00  00:00:00  00:00:00  00:00:00  00:00:00   \n\n  요금정보  주차기본시간  주차기본요금  추가단위시간  추가단위요금  1일주차권요금적용시간  1일주차권적용시간   월정기요금 결제방법  \\\n0   유료      30     500      60    1000            0       5000   80000   현금   \n1   유료      30    1000      60    2000            0      10000  100000   현금   \n\n       관리기관명         경도          위도  \n0  대구광역시 북구청  35.892206  128.567963  \n1  대구광역시 북구청  35.932928  128.550395  ",
      "text/html": "<div>\n<style scoped>\n    .dataframe tbody tr th:only-of-type {\n        vertical-align: middle;\n    }\n\n    .dataframe tbody tr th {\n        vertical-align: top;\n    }\n\n    .dataframe thead th {\n        text-align: right;\n    }\n</style>\n<table border=\"1\" class=\"dataframe\">\n  <thead>\n    <tr style=\"text-align: right;\">\n      <th></th>\n      <th>순번</th>\n      <th>주차장관리번호</th>\n      <th>주차장명</th>\n      <th>주차장 유형</th>\n      <th>소재지지번주소</th>\n      <th>주차구획수</th>\n      <th>급지구분</th>\n      <th>부제시행구분</th>\n      <th>운영요일</th>\n      <th>평일운영시작시각</th>\n      <th>평일운영종료시각</th>\n      <th>토요일운영시작시각</th>\n      <th>토요일운영종료시각</th>\n      <th>공휴일운영시작시각</th>\n      <th>공유일운영종료시각</th>\n      <th>요금정보</th>\n      <th>주차기본시간</th>\n      <th>주차기본요금</th>\n      <th>추가단위시간</th>\n      <th>추가단위요금</th>\n      <th>1일주차권요금적용시간</th>\n      <th>1일주차권적용시간</th>\n      <th>월정기요금</th>\n      <th>결제방법</th>\n      <th>관리기관명</th>\n      <th>경도</th>\n      <th>위도</th>\n    </tr>\n  </thead>\n  <tbody>\n    <tr>\n      <th>0</th>\n      <td>1</td>\n      <td>154-4-000190</td>\n      <td>광양</td>\n      <td>노외</td>\n      <td>대구광역시 북구 노원동3가 892-1</td>\n      <td>25</td>\n      <td>2</td>\n      <td>미시행</td>\n      <td>평일+토요일+공휴일</td>\n      <td>00:00:00</td>\n      <td>00:00:00</td>\n      <td>00:00:00</td>\n      <td>00:00:00</td>\n      <td>00:00:00</td>\n      <td>00:00:00</td>\n      <td>유료</td>\n      <td>30</td>\n      <td>500</td>\n      <td>60</td>\n      <td>1000</td>\n      <td>0</td>\n      <td>5000</td>\n      <td>80000</td>\n      <td>현금</td>\n      <td>대구광역시 북구청</td>\n      <td>35.892206</td>\n      <td>128.567963</td>\n    </tr>\n    <tr>\n      <th>1</th>\n      <td>2</td>\n      <td>154-4-000191</td>\n      <td>구남</td>\n      <td>노외</td>\n      <td>대구광역시 북구 읍내동 1121-1</td>\n      <td>15</td>\n      <td>2</td>\n      <td>미시행</td>\n      <td>평일+토요일+공휴일</td>\n      <td>00:00:00</td>\n      <td>00:00:00</td>\n      <td>00:00:00</td>\n      <td>00:00:00</td>\n      <td>00:00:00</td>\n      <td>00:00:00</td>\n      <td>유료</td>\n      <td>30</td>\n      <td>1000</td>\n      <td>60</td>\n      <td>2000</td>\n      <td>0</td>\n      <td>10000</td>\n      <td>100000</td>\n      <td>현금</td>\n      <td>대구광역시 북구청</td>\n      <td>35.932928</td>\n      <td>128.550395</td>\n    </tr>\n  </tbody>\n</table>\n</div>"
     },
     "execution_count": 16,
     "metadata": {},
     "output_type": "execute_result"
    }
   ],
   "source": [
    "private_parking = pd.read_csv(\"ori_file/대구광역시 북구_민영주차장 운영 현황 및 현장정보_20211123.csv\", encoding=\"cp949\")\n",
    "private_parking.head(2)"
   ],
   "metadata": {
    "collapsed": false,
    "pycharm": {
     "name": "#%%\n"
    }
   }
  },
  {
   "cell_type": "markdown",
   "source": [
    "## 주차장 통합 데이터베이스 생성\n",
    "\n",
    "* 주차장명 : name : VARCHAR(20)\n",
    "* 주차장 유형 : kind : VARCHAR(10)\n",
    "* 주차구획수(면수) : parking_num : INT UNSIGNED\n",
    "* 요금정보 : fare : VARCHAR(10)\n",
    "* 위도 : lat : FLOAT UNSIGNED\n",
    "* 경도 : lng : FLOAT UNSIGNED"
   ],
   "metadata": {
    "collapsed": false
   }
  },
  {
   "cell_type": "code",
   "execution_count": 20,
   "outputs": [],
   "source": [
    "db = pymysql.connect(\n",
    "    host='localhost',\n",
    "    port=3306,\n",
    "    user='root',\n",
    "    password='aksen5466!',\n",
    "    db='parking',\n",
    "    charset='utf8'\n",
    ")\n",
    "\n",
    "cursor = db.cursor()\n",
    "\n",
    "sql = \"\"\"\n",
    "    CREATE TABLE parking_site (\n",
    "        id INT UNSIGNED NOT NULL AUTO_INCREMENT,\n",
    "        name VARCHAR(20) NOT NULL,\n",
    "        kind VARCHAR(10) NOT NULL,\n",
    "        parking_num INT UNSIGNED NOT NULL,\n",
    "        fare VARCHAR(10) NOT NULL,\n",
    "        lat FLOAT NOT NULL,\n",
    "        lng FLOAT NOT NULL,\n",
    "        PRIMARY KEY(id));\n",
    "\"\"\"\n",
    "\n",
    "cursor.execute(sql)\n",
    "\n",
    "db.commit()\n",
    "\n",
    "db.close()"
   ],
   "metadata": {
    "collapsed": false,
    "pycharm": {
     "name": "#%%\n"
    }
   }
  },
  {
   "cell_type": "markdown",
   "source": [
    "### gov_parking 데이터 확인, 전처리, DB에 입력"
   ],
   "metadata": {
    "collapsed": false
   }
  },
  {
   "cell_type": "code",
   "execution_count": 17,
   "outputs": [
    {
     "data": {
      "text/plain": "               순번       주차구획수        급지구분      주차기본시간       주차기본요금  \\\ncount  229.000000  229.000000  229.000000  229.000000   229.000000   \nmean   115.000000   41.711790    2.013100    5.764192   117.903930   \nstd     66.250786   52.440316    0.691302   12.174042   271.259197   \nmin      1.000000    2.000000    1.000000    0.000000     0.000000   \n25%     58.000000   12.000000    2.000000    0.000000     0.000000   \n50%    115.000000   27.000000    2.000000    0.000000     0.000000   \n75%    172.000000   48.000000    2.000000    0.000000     0.000000   \nmax    229.000000  437.000000    3.000000   60.000000  1500.000000   \n\n           추가단위시간       추가단위요금  1일주차권요금적용시간     1일주차권적용시간          월정기요금  \\\ncount  229.000000   229.000000   229.000000    229.000000     229.000000   \nmean     2.270742    60.698690    26.200873   1065.502183    6244.541485   \nstd      6.629021   180.839759   279.746084   5820.418335   20258.234808   \nmin      0.000000     0.000000     0.000000      0.000000       0.000000   \n25%      0.000000     0.000000     0.000000      0.000000       0.000000   \n50%      0.000000     0.000000     0.000000      0.000000       0.000000   \n75%      0.000000     0.000000     0.000000      0.000000       0.000000   \nmax     60.000000  2000.000000  3000.000000  60000.000000  100000.000000   \n\n               경도          위도  \ncount  229.000000  229.000000  \nmean    35.902247  128.584189  \nstd      0.021494    0.024414  \nmin     35.874893  128.541259  \n25%     35.888201  128.561074  \n50%     35.894556  128.586992  \n75%     35.920901  128.605925  \nmax     35.963635  128.625135  ",
      "text/html": "<div>\n<style scoped>\n    .dataframe tbody tr th:only-of-type {\n        vertical-align: middle;\n    }\n\n    .dataframe tbody tr th {\n        vertical-align: top;\n    }\n\n    .dataframe thead th {\n        text-align: right;\n    }\n</style>\n<table border=\"1\" class=\"dataframe\">\n  <thead>\n    <tr style=\"text-align: right;\">\n      <th></th>\n      <th>순번</th>\n      <th>주차구획수</th>\n      <th>급지구분</th>\n      <th>주차기본시간</th>\n      <th>주차기본요금</th>\n      <th>추가단위시간</th>\n      <th>추가단위요금</th>\n      <th>1일주차권요금적용시간</th>\n      <th>1일주차권적용시간</th>\n      <th>월정기요금</th>\n      <th>경도</th>\n      <th>위도</th>\n    </tr>\n  </thead>\n  <tbody>\n    <tr>\n      <th>count</th>\n      <td>229.000000</td>\n      <td>229.000000</td>\n      <td>229.000000</td>\n      <td>229.000000</td>\n      <td>229.000000</td>\n      <td>229.000000</td>\n      <td>229.000000</td>\n      <td>229.000000</td>\n      <td>229.000000</td>\n      <td>229.000000</td>\n      <td>229.000000</td>\n      <td>229.000000</td>\n    </tr>\n    <tr>\n      <th>mean</th>\n      <td>115.000000</td>\n      <td>41.711790</td>\n      <td>2.013100</td>\n      <td>5.764192</td>\n      <td>117.903930</td>\n      <td>2.270742</td>\n      <td>60.698690</td>\n      <td>26.200873</td>\n      <td>1065.502183</td>\n      <td>6244.541485</td>\n      <td>35.902247</td>\n      <td>128.584189</td>\n    </tr>\n    <tr>\n      <th>std</th>\n      <td>66.250786</td>\n      <td>52.440316</td>\n      <td>0.691302</td>\n      <td>12.174042</td>\n      <td>271.259197</td>\n      <td>6.629021</td>\n      <td>180.839759</td>\n      <td>279.746084</td>\n      <td>5820.418335</td>\n      <td>20258.234808</td>\n      <td>0.021494</td>\n      <td>0.024414</td>\n    </tr>\n    <tr>\n      <th>min</th>\n      <td>1.000000</td>\n      <td>2.000000</td>\n      <td>1.000000</td>\n      <td>0.000000</td>\n      <td>0.000000</td>\n      <td>0.000000</td>\n      <td>0.000000</td>\n      <td>0.000000</td>\n      <td>0.000000</td>\n      <td>0.000000</td>\n      <td>35.874893</td>\n      <td>128.541259</td>\n    </tr>\n    <tr>\n      <th>25%</th>\n      <td>58.000000</td>\n      <td>12.000000</td>\n      <td>2.000000</td>\n      <td>0.000000</td>\n      <td>0.000000</td>\n      <td>0.000000</td>\n      <td>0.000000</td>\n      <td>0.000000</td>\n      <td>0.000000</td>\n      <td>0.000000</td>\n      <td>35.888201</td>\n      <td>128.561074</td>\n    </tr>\n    <tr>\n      <th>50%</th>\n      <td>115.000000</td>\n      <td>27.000000</td>\n      <td>2.000000</td>\n      <td>0.000000</td>\n      <td>0.000000</td>\n      <td>0.000000</td>\n      <td>0.000000</td>\n      <td>0.000000</td>\n      <td>0.000000</td>\n      <td>0.000000</td>\n      <td>35.894556</td>\n      <td>128.586992</td>\n    </tr>\n    <tr>\n      <th>75%</th>\n      <td>172.000000</td>\n      <td>48.000000</td>\n      <td>2.000000</td>\n      <td>0.000000</td>\n      <td>0.000000</td>\n      <td>0.000000</td>\n      <td>0.000000</td>\n      <td>0.000000</td>\n      <td>0.000000</td>\n      <td>0.000000</td>\n      <td>35.920901</td>\n      <td>128.605925</td>\n    </tr>\n    <tr>\n      <th>max</th>\n      <td>229.000000</td>\n      <td>437.000000</td>\n      <td>3.000000</td>\n      <td>60.000000</td>\n      <td>1500.000000</td>\n      <td>60.000000</td>\n      <td>2000.000000</td>\n      <td>3000.000000</td>\n      <td>60000.000000</td>\n      <td>100000.000000</td>\n      <td>35.963635</td>\n      <td>128.625135</td>\n    </tr>\n  </tbody>\n</table>\n</div>"
     },
     "execution_count": 17,
     "metadata": {},
     "output_type": "execute_result"
    }
   ],
   "source": [
    "gov_parking.describe()"
   ],
   "metadata": {
    "collapsed": false,
    "pycharm": {
     "name": "#%%\n"
    }
   }
  },
  {
   "cell_type": "code",
   "execution_count": 29,
   "outputs": [
    {
     "name": "stdout",
     "output_type": "stream",
     "text": [
      "<class 'pandas.core.frame.DataFrame'>\n",
      "RangeIndex: 229 entries, 0 to 228\n",
      "Data columns (total 27 columns):\n",
      " #   Column       Non-Null Count  Dtype  \n",
      "---  ------       --------------  -----  \n",
      " 0   순번           229 non-null    int64  \n",
      " 1   주차장관리번호      229 non-null    object \n",
      " 2   주차장명         229 non-null    object \n",
      " 3   주차장 유형       229 non-null    object \n",
      " 4   소재지지번주소      229 non-null    object \n",
      " 5   주차구획수        229 non-null    int64  \n",
      " 6   급지구분         229 non-null    int64  \n",
      " 7   부제시행구분       229 non-null    object \n",
      " 8   운영요일         229 non-null    object \n",
      " 9   평일운영시작시각     229 non-null    object \n",
      " 10  평일운영종료시각     229 non-null    object \n",
      " 11  토요일운영시작시각    229 non-null    object \n",
      " 12  토요일운영종료시각    229 non-null    object \n",
      " 13  공휴일운영시작시각    229 non-null    object \n",
      " 14  공유일운영종료시각    229 non-null    object \n",
      " 15  요금정보         229 non-null    object \n",
      " 16  주차기본시간       229 non-null    int64  \n",
      " 17  주차기본요금       229 non-null    int64  \n",
      " 18  추가단위시간       229 non-null    int64  \n",
      " 19  추가단위요금       229 non-null    int64  \n",
      " 20  1일주차권요금적용시간  229 non-null    int64  \n",
      " 21  1일주차권적용시간    229 non-null    int64  \n",
      " 22  월정기요금        229 non-null    int64  \n",
      " 23  결제방법         229 non-null    object \n",
      " 24  관리기관명        229 non-null    object \n",
      " 25  경도           229 non-null    float64\n",
      " 26  위도           229 non-null    float64\n",
      "dtypes: float64(2), int64(10), object(15)\n",
      "memory usage: 48.4+ KB\n"
     ]
    }
   ],
   "source": [
    "gov_parking.info()"
   ],
   "metadata": {
    "collapsed": false,
    "pycharm": {
     "name": "#%%\n"
    }
   }
  },
  {
   "cell_type": "code",
   "execution_count": 34,
   "outputs": [
    {
     "name": "stdout",
     "output_type": "stream",
     "text": [
      "INSERT INTO parking_site (name, kind, parking_num, fare, lat, lng) VALUES ('3공단로25길인근', '노상', 6, '무료', 35.89777007, 128.5654103);\n",
      "INSERT INTO parking_site (name, kind, parking_num, fare, lat, lng) VALUES ('3공단로인근', '노상', 329, '무료', 35.89947054, 128.5698535);\n",
      "INSERT INTO parking_site (name, kind, parking_num, fare, lat, lng) VALUES ('검단동로인근', '노상', 29, '무료', 35.9139494, 128.6251348);\n",
      "INSERT INTO parking_site (name, kind, parking_num, fare, lat, lng) VALUES ('경대로17길인근', '노상', 78, '무료', 35.8927398, 128.6127204);\n",
      "INSERT INTO parking_site (name, kind, parking_num, fare, lat, lng) VALUES ('경대로23길인근', '노상', 5, '무료', 35.892602, 128.6160212);\n",
      "INSERT INTO parking_site (name, kind, parking_num, fare, lat, lng) VALUES ('경대로27길인근', '노상', 8, '무료', 35.89380025, 128.6173543);\n",
      "INSERT INTO parking_site (name, kind, parking_num, fare, lat, lng) VALUES ('경대로5길인근', '노상', 33, '무료', 35.88474855, 128.6131925);\n",
      "INSERT INTO parking_site (name, kind, parking_num, fare, lat, lng) VALUES ('경대로7길인근', '노상', 19, '무료', 35.8858208, 128.6072941);\n",
      "INSERT INTO parking_site (name, kind, parking_num, fare, lat, lng) VALUES ('경대북문건너', '노상', 46, '유료', 35.891244, 128.6062891);\n",
      "INSERT INTO parking_site (name, kind, parking_num, fare, lat, lng) VALUES ('경진로1길인근', '노상', 15, '무료', 35.8945826, 128.6188058);\n",
      "INSERT INTO parking_site (name, kind, parking_num, fare, lat, lng) VALUES ('경진로남1길인근', '노상', 17, '무료', 35.89378323, 128.616552);\n",
      "INSERT INTO parking_site (name, kind, parking_num, fare, lat, lng) VALUES ('경진로인근', '노상', 92, '무료', 35.89526277, 128.6213799);\n",
      "INSERT INTO parking_site (name, kind, parking_num, fare, lat, lng) VALUES ('고성로34길인근', '노상', 9, '무료', 35.88013585, 128.5850979);\n",
      "INSERT INTO parking_site (name, kind, parking_num, fare, lat, lng) VALUES ('고성로37길인근', '노상', 57, '무료', 35.8816737, 128.5874162);\n",
      "INSERT INTO parking_site (name, kind, parking_num, fare, lat, lng) VALUES ('고성북로10길인근', '노상', 15, '무료', 35.8824546, 128.5826776);\n",
      "INSERT INTO parking_site (name, kind, parking_num, fare, lat, lng) VALUES ('고성북로1인근', '노상', 65, '무료', 35.88408994, 128.5841447);\n",
      "INSERT INTO parking_site (name, kind, parking_num, fare, lat, lng) VALUES ('고성북로2인근', '노상', 87, '무료', 35.88408994, 128.5841447);\n",
      "INSERT INTO parking_site (name, kind, parking_num, fare, lat, lng) VALUES ('관은동로32길인근', '노상', 27, '무료', 35.94592832, 128.5477642);\n",
      "INSERT INTO parking_site (name, kind, parking_num, fare, lat, lng) VALUES ('관음동로13길인근', '노상', 43, '무료', 35.93854663, 128.5457736);\n",
      "INSERT INTO parking_site (name, kind, parking_num, fare, lat, lng) VALUES ('관음동로31길인근', '노상', 6, '무료', 35.94531367, 128.546175);\n",
      "INSERT INTO parking_site (name, kind, parking_num, fare, lat, lng) VALUES ('관음동로9길인근', '노상', 8, '무료', 35.93739551, 128.5452115);\n",
      "INSERT INTO parking_site (name, kind, parking_num, fare, lat, lng) VALUES ('관음동로인근', '노상', 9, '무료', 35.94232272, 128.5478391);\n",
      "INSERT INTO parking_site (name, kind, parking_num, fare, lat, lng) VALUES ('관음중앙로17길인근', '노상', 26, '무료', 35.94453219, 128.5436091);\n",
      "INSERT INTO parking_site (name, kind, parking_num, fare, lat, lng) VALUES ('관음중앙로21길인근', '노상', 75, '무료', 35.94460696, 128.5450063);\n",
      "INSERT INTO parking_site (name, kind, parking_num, fare, lat, lng) VALUES ('관음중앙로28길인근', '노상', 60, '무료', 35.9423983, 128.5469196);\n",
      "INSERT INTO parking_site (name, kind, parking_num, fare, lat, lng) VALUES ('관음중앙로7길인근', '노상', 11, '무료', 35.9381848, 128.5429619);\n",
      "INSERT INTO parking_site (name, kind, parking_num, fare, lat, lng) VALUES ('관음중앙로인근', '노상', 62, '무료', 35.9342516, 128.5457551);\n",
      "INSERT INTO parking_site (name, kind, parking_num, fare, lat, lng) VALUES ('구암로15길인근', '노상', 43, '무료', 35.93539165, 128.5497971);\n",
      "INSERT INTO parking_site (name, kind, parking_num, fare, lat, lng) VALUES ('구암로16길인근', '노상', 20, '무료', 35.9314973, 128.5491657);\n",
      "INSERT INTO parking_site (name, kind, parking_num, fare, lat, lng) VALUES ('구암로17길인근', '노상', 37, '무료', 35.93396329, 128.5507292);\n",
      "INSERT INTO parking_site (name, kind, parking_num, fare, lat, lng) VALUES ('구암로인근', '노상', 40, '무료', 35.93172976, 128.5639126);\n",
      "INSERT INTO parking_site (name, kind, parking_num, fare, lat, lng) VALUES ('노곡로인근', '노상', 20, '무료', 35.90536223, 128.5628498);\n",
      "INSERT INTO parking_site (name, kind, parking_num, fare, lat, lng) VALUES ('노원네거리(북편)', '노상', 22, '무료', 35.89919158, 128.5865678);\n",
      "INSERT INTO parking_site (name, kind, parking_num, fare, lat, lng) VALUES ('노원동로7길', '노상', 11, '무료', 35.89538603, 128.575828);\n",
      "INSERT INTO parking_site (name, kind, parking_num, fare, lat, lng) VALUES ('노원동로인근(수성전기재료백화점)', '노상', 37, '유료', 35.89345536, 128.5762127);\n",
      "INSERT INTO parking_site (name, kind, parking_num, fare, lat, lng) VALUES ('노원로10길(대구산업-노원새마을금고)', '노상', 102, '유료', 35.88867297, 128.5696997);\n",
      "INSERT INTO parking_site (name, kind, parking_num, fare, lat, lng) VALUES ('노원로10길인근', '노상', 3, '무료', 35.88867297, 128.5696997);\n",
      "INSERT INTO parking_site (name, kind, parking_num, fare, lat, lng) VALUES ('노원로17길인근', '노상', 37, '무료', 35.8898311, 128.5610742);\n",
      "INSERT INTO parking_site (name, kind, parking_num, fare, lat, lng) VALUES ('노원로25길인근', '노상', 41, '무료', 35.8951542, 128.5718172);\n",
      "INSERT INTO parking_site (name, kind, parking_num, fare, lat, lng) VALUES ('노원로40길인근', '노상', 12, '무료', 35.89919158, 128.5865678);\n",
      "INSERT INTO parking_site (name, kind, parking_num, fare, lat, lng) VALUES ('노원로9길인근', '노상', 58, '무료', 35.89447588, 128.5675754);\n",
      "INSERT INTO parking_site (name, kind, parking_num, fare, lat, lng) VALUES ('노원로인근1', '노상', 14, '유료', 35.8898311, 128.5610742);\n",
      "INSERT INTO parking_site (name, kind, parking_num, fare, lat, lng) VALUES ('노원로인근2', '노상', 40, '유료', 35.8898311, 128.5610742);\n",
      "INSERT INTO parking_site (name, kind, parking_num, fare, lat, lng) VALUES ('노원로인근3', '노상', 38, '무료', 35.8898311, 128.5610742);\n",
      "INSERT INTO parking_site (name, kind, parking_num, fare, lat, lng) VALUES ('노원로인근4', '노상', 41, '무료', 35.8898311, 128.5610742);\n",
      "INSERT INTO parking_site (name, kind, parking_num, fare, lat, lng) VALUES ('대구역북편', '노상', 23, '무료', 35.87758404, 128.5962867);\n",
      "INSERT INTO parking_site (name, kind, parking_num, fare, lat, lng) VALUES ('대구체육관로10길인근', '노상', 14, '무료', 35.8914535, 128.6038566);\n",
      "INSERT INTO parking_site (name, kind, parking_num, fare, lat, lng) VALUES ('대구체육관로11길인근', '노상', 17, '무료', 35.8932259, 128.6044904);\n",
      "INSERT INTO parking_site (name, kind, parking_num, fare, lat, lng) VALUES ('대구체육관로9길인근', '노상', 41, '무료', 35.89375613, 128.6030093);\n",
      "INSERT INTO parking_site (name, kind, parking_num, fare, lat, lng) VALUES ('대구체육관로인근', '노상', 5, '무료', 35.8902659, 128.6010649);\n",
      "INSERT INTO parking_site (name, kind, parking_num, fare, lat, lng) VALUES ('대동로4길인근', '노상', 8, '무료', 35.89104648, 128.6059248);\n",
      "INSERT INTO parking_site (name, kind, parking_num, fare, lat, lng) VALUES ('대동로8길인근', '노상', 12, '무료', 35.89652368, 128.610032);\n",
      "INSERT INTO parking_site (name, kind, parking_num, fare, lat, lng) VALUES ('대동로9길인근', '노상', 13, '무료', 35.89720335, 128.6110785);\n",
      "INSERT INTO parking_site (name, kind, parking_num, fare, lat, lng) VALUES ('대불로5길인근', '노상', 14, '무료', 35.90263622, 128.6114859);\n",
      "INSERT INTO parking_site (name, kind, parking_num, fare, lat, lng) VALUES ('대천로7길인근', '노상', 7, '무료', 35.9403671, 128.5536665);\n",
      "INSERT INTO parking_site (name, kind, parking_num, fare, lat, lng) VALUES ('대천로9길인근', '노상', 28, '무료', 35.93916208, 128.5550213);\n",
      "INSERT INTO parking_site (name, kind, parking_num, fare, lat, lng) VALUES ('대학로15길인근', '노상', 3, '무료', 35.89455585, 128.6088427);\n",
      "INSERT INTO parking_site (name, kind, parking_num, fare, lat, lng) VALUES ('대학로17길인근', '노상', 8, '무료', 35.89455585, 128.6088427);\n",
      "INSERT INTO parking_site (name, kind, parking_num, fare, lat, lng) VALUES ('대학로23길인근', '노상', 2, '무료', 35.89455585, 128.6088427);\n",
      "INSERT INTO parking_site (name, kind, parking_num, fare, lat, lng) VALUES ('대학로25길인근', '노상', 19, '무료', 35.89455585, 128.6088427);\n",
      "INSERT INTO parking_site (name, kind, parking_num, fare, lat, lng) VALUES ('대학로9길인근', '노상', 10, '무료', 35.8911286, 128.6063731);\n",
      "INSERT INTO parking_site (name, kind, parking_num, fare, lat, lng) VALUES ('대학로인근', '노상', 33, '무료', 35.89285578, 128.6098518);\n",
      "INSERT INTO parking_site (name, kind, parking_num, fare, lat, lng) VALUES ('대현남로8길인근', '노상', 15, '무료', 35.88180651, 128.6097638);\n",
      "INSERT INTO parking_site (name, kind, parking_num, fare, lat, lng) VALUES ('대현남로9길인근', '노상', 14, '무료', 35.88180651, 128.6097638);\n",
      "INSERT INTO parking_site (name, kind, parking_num, fare, lat, lng) VALUES ('대현로10길인근', '노상', 5, '무료', 35.88260472, 128.6034237);\n",
      "INSERT INTO parking_site (name, kind, parking_num, fare, lat, lng) VALUES ('대현로13길인근', '노상', 14, '무료', 35.88659565, 128.6055917);\n",
      "INSERT INTO parking_site (name, kind, parking_num, fare, lat, lng) VALUES ('대현로19길인근', '노상', 80, '무료', 35.88629636, 128.6112825);\n",
      "INSERT INTO parking_site (name, kind, parking_num, fare, lat, lng) VALUES ('대현로21길인근', '노상', 30, '무료', 35.88388222, 128.6110091);\n",
      "INSERT INTO parking_site (name, kind, parking_num, fare, lat, lng) VALUES ('대현로3길인근', '노상', 9, '무료', 35.88713607, 128.6038791);\n",
      "INSERT INTO parking_site (name, kind, parking_num, fare, lat, lng) VALUES ('대현로9길인근', '노상', 38, '무료', 35.88909849, 128.6143217);\n",
      "INSERT INTO parking_site (name, kind, parking_num, fare, lat, lng) VALUES ('대현로서15길인근', '노상', 31, '무료', 35.88659565, 128.6055917);\n",
      "INSERT INTO parking_site (name, kind, parking_num, fare, lat, lng) VALUES ('동북로26길인근', '노상', 14, '무료', 35.90068702, 128.6066299);\n",
      "INSERT INTO parking_site (name, kind, parking_num, fare, lat, lng) VALUES ('동북로37길인근', '노상', 17, '무료', 35.9004714, 128.613574);\n",
      "INSERT INTO parking_site (name, kind, parking_num, fare, lat, lng) VALUES ('동북로50길인근', '노상', 10, '무료', 35.89526277, 128.6213799);\n",
      "INSERT INTO parking_site (name, kind, parking_num, fare, lat, lng) VALUES ('동북로53길인근', '노상', 37, '무료', 35.89461348, 128.6220753);\n",
      "INSERT INTO parking_site (name, kind, parking_num, fare, lat, lng) VALUES ('동북로55길인근', '노상', 10, '무료', 35.89526277, 128.6213799);\n",
      "INSERT INTO parking_site (name, kind, parking_num, fare, lat, lng) VALUES ('동북로57길인근', '노상', 39, '무료', 35.89526277, 128.6213799);\n",
      "INSERT INTO parking_site (name, kind, parking_num, fare, lat, lng) VALUES ('동암로7길인근', '노상', 47, '무료', 35.94597857, 128.5544706);\n",
      "INSERT INTO parking_site (name, kind, parking_num, fare, lat, lng) VALUES ('동천교인근', '노상', 19, '무료', 35.93168424, 128.5550631);\n",
      "INSERT INTO parking_site (name, kind, parking_num, fare, lat, lng) VALUES ('백사벌네거리(남편)', '노상', 56, '무료', 35.89919158, 128.5865678);\n",
      "INSERT INTO parking_site (name, kind, parking_num, fare, lat, lng) VALUES ('백사벌네거리(북편)', '노상', 23, '무료', 35.89919158, 128.5865678);\n",
      "INSERT INTO parking_site (name, kind, parking_num, fare, lat, lng) VALUES ('복현로북2길인근', '노상', 14, '무료', 35.89526277, 128.6213799);\n",
      "INSERT INTO parking_site (name, kind, parking_num, fare, lat, lng) VALUES ('북구청인근', '노상', 39, '유료', 35.88809698, 128.582742);\n",
      "INSERT INTO parking_site (name, kind, parking_num, fare, lat, lng) VALUES ('북부소방서뒤편', '노상', 24, '무료', 35.87750286, 128.5926647);\n",
      "INSERT INTO parking_site (name, kind, parking_num, fare, lat, lng) VALUES ('북침산네거리(북편)', '노상', 16, '무료', 35.89347056, 128.5897599);\n",
      "INSERT INTO parking_site (name, kind, parking_num, fare, lat, lng) VALUES ('산격로10길인근', '노상', 10, '무료', 35.89455585, 128.6088427);\n",
      "INSERT INTO parking_site (name, kind, parking_num, fare, lat, lng) VALUES ('산격로13길인근', '노상', 3, '무료', 35.89722774, 128.6027042);\n",
      "INSERT INTO parking_site (name, kind, parking_num, fare, lat, lng) VALUES ('산격로19길인근', '노상', 7, '무료', 35.89104648, 128.6059248);\n",
      "INSERT INTO parking_site (name, kind, parking_num, fare, lat, lng) VALUES ('산격로8길인근', '노상', 15, '무료', 35.89455585, 128.6088427);\n",
      "INSERT INTO parking_site (name, kind, parking_num, fare, lat, lng) VALUES ('산격로9길인근', '노상', 24, '무료', 35.89493084, 128.6042043);\n",
      "INSERT INTO parking_site (name, kind, parking_num, fare, lat, lng) VALUES ('성북로13길인근', '노상', 10, '무료', 35.89216791, 128.590725);\n",
      "INSERT INTO parking_site (name, kind, parking_num, fare, lat, lng) VALUES ('성북로5길인근', '노상', 134, '무료', 35.89496634, 128.5880098);\n",
      "INSERT INTO parking_site (name, kind, parking_num, fare, lat, lng) VALUES ('성북로9길인근', '노상', 39, '무료', 35.89145827, 128.5884047);\n",
      "INSERT INTO parking_site (name, kind, parking_num, fare, lat, lng) VALUES ('시체육회앞', '노상', 59, '유료', 35.88301806, 128.5861564);\n",
      "INSERT INTO parking_site (name, kind, parking_num, fare, lat, lng) VALUES ('신천교', '노상', 27, '유료', 35.87980685, 128.6023836);\n",
      "INSERT INTO parking_site (name, kind, parking_num, fare, lat, lng) VALUES ('신천교고가도로밑', '노상', 46, '유료', 35.87512466, 128.608594);\n",
      "INSERT INTO parking_site (name, kind, parking_num, fare, lat, lng) VALUES ('신천동로(대현동)', '노상', 11, '무료', 35.88441248, 128.6024075);\n",
      "INSERT INTO parking_site (name, kind, parking_num, fare, lat, lng) VALUES ('신천동로146길인근', '노상', 12, '무료', 35.88441248, 128.6024075);\n",
      "INSERT INTO parking_site (name, kind, parking_num, fare, lat, lng) VALUES ('신천동로148길인근', '노상', 15, '무료', 35.88441248, 128.6024075);\n",
      "INSERT INTO parking_site (name, kind, parking_num, fare, lat, lng) VALUES ('연암공원로10길인근', '노상', 16, '무료', 35.8944331, 128.6010214);\n",
      "INSERT INTO parking_site (name, kind, parking_num, fare, lat, lng) VALUES ('연암공원로14길인근', '노상', 10, '무료', 35.89700877, 128.6014397);\n",
      "INSERT INTO parking_site (name, kind, parking_num, fare, lat, lng) VALUES ('연암공원로28길인근', '노상', 4, '무료', 35.89104648, 128.6059248);\n",
      "INSERT INTO parking_site (name, kind, parking_num, fare, lat, lng) VALUES ('연암공원로32길인근', '노상', 34, '무료', 35.90140838, 128.6065689);\n",
      "INSERT INTO parking_site (name, kind, parking_num, fare, lat, lng) VALUES ('연암공원로인근', '노상', 15, '무료', 35.89179162, 128.5957289);\n",
      "INSERT INTO parking_site (name, kind, parking_num, fare, lat, lng) VALUES ('연암로인근', '노상', 48, '무료', 35.89653618, 128.5950001);\n",
      "INSERT INTO parking_site (name, kind, parking_num, fare, lat, lng) VALUES ('영송로인근', '노상', 8, '무료', 35.92990667, 128.5449716);\n",
      "INSERT INTO parking_site (name, kind, parking_num, fare, lat, lng) VALUES ('오봉로10길인근', '노상', 13, '무료', 35.88989334, 128.5784575);\n",
      "INSERT INTO parking_site (name, kind, parking_num, fare, lat, lng) VALUES ('오봉로1길인근', '노상', 12, '무료', 35.88867297, 128.5696997);\n",
      "INSERT INTO parking_site (name, kind, parking_num, fare, lat, lng) VALUES ('오봉로1길인근(보성아파트)', '노상', 11, '무료', 35.88867297, 128.5696997);\n",
      "INSERT INTO parking_site (name, kind, parking_num, fare, lat, lng) VALUES ('오봉로3길인근', '노상', 10, '무료', 35.88867297, 128.5696997);\n",
      "INSERT INTO parking_site (name, kind, parking_num, fare, lat, lng) VALUES ('오봉로6길인근', '노상', 18, '무료', 35.88989334, 128.5784575);\n",
      "INSERT INTO parking_site (name, kind, parking_num, fare, lat, lng) VALUES ('오봉로7길인근', '노상', 19, '무료', 35.88867297, 128.5696997);\n",
      "INSERT INTO parking_site (name, kind, parking_num, fare, lat, lng) VALUES ('오봉로인근', '노상', 135, '유료', 35.89867951, 128.5788096);\n",
      "INSERT INTO parking_site (name, kind, parking_num, fare, lat, lng) VALUES ('옥산로3길인근', '노상', 10, '무료', 35.88754215, 128.5781967);\n",
      "INSERT INTO parking_site (name, kind, parking_num, fare, lat, lng) VALUES ('옥산로5길인근', '노상', 28, '무료', 35.88662726, 128.5810034);\n",
      "INSERT INTO parking_site (name, kind, parking_num, fare, lat, lng) VALUES ('옥산로9길인근', '노상', 28, '무료', 35.88802114, 128.581656);\n",
      "INSERT INTO parking_site (name, kind, parking_num, fare, lat, lng) VALUES ('옥산로인근(북구)', '노상', 25, '무료', 35.88408994, 128.5841447);\n",
      "INSERT INTO parking_site (name, kind, parking_num, fare, lat, lng) VALUES ('원대로19길인근', '노상', 25, '무료', 35.88623316, 128.580491);\n",
      "INSERT INTO parking_site (name, kind, parking_num, fare, lat, lng) VALUES ('원대로21길인근', '노상', 12, '무료', 35.88662726, 128.5810034);\n",
      "INSERT INTO parking_site (name, kind, parking_num, fare, lat, lng) VALUES ('원대로23길인근', '노상', 4, '무료', 35.88797474, 128.5800717);\n",
      "INSERT INTO parking_site (name, kind, parking_num, fare, lat, lng) VALUES ('원대로25길인근', '노상', 31, '무료', 35.88846132, 128.5819583);\n",
      "INSERT INTO parking_site (name, kind, parking_num, fare, lat, lng) VALUES ('유통단지로21길인근', '노상', 42, '무료', 35.90868017, 128.6104761);\n",
      "INSERT INTO parking_site (name, kind, parking_num, fare, lat, lng) VALUES ('중앙대로105길인근', '노상', 17, '무료', 35.88053131, 128.5944814);\n",
      "INSERT INTO parking_site (name, kind, parking_num, fare, lat, lng) VALUES ('중앙대로118길인근', '노상', 19, '무료', 35.88338799, 128.5987608);\n",
      "INSERT INTO parking_site (name, kind, parking_num, fare, lat, lng) VALUES ('지하철대구역인근', '노상', 9, '무료', 35.87604689, 128.599077);\n",
      "INSERT INTO parking_site (name, kind, parking_num, fare, lat, lng) VALUES ('청운로인근', '노상', 7, '무료', 35.89059993, 128.5869916);\n",
      "INSERT INTO parking_site (name, kind, parking_num, fare, lat, lng) VALUES ('칠곡중앙대로105길인근', '노상', 75, '무료', 35.94402173, 128.5488151);\n",
      "INSERT INTO parking_site (name, kind, parking_num, fare, lat, lng) VALUES ('칠곡중앙대로75길인근', '노상', 15, '무료', 35.92943275, 128.5461208);\n",
      "INSERT INTO parking_site (name, kind, parking_num, fare, lat, lng) VALUES ('칠곡중앙대로77길인근', '노상', 73, '무료', 35.93092533, 128.5449343);\n",
      "INSERT INTO parking_site (name, kind, parking_num, fare, lat, lng) VALUES ('칠곡중앙대로80길인근', '노상', 30, '무료', 35.9303755, 128.5508483);\n",
      "INSERT INTO parking_site (name, kind, parking_num, fare, lat, lng) VALUES ('칠곡중앙대로86길인근', '노상', 39, '무료', 35.93325493, 128.5518879);\n",
      "INSERT INTO parking_site (name, kind, parking_num, fare, lat, lng) VALUES ('칠곡중앙대로91길인근', '노상', 17, '무료', 35.93709063, 128.5448659);\n",
      "INSERT INTO parking_site (name, kind, parking_num, fare, lat, lng) VALUES ('칠곡중앙대로인근', '노상', 56, '무료', 35.94506549, 128.5511611);\n",
      "INSERT INTO parking_site (name, kind, parking_num, fare, lat, lng) VALUES ('칠성공구상가앞', '노상', 8, '유료', 35.8748935, 128.6070788);\n",
      "INSERT INTO parking_site (name, kind, parking_num, fare, lat, lng) VALUES ('칠성교북편', '노상', 10, '무료', 35.87736564, 128.6056874);\n",
      "INSERT INTO parking_site (name, kind, parking_num, fare, lat, lng) VALUES ('칠성꽃시장', '노상', 23, '유료', 35.87664626, 128.5950555);\n",
      "INSERT INTO parking_site (name, kind, parking_num, fare, lat, lng) VALUES ('칠성남로16길인근', '노상', 61, '무료', 35.87750286, 128.5926647);\n",
      "INSERT INTO parking_site (name, kind, parking_num, fare, lat, lng) VALUES ('칠성남로2길인근', '노상', 71, '무료', 35.87815117, 128.5854598);\n",
      "INSERT INTO parking_site (name, kind, parking_num, fare, lat, lng) VALUES ('칠성남로31길인근', '노상', 6, '무료', 35.8773027, 128.5987311);\n",
      "INSERT INTO parking_site (name, kind, parking_num, fare, lat, lng) VALUES ('칠성남로인근(고성동)', '노상', 102, '무료', 35.8798762, 128.5828921);\n",
      "INSERT INTO parking_site (name, kind, parking_num, fare, lat, lng) VALUES ('칠성농협앞', '노상', 30, '유료', 35.8766329, 128.6035994);\n",
      "INSERT INTO parking_site (name, kind, parking_num, fare, lat, lng) VALUES ('칠성로17길인근', '노상', 32, '무료', 35.88175275, 128.5971708);\n",
      "INSERT INTO parking_site (name, kind, parking_num, fare, lat, lng) VALUES ('칠성시장고가도로밑', '노상', 76, '유료', 35.8843224, 128.6006014);\n",
      "INSERT INTO parking_site (name, kind, parking_num, fare, lat, lng) VALUES ('칠성시장광로', '노상', 37, '유료', 35.88022495, 128.601689);\n",
      "INSERT INTO parking_site (name, kind, parking_num, fare, lat, lng) VALUES ('칠성시장남편', '노상', 39, '유료', 35.8748935, 128.6070788);\n",
      "INSERT INTO parking_site (name, kind, parking_num, fare, lat, lng) VALUES ('칠성시장동편', '노상', 16, '유료', 35.8748935, 128.6070788);\n",
      "INSERT INTO parking_site (name, kind, parking_num, fare, lat, lng) VALUES ('칠성시장방범초소', '노상', 24, '유료', 35.87915714, 128.6025337);\n",
      "INSERT INTO parking_site (name, kind, parking_num, fare, lat, lng) VALUES ('칠성시장북편', '노상', 9, '유료', 35.8748935, 128.6070788);\n",
      "INSERT INTO parking_site (name, kind, parking_num, fare, lat, lng) VALUES ('칠성시장서편도로', '노상', 30, '유료', 35.87718878, 128.6014334);\n",
      "INSERT INTO parking_site (name, kind, parking_num, fare, lat, lng) VALUES ('칠성전자상가앞', '노상', 7, '유료', 35.8748935, 128.6070788);\n",
      "INSERT INTO parking_site (name, kind, parking_num, fare, lat, lng) VALUES ('침산남로31길인근', '노상', 14, '무료', 35.88869225, 128.5929184);\n",
      "INSERT INTO parking_site (name, kind, parking_num, fare, lat, lng) VALUES ('침산남로39길인근', '노상', 18, '무료', 35.8872637, 128.596993);\n",
      "INSERT INTO parking_site (name, kind, parking_num, fare, lat, lng) VALUES ('침산남로9길인근', '노상', 10, '무료', 35.8938443, 128.5833779);\n",
      "INSERT INTO parking_site (name, kind, parking_num, fare, lat, lng) VALUES ('침산로40길인근', '노상', 4, '무료', 35.89371938, 128.5900286);\n",
      "INSERT INTO parking_site (name, kind, parking_num, fare, lat, lng) VALUES ('침산로42길인근', '노상', 7, '무료', 35.89462057, 128.5900122);\n",
      "INSERT INTO parking_site (name, kind, parking_num, fare, lat, lng) VALUES ('침산로46길인근', '노상', 3, '무료', 35.8965438, 128.5890978);\n",
      "INSERT INTO parking_site (name, kind, parking_num, fare, lat, lng) VALUES ('침산로48길인근', '노상', 10, '무료', 35.89698438, 128.5900278);\n",
      "INSERT INTO parking_site (name, kind, parking_num, fare, lat, lng) VALUES ('침산로인근', '노상', 30, '무료', 35.9015759, 128.5860551);\n",
      "INSERT INTO parking_site (name, kind, parking_num, fare, lat, lng) VALUES ('태암교(동편)', '노상', 39, '무료', 35.92779327, 128.5557174);\n",
      "INSERT INTO parking_site (name, kind, parking_num, fare, lat, lng) VALUES ('태암교(서편)', '노상', 49, '무료', 35.92862298, 128.5497501);\n",
      "INSERT INTO parking_site (name, kind, parking_num, fare, lat, lng) VALUES ('태암남로1길인근', '노상', 25, '무료', 35.92761837, 128.5486904);\n",
      "INSERT INTO parking_site (name, kind, parking_num, fare, lat, lng) VALUES ('태암로1길인근', '노상', 8, '무료', 35.92968303, 128.5485495);\n",
      "INSERT INTO parking_site (name, kind, parking_num, fare, lat, lng) VALUES ('태암로2길인근', '노상', 31, '무료', 35.92769255, 128.5482365);\n",
      "INSERT INTO parking_site (name, kind, parking_num, fare, lat, lng) VALUES ('태암로3길인근', '노상', 41, '무료', 35.92905631, 128.549598);\n",
      "INSERT INTO parking_site (name, kind, parking_num, fare, lat, lng) VALUES ('태암로4길인근', '노상', 25, '무료', 35.92757107, 128.5491776);\n",
      "INSERT INTO parking_site (name, kind, parking_num, fare, lat, lng) VALUES ('태암로5길인근', '노상', 33, '무료', 35.92945364, 128.551396);\n",
      "INSERT INTO parking_site (name, kind, parking_num, fare, lat, lng) VALUES ('태암로6길인근', '노상', 42, '무료', 35.92732892, 128.5497322);\n",
      "INSERT INTO parking_site (name, kind, parking_num, fare, lat, lng) VALUES ('팔거천서로35길인근', '노상', 35, '무료', 35.94037563, 128.5565536);\n",
      "INSERT INTO parking_site (name, kind, parking_num, fare, lat, lng) VALUES ('팔거천서로인근', '노상', 52, '무료', 35.92661052, 128.5503013);\n",
      "INSERT INTO parking_site (name, kind, parking_num, fare, lat, lng) VALUES ('팔달로37길인근', '노상', 27, '무료', 35.88867297, 128.5696997);\n",
      "INSERT INTO parking_site (name, kind, parking_num, fare, lat, lng) VALUES ('팔달로41길인근', '노상', 90, '무료', 35.88867297, 128.5696997);\n",
      "INSERT INTO parking_site (name, kind, parking_num, fare, lat, lng) VALUES ('팔달북로2길인근', '노상', 21, '무료', 35.8898311, 128.5610742);\n",
      "INSERT INTO parking_site (name, kind, parking_num, fare, lat, lng) VALUES ('팔달북로3길인근', '노상', 68, '무료', 35.8898311, 128.5610742);\n",
      "INSERT INTO parking_site (name, kind, parking_num, fare, lat, lng) VALUES ('팔달북로7길인근', '노상', 41, '무료', 35.8898311, 128.5610742);\n",
      "INSERT INTO parking_site (name, kind, parking_num, fare, lat, lng) VALUES ('팔달북로인근', '노상', 100, '무료', 35.8929865, 128.5591288);\n",
      "INSERT INTO parking_site (name, kind, parking_num, fare, lat, lng) VALUES ('풍국면앞', '노상', 16, '유료', 35.8898311, 128.5610742);\n",
      "INSERT INTO parking_site (name, kind, parking_num, fare, lat, lng) VALUES ('한국농촌공사', '노상', 30, '유료', 35.9313747, 128.557711);\n",
      "INSERT INTO parking_site (name, kind, parking_num, fare, lat, lng) VALUES ('힘나라2길인근', '노상', 43, '무료', 35.8898311, 128.5610742);\n",
      "INSERT INTO parking_site (name, kind, parking_num, fare, lat, lng) VALUES ('1·2', '노외', 50, '유료', 35.87750098, 128.5952941);\n",
      "INSERT INTO parking_site (name, kind, parking_num, fare, lat, lng) VALUES ('EXPO', '노외', 18, '유료', 35.89229316, 128.6212091);\n",
      "INSERT INTO parking_site (name, kind, parking_num, fare, lat, lng) VALUES ('RGB Tower', '노외', 52, '유료', 35.94355567, 128.5599291);\n",
      "INSERT INTO parking_site (name, kind, parking_num, fare, lat, lng) VALUES ('강북', '노외', 16, '유료', 35.93131704, 128.5559931);\n",
      "INSERT INTO parking_site (name, kind, parking_num, fare, lat, lng) VALUES ('경명여고앞', '노외', 40, '무료', 35.88072859, 128.5984327);\n",
      "INSERT INTO parking_site (name, kind, parking_num, fare, lat, lng) VALUES ('공단', '노외', 34, '유료', 35.89622155, 128.5726379);\n",
      "INSERT INTO parking_site (name, kind, parking_num, fare, lat, lng) VALUES ('관음(공영)', '노외', 169, '유료', 35.94104819, 128.5446936);\n",
      "INSERT INTO parking_site (name, kind, parking_num, fare, lat, lng) VALUES ('관음동 1255-14공영', '노외', 6, '무료', 35.94386972, 128.5446022);\n",
      "INSERT INTO parking_site (name, kind, parking_num, fare, lat, lng) VALUES ('관음동1275-27공영', '노외', 6, '무료', 35.94409921, 128.5456678);\n",
      "INSERT INTO parking_site (name, kind, parking_num, fare, lat, lng) VALUES ('관음동1284-5공영', '노외', 12, '무료', 35.94424575, 128.5471319);\n",
      "INSERT INTO parking_site (name, kind, parking_num, fare, lat, lng) VALUES ('구수산(공영)', '노외', 48, '무료', 35.9387852, 128.5524038);\n",
      "INSERT INTO parking_site (name, kind, parking_num, fare, lat, lng) VALUES ('구암동주민센터(공영)', '노외', 46, '무료', 35.9389234, 128.5660435);\n",
      "INSERT INTO parking_site (name, kind, parking_num, fare, lat, lng) VALUES ('노곡교남단1(공영)', '노외', 200, '무료', 35.90211005, 128.5663385);\n",
      "INSERT INTO parking_site (name, kind, parking_num, fare, lat, lng) VALUES ('노곡교남단2(공영)', '노외', 200, '무료', 35.90073053, 128.5645341);\n",
      "INSERT INTO parking_site (name, kind, parking_num, fare, lat, lng) VALUES ('노원(공영)', '노외', 82, '무료', 35.88820139, 128.5806918);\n",
      "INSERT INTO parking_site (name, kind, parking_num, fare, lat, lng) VALUES ('동변(공영)', '노외', 53, '무료', 35.9210095, 128.6033264);\n",
      "INSERT INTO parking_site (name, kind, parking_num, fare, lat, lng) VALUES ('동천동복합청사공영', '노외', 25, '무료', 35.93733721, 128.5581853);\n",
      "INSERT INTO parking_site (name, kind, parking_num, fare, lat, lng) VALUES ('동편업무지구(공영)', '노외', 123, '무료', 35.9077869, 128.6151458);\n",
      "INSERT INTO parking_site (name, kind, parking_num, fare, lat, lng) VALUES ('동호동(공영)', '노외', 10, '무료', 35.96363513, 128.5568502);\n",
      "INSERT INTO parking_site (name, kind, parking_num, fare, lat, lng) VALUES ('복현동임시공영주차장', '노외', 8, '무료', 35.90003894, 128.6222779);\n",
      "INSERT INTO parking_site (name, kind, parking_num, fare, lat, lng) VALUES ('북구문화회관앞(공영)', '노외', 110, '무료', 35.905774, 128.6160608);\n",
      "INSERT INTO parking_site (name, kind, parking_num, fare, lat, lng) VALUES ('산격(공영)', '노외', 43, '유료', 35.89796474, 128.6106083);\n",
      "INSERT INTO parking_site (name, kind, parking_num, fare, lat, lng) VALUES ('산격3동공영', '노외', 51, '유료', 35.89377121, 128.6053807);\n",
      "INSERT INTO parking_site (name, kind, parking_num, fare, lat, lng) VALUES ('산업용재관남편(공영)', '노외', 112, '무료', 35.9030285, 128.6070134);\n",
      "INSERT INTO parking_site (name, kind, parking_num, fare, lat, lng) VALUES ('서변1(공영)', '노외', 91, '유료', 35.9213327, 128.5970475);\n",
      "INSERT INTO parking_site (name, kind, parking_num, fare, lat, lng) VALUES ('서변2(공영)', '노외', 95, '유료', 35.9209007, 128.5971581);\n",
      "INSERT INTO parking_site (name, kind, parking_num, fare, lat, lng) VALUES ('서편업무지구(공영)', '노외', 105, '무료', 35.9040048, 128.6086279);\n",
      "INSERT INTO parking_site (name, kind, parking_num, fare, lat, lng) VALUES ('신기공원북편(공영)', '노외', 58, '무료', 35.9078387, 128.6083227);\n",
      "INSERT INTO parking_site (name, kind, parking_num, fare, lat, lng) VALUES ('신천둔치(공영)', '노외', 437, '유료', 35.87695466, 128.604501);\n",
      "INSERT INTO parking_site (name, kind, parking_num, fare, lat, lng) VALUES ('우편집중국서편(공영)', '노외', 29, '무료', 35.9102388, 128.612293);\n",
      "INSERT INTO parking_site (name, kind, parking_num, fare, lat, lng) VALUES ('읍내동임시공영', '노외', 10, '무료', 35.9528191, 128.5554145);\n",
      "INSERT INTO parking_site (name, kind, parking_num, fare, lat, lng) VALUES ('임시공영(공영청사부지)', '노외', 338, '무료', 35.94153605, 128.5657163);\n",
      "INSERT INTO parking_site (name, kind, parking_num, fare, lat, lng) VALUES ('임시공영(관음동)', '노외', 120, '무료', 35.94307205, 128.5420358);\n",
      "INSERT INTO parking_site (name, kind, parking_num, fare, lat, lng) VALUES ('임시공영(복현1동)1', '노외', 23, '무료', 35.89503549, 128.6140324);\n",
      "INSERT INTO parking_site (name, kind, parking_num, fare, lat, lng) VALUES ('임시공영(복현1동)2', '노외', 23, '무료', 35.8906191, 128.6162748);\n",
      "INSERT INTO parking_site (name, kind, parking_num, fare, lat, lng) VALUES ('임시공영(침산1동)', '노외', 17, '무료', 35.89532315, 128.5829465);\n",
      "INSERT INTO parking_site (name, kind, parking_num, fare, lat, lng) VALUES ('임시공영(팔달동)', '노외', 17, '무료', 35.89818443, 128.5512569);\n",
      "INSERT INTO parking_site (name, kind, parking_num, fare, lat, lng) VALUES ('전자관북편1(공영)', '노외', 107, '무료', 35.9077608, 128.605559);\n",
      "INSERT INTO parking_site (name, kind, parking_num, fare, lat, lng) VALUES ('전자관북편2(공영)', '노외', 104, '무료', 35.90621166, 128.6047681);\n",
      "INSERT INTO parking_site (name, kind, parking_num, fare, lat, lng) VALUES ('조야교남편(공영)', '노외', 74, '무료', 35.91200881, 128.5771953);\n",
      "INSERT INTO parking_site (name, kind, parking_num, fare, lat, lng) VALUES ('칠성(공영)', '노외', 165, '유료', 35.87610607, 128.6016615);\n",
      "INSERT INTO parking_site (name, kind, parking_num, fare, lat, lng) VALUES ('칠성동2가(공영)', '노외', 19, '무료', 35.879228, 128.600019);\n",
      "INSERT INTO parking_site (name, kind, parking_num, fare, lat, lng) VALUES ('태전1동임시공영', '노외', 11, '무료', 35.92703788, 128.5412594);\n",
      "INSERT INTO parking_site (name, kind, parking_num, fare, lat, lng) VALUES ('팔달신시장(공영)', '노외', 164, '유료', 35.89155443, 128.5660515);\n",
      "INSERT INTO parking_site (name, kind, parking_num, fare, lat, lng) VALUES ('패션센터남편(공영)', '노외', 66, '무료', 35.9061485, 128.6117408);\n",
      "INSERT INTO parking_site (name, kind, parking_num, fare, lat, lng) VALUES ('관음제2공영', '노외', 44, '유료', 35.94290709, 128.5462055);\n",
      "INSERT INTO parking_site (name, kind, parking_num, fare, lat, lng) VALUES ('무지개공영주차장', '노외', 51, '유료', 35.893295, 128.6085684);\n",
      "INSERT INTO parking_site (name, kind, parking_num, fare, lat, lng) VALUES ('복현장미공원 공영주차장', '노외', 96, '유료', 35.89336757, 128.6173123);\n",
      "INSERT INTO parking_site (name, kind, parking_num, fare, lat, lng) VALUES ('산격4동공영주차장', '노외', 63, '유료', 35.89900362, 128.606822);\n",
      "INSERT INTO parking_site (name, kind, parking_num, fare, lat, lng) VALUES ('운암지 공영주차장(노상)', '노상', 40, '유료', 35.931458, 128.563546);\n",
      "INSERT INTO parking_site (name, kind, parking_num, fare, lat, lng) VALUES ('운암지 공영주차장(노외)', '노외', 140, '유료', 35.931458, 128.563546);\n"
     ]
    }
   ],
   "source": [
    "for num in range(229):\n",
    "    sql = \"INSERT INTO parking_site (name, kind, parking_num, fare, lat, lng) VALUES ('{0}', '{1}', {2}, '{3}', {4}, {5});\".format(\n",
    "        (gov_parking.loc[num, \"주차장명\"]),\n",
    "        gov_parking.loc[num, \"주차장 유형\"],\n",
    "        gov_parking.loc[num, \"주차구획수\"],\n",
    "        gov_parking.loc[num, \"요금정보\"],\n",
    "        gov_parking.loc[num, \"경도\"],\n",
    "        gov_parking.loc[num, \"위도\"])\n",
    "    print(sql)"
   ],
   "metadata": {
    "collapsed": false,
    "pycharm": {
     "name": "#%%\n"
    }
   }
  },
  {
   "cell_type": "code",
   "execution_count": 35,
   "outputs": [
    {
     "name": "stdout",
     "output_type": "stream",
     "text": [
      "INSERT INTO parking_site (name, kind, parking_num, fare, lat, lng) VALUES ('3공단로25길인근', '노상', 6, '무료', 35.89777007, 128.5654103);\n",
      "INSERT INTO parking_site (name, kind, parking_num, fare, lat, lng) VALUES ('3공단로인근', '노상', 329, '무료', 35.89947054, 128.5698535);\n",
      "INSERT INTO parking_site (name, kind, parking_num, fare, lat, lng) VALUES ('검단동로인근', '노상', 29, '무료', 35.9139494, 128.6251348);\n",
      "INSERT INTO parking_site (name, kind, parking_num, fare, lat, lng) VALUES ('경대로17길인근', '노상', 78, '무료', 35.8927398, 128.6127204);\n",
      "INSERT INTO parking_site (name, kind, parking_num, fare, lat, lng) VALUES ('경대로23길인근', '노상', 5, '무료', 35.892602, 128.6160212);\n",
      "INSERT INTO parking_site (name, kind, parking_num, fare, lat, lng) VALUES ('경대로27길인근', '노상', 8, '무료', 35.89380025, 128.6173543);\n",
      "INSERT INTO parking_site (name, kind, parking_num, fare, lat, lng) VALUES ('경대로5길인근', '노상', 33, '무료', 35.88474855, 128.6131925);\n",
      "INSERT INTO parking_site (name, kind, parking_num, fare, lat, lng) VALUES ('경대로7길인근', '노상', 19, '무료', 35.8858208, 128.6072941);\n",
      "INSERT INTO parking_site (name, kind, parking_num, fare, lat, lng) VALUES ('경대북문건너', '노상', 46, '유료', 35.891244, 128.6062891);\n",
      "INSERT INTO parking_site (name, kind, parking_num, fare, lat, lng) VALUES ('경진로1길인근', '노상', 15, '무료', 35.8945826, 128.6188058);\n",
      "INSERT INTO parking_site (name, kind, parking_num, fare, lat, lng) VALUES ('경진로남1길인근', '노상', 17, '무료', 35.89378323, 128.616552);\n",
      "INSERT INTO parking_site (name, kind, parking_num, fare, lat, lng) VALUES ('경진로인근', '노상', 92, '무료', 35.89526277, 128.6213799);\n",
      "INSERT INTO parking_site (name, kind, parking_num, fare, lat, lng) VALUES ('고성로34길인근', '노상', 9, '무료', 35.88013585, 128.5850979);\n",
      "INSERT INTO parking_site (name, kind, parking_num, fare, lat, lng) VALUES ('고성로37길인근', '노상', 57, '무료', 35.8816737, 128.5874162);\n",
      "INSERT INTO parking_site (name, kind, parking_num, fare, lat, lng) VALUES ('고성북로10길인근', '노상', 15, '무료', 35.8824546, 128.5826776);\n",
      "INSERT INTO parking_site (name, kind, parking_num, fare, lat, lng) VALUES ('고성북로1인근', '노상', 65, '무료', 35.88408994, 128.5841447);\n",
      "INSERT INTO parking_site (name, kind, parking_num, fare, lat, lng) VALUES ('고성북로2인근', '노상', 87, '무료', 35.88408994, 128.5841447);\n",
      "INSERT INTO parking_site (name, kind, parking_num, fare, lat, lng) VALUES ('관은동로32길인근', '노상', 27, '무료', 35.94592832, 128.5477642);\n",
      "INSERT INTO parking_site (name, kind, parking_num, fare, lat, lng) VALUES ('관음동로13길인근', '노상', 43, '무료', 35.93854663, 128.5457736);\n",
      "INSERT INTO parking_site (name, kind, parking_num, fare, lat, lng) VALUES ('관음동로31길인근', '노상', 6, '무료', 35.94531367, 128.546175);\n",
      "INSERT INTO parking_site (name, kind, parking_num, fare, lat, lng) VALUES ('관음동로9길인근', '노상', 8, '무료', 35.93739551, 128.5452115);\n",
      "INSERT INTO parking_site (name, kind, parking_num, fare, lat, lng) VALUES ('관음동로인근', '노상', 9, '무료', 35.94232272, 128.5478391);\n",
      "INSERT INTO parking_site (name, kind, parking_num, fare, lat, lng) VALUES ('관음중앙로17길인근', '노상', 26, '무료', 35.94453219, 128.5436091);\n",
      "INSERT INTO parking_site (name, kind, parking_num, fare, lat, lng) VALUES ('관음중앙로21길인근', '노상', 75, '무료', 35.94460696, 128.5450063);\n",
      "INSERT INTO parking_site (name, kind, parking_num, fare, lat, lng) VALUES ('관음중앙로28길인근', '노상', 60, '무료', 35.9423983, 128.5469196);\n",
      "INSERT INTO parking_site (name, kind, parking_num, fare, lat, lng) VALUES ('관음중앙로7길인근', '노상', 11, '무료', 35.9381848, 128.5429619);\n",
      "INSERT INTO parking_site (name, kind, parking_num, fare, lat, lng) VALUES ('관음중앙로인근', '노상', 62, '무료', 35.9342516, 128.5457551);\n",
      "INSERT INTO parking_site (name, kind, parking_num, fare, lat, lng) VALUES ('구암로15길인근', '노상', 43, '무료', 35.93539165, 128.5497971);\n",
      "INSERT INTO parking_site (name, kind, parking_num, fare, lat, lng) VALUES ('구암로16길인근', '노상', 20, '무료', 35.9314973, 128.5491657);\n",
      "INSERT INTO parking_site (name, kind, parking_num, fare, lat, lng) VALUES ('구암로17길인근', '노상', 37, '무료', 35.93396329, 128.5507292);\n",
      "INSERT INTO parking_site (name, kind, parking_num, fare, lat, lng) VALUES ('구암로인근', '노상', 40, '무료', 35.93172976, 128.5639126);\n",
      "INSERT INTO parking_site (name, kind, parking_num, fare, lat, lng) VALUES ('노곡로인근', '노상', 20, '무료', 35.90536223, 128.5628498);\n",
      "INSERT INTO parking_site (name, kind, parking_num, fare, lat, lng) VALUES ('노원네거리(북편)', '노상', 22, '무료', 35.89919158, 128.5865678);\n",
      "INSERT INTO parking_site (name, kind, parking_num, fare, lat, lng) VALUES ('노원동로7길', '노상', 11, '무료', 35.89538603, 128.575828);\n",
      "INSERT INTO parking_site (name, kind, parking_num, fare, lat, lng) VALUES ('노원동로인근(수성전기재료백화점)', '노상', 37, '유료', 35.89345536, 128.5762127);\n",
      "INSERT INTO parking_site (name, kind, parking_num, fare, lat, lng) VALUES ('노원로10길(대구산업-노원새마을금고)', '노상', 102, '유료', 35.88867297, 128.5696997);\n",
      "INSERT INTO parking_site (name, kind, parking_num, fare, lat, lng) VALUES ('노원로10길인근', '노상', 3, '무료', 35.88867297, 128.5696997);\n",
      "INSERT INTO parking_site (name, kind, parking_num, fare, lat, lng) VALUES ('노원로17길인근', '노상', 37, '무료', 35.8898311, 128.5610742);\n",
      "INSERT INTO parking_site (name, kind, parking_num, fare, lat, lng) VALUES ('노원로25길인근', '노상', 41, '무료', 35.8951542, 128.5718172);\n",
      "INSERT INTO parking_site (name, kind, parking_num, fare, lat, lng) VALUES ('노원로40길인근', '노상', 12, '무료', 35.89919158, 128.5865678);\n",
      "INSERT INTO parking_site (name, kind, parking_num, fare, lat, lng) VALUES ('노원로9길인근', '노상', 58, '무료', 35.89447588, 128.5675754);\n",
      "INSERT INTO parking_site (name, kind, parking_num, fare, lat, lng) VALUES ('노원로인근1', '노상', 14, '유료', 35.8898311, 128.5610742);\n",
      "INSERT INTO parking_site (name, kind, parking_num, fare, lat, lng) VALUES ('노원로인근2', '노상', 40, '유료', 35.8898311, 128.5610742);\n",
      "INSERT INTO parking_site (name, kind, parking_num, fare, lat, lng) VALUES ('노원로인근3', '노상', 38, '무료', 35.8898311, 128.5610742);\n",
      "INSERT INTO parking_site (name, kind, parking_num, fare, lat, lng) VALUES ('노원로인근4', '노상', 41, '무료', 35.8898311, 128.5610742);\n",
      "INSERT INTO parking_site (name, kind, parking_num, fare, lat, lng) VALUES ('대구역북편', '노상', 23, '무료', 35.87758404, 128.5962867);\n",
      "INSERT INTO parking_site (name, kind, parking_num, fare, lat, lng) VALUES ('대구체육관로10길인근', '노상', 14, '무료', 35.8914535, 128.6038566);\n",
      "INSERT INTO parking_site (name, kind, parking_num, fare, lat, lng) VALUES ('대구체육관로11길인근', '노상', 17, '무료', 35.8932259, 128.6044904);\n",
      "INSERT INTO parking_site (name, kind, parking_num, fare, lat, lng) VALUES ('대구체육관로9길인근', '노상', 41, '무료', 35.89375613, 128.6030093);\n",
      "INSERT INTO parking_site (name, kind, parking_num, fare, lat, lng) VALUES ('대구체육관로인근', '노상', 5, '무료', 35.8902659, 128.6010649);\n",
      "INSERT INTO parking_site (name, kind, parking_num, fare, lat, lng) VALUES ('대동로4길인근', '노상', 8, '무료', 35.89104648, 128.6059248);\n",
      "INSERT INTO parking_site (name, kind, parking_num, fare, lat, lng) VALUES ('대동로8길인근', '노상', 12, '무료', 35.89652368, 128.610032);\n",
      "INSERT INTO parking_site (name, kind, parking_num, fare, lat, lng) VALUES ('대동로9길인근', '노상', 13, '무료', 35.89720335, 128.6110785);\n",
      "INSERT INTO parking_site (name, kind, parking_num, fare, lat, lng) VALUES ('대불로5길인근', '노상', 14, '무료', 35.90263622, 128.6114859);\n",
      "INSERT INTO parking_site (name, kind, parking_num, fare, lat, lng) VALUES ('대천로7길인근', '노상', 7, '무료', 35.9403671, 128.5536665);\n",
      "INSERT INTO parking_site (name, kind, parking_num, fare, lat, lng) VALUES ('대천로9길인근', '노상', 28, '무료', 35.93916208, 128.5550213);\n",
      "INSERT INTO parking_site (name, kind, parking_num, fare, lat, lng) VALUES ('대학로15길인근', '노상', 3, '무료', 35.89455585, 128.6088427);\n",
      "INSERT INTO parking_site (name, kind, parking_num, fare, lat, lng) VALUES ('대학로17길인근', '노상', 8, '무료', 35.89455585, 128.6088427);\n",
      "INSERT INTO parking_site (name, kind, parking_num, fare, lat, lng) VALUES ('대학로23길인근', '노상', 2, '무료', 35.89455585, 128.6088427);\n",
      "INSERT INTO parking_site (name, kind, parking_num, fare, lat, lng) VALUES ('대학로25길인근', '노상', 19, '무료', 35.89455585, 128.6088427);\n",
      "INSERT INTO parking_site (name, kind, parking_num, fare, lat, lng) VALUES ('대학로9길인근', '노상', 10, '무료', 35.8911286, 128.6063731);\n",
      "INSERT INTO parking_site (name, kind, parking_num, fare, lat, lng) VALUES ('대학로인근', '노상', 33, '무료', 35.89285578, 128.6098518);\n",
      "INSERT INTO parking_site (name, kind, parking_num, fare, lat, lng) VALUES ('대현남로8길인근', '노상', 15, '무료', 35.88180651, 128.6097638);\n",
      "INSERT INTO parking_site (name, kind, parking_num, fare, lat, lng) VALUES ('대현남로9길인근', '노상', 14, '무료', 35.88180651, 128.6097638);\n",
      "INSERT INTO parking_site (name, kind, parking_num, fare, lat, lng) VALUES ('대현로10길인근', '노상', 5, '무료', 35.88260472, 128.6034237);\n",
      "INSERT INTO parking_site (name, kind, parking_num, fare, lat, lng) VALUES ('대현로13길인근', '노상', 14, '무료', 35.88659565, 128.6055917);\n",
      "INSERT INTO parking_site (name, kind, parking_num, fare, lat, lng) VALUES ('대현로19길인근', '노상', 80, '무료', 35.88629636, 128.6112825);\n",
      "INSERT INTO parking_site (name, kind, parking_num, fare, lat, lng) VALUES ('대현로21길인근', '노상', 30, '무료', 35.88388222, 128.6110091);\n",
      "INSERT INTO parking_site (name, kind, parking_num, fare, lat, lng) VALUES ('대현로3길인근', '노상', 9, '무료', 35.88713607, 128.6038791);\n",
      "INSERT INTO parking_site (name, kind, parking_num, fare, lat, lng) VALUES ('대현로9길인근', '노상', 38, '무료', 35.88909849, 128.6143217);\n",
      "INSERT INTO parking_site (name, kind, parking_num, fare, lat, lng) VALUES ('대현로서15길인근', '노상', 31, '무료', 35.88659565, 128.6055917);\n",
      "INSERT INTO parking_site (name, kind, parking_num, fare, lat, lng) VALUES ('동북로26길인근', '노상', 14, '무료', 35.90068702, 128.6066299);\n",
      "INSERT INTO parking_site (name, kind, parking_num, fare, lat, lng) VALUES ('동북로37길인근', '노상', 17, '무료', 35.9004714, 128.613574);\n",
      "INSERT INTO parking_site (name, kind, parking_num, fare, lat, lng) VALUES ('동북로50길인근', '노상', 10, '무료', 35.89526277, 128.6213799);\n",
      "INSERT INTO parking_site (name, kind, parking_num, fare, lat, lng) VALUES ('동북로53길인근', '노상', 37, '무료', 35.89461348, 128.6220753);\n",
      "INSERT INTO parking_site (name, kind, parking_num, fare, lat, lng) VALUES ('동북로55길인근', '노상', 10, '무료', 35.89526277, 128.6213799);\n",
      "INSERT INTO parking_site (name, kind, parking_num, fare, lat, lng) VALUES ('동북로57길인근', '노상', 39, '무료', 35.89526277, 128.6213799);\n",
      "INSERT INTO parking_site (name, kind, parking_num, fare, lat, lng) VALUES ('동암로7길인근', '노상', 47, '무료', 35.94597857, 128.5544706);\n",
      "INSERT INTO parking_site (name, kind, parking_num, fare, lat, lng) VALUES ('동천교인근', '노상', 19, '무료', 35.93168424, 128.5550631);\n",
      "INSERT INTO parking_site (name, kind, parking_num, fare, lat, lng) VALUES ('백사벌네거리(남편)', '노상', 56, '무료', 35.89919158, 128.5865678);\n",
      "INSERT INTO parking_site (name, kind, parking_num, fare, lat, lng) VALUES ('백사벌네거리(북편)', '노상', 23, '무료', 35.89919158, 128.5865678);\n",
      "INSERT INTO parking_site (name, kind, parking_num, fare, lat, lng) VALUES ('복현로북2길인근', '노상', 14, '무료', 35.89526277, 128.6213799);\n",
      "INSERT INTO parking_site (name, kind, parking_num, fare, lat, lng) VALUES ('북구청인근', '노상', 39, '유료', 35.88809698, 128.582742);\n",
      "INSERT INTO parking_site (name, kind, parking_num, fare, lat, lng) VALUES ('북부소방서뒤편', '노상', 24, '무료', 35.87750286, 128.5926647);\n",
      "INSERT INTO parking_site (name, kind, parking_num, fare, lat, lng) VALUES ('북침산네거리(북편)', '노상', 16, '무료', 35.89347056, 128.5897599);\n",
      "INSERT INTO parking_site (name, kind, parking_num, fare, lat, lng) VALUES ('산격로10길인근', '노상', 10, '무료', 35.89455585, 128.6088427);\n",
      "INSERT INTO parking_site (name, kind, parking_num, fare, lat, lng) VALUES ('산격로13길인근', '노상', 3, '무료', 35.89722774, 128.6027042);\n",
      "INSERT INTO parking_site (name, kind, parking_num, fare, lat, lng) VALUES ('산격로19길인근', '노상', 7, '무료', 35.89104648, 128.6059248);\n",
      "INSERT INTO parking_site (name, kind, parking_num, fare, lat, lng) VALUES ('산격로8길인근', '노상', 15, '무료', 35.89455585, 128.6088427);\n",
      "INSERT INTO parking_site (name, kind, parking_num, fare, lat, lng) VALUES ('산격로9길인근', '노상', 24, '무료', 35.89493084, 128.6042043);\n",
      "INSERT INTO parking_site (name, kind, parking_num, fare, lat, lng) VALUES ('성북로13길인근', '노상', 10, '무료', 35.89216791, 128.590725);\n",
      "INSERT INTO parking_site (name, kind, parking_num, fare, lat, lng) VALUES ('성북로5길인근', '노상', 134, '무료', 35.89496634, 128.5880098);\n",
      "INSERT INTO parking_site (name, kind, parking_num, fare, lat, lng) VALUES ('성북로9길인근', '노상', 39, '무료', 35.89145827, 128.5884047);\n",
      "INSERT INTO parking_site (name, kind, parking_num, fare, lat, lng) VALUES ('시체육회앞', '노상', 59, '유료', 35.88301806, 128.5861564);\n",
      "INSERT INTO parking_site (name, kind, parking_num, fare, lat, lng) VALUES ('신천교', '노상', 27, '유료', 35.87980685, 128.6023836);\n",
      "INSERT INTO parking_site (name, kind, parking_num, fare, lat, lng) VALUES ('신천교고가도로밑', '노상', 46, '유료', 35.87512466, 128.608594);\n",
      "INSERT INTO parking_site (name, kind, parking_num, fare, lat, lng) VALUES ('신천동로(대현동)', '노상', 11, '무료', 35.88441248, 128.6024075);\n",
      "INSERT INTO parking_site (name, kind, parking_num, fare, lat, lng) VALUES ('신천동로146길인근', '노상', 12, '무료', 35.88441248, 128.6024075);\n",
      "INSERT INTO parking_site (name, kind, parking_num, fare, lat, lng) VALUES ('신천동로148길인근', '노상', 15, '무료', 35.88441248, 128.6024075);\n",
      "INSERT INTO parking_site (name, kind, parking_num, fare, lat, lng) VALUES ('연암공원로10길인근', '노상', 16, '무료', 35.8944331, 128.6010214);\n",
      "INSERT INTO parking_site (name, kind, parking_num, fare, lat, lng) VALUES ('연암공원로14길인근', '노상', 10, '무료', 35.89700877, 128.6014397);\n",
      "INSERT INTO parking_site (name, kind, parking_num, fare, lat, lng) VALUES ('연암공원로28길인근', '노상', 4, '무료', 35.89104648, 128.6059248);\n",
      "INSERT INTO parking_site (name, kind, parking_num, fare, lat, lng) VALUES ('연암공원로32길인근', '노상', 34, '무료', 35.90140838, 128.6065689);\n",
      "INSERT INTO parking_site (name, kind, parking_num, fare, lat, lng) VALUES ('연암공원로인근', '노상', 15, '무료', 35.89179162, 128.5957289);\n",
      "INSERT INTO parking_site (name, kind, parking_num, fare, lat, lng) VALUES ('연암로인근', '노상', 48, '무료', 35.89653618, 128.5950001);\n",
      "INSERT INTO parking_site (name, kind, parking_num, fare, lat, lng) VALUES ('영송로인근', '노상', 8, '무료', 35.92990667, 128.5449716);\n",
      "INSERT INTO parking_site (name, kind, parking_num, fare, lat, lng) VALUES ('오봉로10길인근', '노상', 13, '무료', 35.88989334, 128.5784575);\n",
      "INSERT INTO parking_site (name, kind, parking_num, fare, lat, lng) VALUES ('오봉로1길인근', '노상', 12, '무료', 35.88867297, 128.5696997);\n",
      "INSERT INTO parking_site (name, kind, parking_num, fare, lat, lng) VALUES ('오봉로1길인근(보성아파트)', '노상', 11, '무료', 35.88867297, 128.5696997);\n",
      "INSERT INTO parking_site (name, kind, parking_num, fare, lat, lng) VALUES ('오봉로3길인근', '노상', 10, '무료', 35.88867297, 128.5696997);\n",
      "INSERT INTO parking_site (name, kind, parking_num, fare, lat, lng) VALUES ('오봉로6길인근', '노상', 18, '무료', 35.88989334, 128.5784575);\n",
      "INSERT INTO parking_site (name, kind, parking_num, fare, lat, lng) VALUES ('오봉로7길인근', '노상', 19, '무료', 35.88867297, 128.5696997);\n",
      "INSERT INTO parking_site (name, kind, parking_num, fare, lat, lng) VALUES ('오봉로인근', '노상', 135, '유료', 35.89867951, 128.5788096);\n",
      "INSERT INTO parking_site (name, kind, parking_num, fare, lat, lng) VALUES ('옥산로3길인근', '노상', 10, '무료', 35.88754215, 128.5781967);\n",
      "INSERT INTO parking_site (name, kind, parking_num, fare, lat, lng) VALUES ('옥산로5길인근', '노상', 28, '무료', 35.88662726, 128.5810034);\n",
      "INSERT INTO parking_site (name, kind, parking_num, fare, lat, lng) VALUES ('옥산로9길인근', '노상', 28, '무료', 35.88802114, 128.581656);\n",
      "INSERT INTO parking_site (name, kind, parking_num, fare, lat, lng) VALUES ('옥산로인근(북구)', '노상', 25, '무료', 35.88408994, 128.5841447);\n",
      "INSERT INTO parking_site (name, kind, parking_num, fare, lat, lng) VALUES ('원대로19길인근', '노상', 25, '무료', 35.88623316, 128.580491);\n",
      "INSERT INTO parking_site (name, kind, parking_num, fare, lat, lng) VALUES ('원대로21길인근', '노상', 12, '무료', 35.88662726, 128.5810034);\n",
      "INSERT INTO parking_site (name, kind, parking_num, fare, lat, lng) VALUES ('원대로23길인근', '노상', 4, '무료', 35.88797474, 128.5800717);\n",
      "INSERT INTO parking_site (name, kind, parking_num, fare, lat, lng) VALUES ('원대로25길인근', '노상', 31, '무료', 35.88846132, 128.5819583);\n",
      "INSERT INTO parking_site (name, kind, parking_num, fare, lat, lng) VALUES ('유통단지로21길인근', '노상', 42, '무료', 35.90868017, 128.6104761);\n",
      "INSERT INTO parking_site (name, kind, parking_num, fare, lat, lng) VALUES ('중앙대로105길인근', '노상', 17, '무료', 35.88053131, 128.5944814);\n",
      "INSERT INTO parking_site (name, kind, parking_num, fare, lat, lng) VALUES ('중앙대로118길인근', '노상', 19, '무료', 35.88338799, 128.5987608);\n",
      "INSERT INTO parking_site (name, kind, parking_num, fare, lat, lng) VALUES ('지하철대구역인근', '노상', 9, '무료', 35.87604689, 128.599077);\n",
      "INSERT INTO parking_site (name, kind, parking_num, fare, lat, lng) VALUES ('청운로인근', '노상', 7, '무료', 35.89059993, 128.5869916);\n",
      "INSERT INTO parking_site (name, kind, parking_num, fare, lat, lng) VALUES ('칠곡중앙대로105길인근', '노상', 75, '무료', 35.94402173, 128.5488151);\n",
      "INSERT INTO parking_site (name, kind, parking_num, fare, lat, lng) VALUES ('칠곡중앙대로75길인근', '노상', 15, '무료', 35.92943275, 128.5461208);\n",
      "INSERT INTO parking_site (name, kind, parking_num, fare, lat, lng) VALUES ('칠곡중앙대로77길인근', '노상', 73, '무료', 35.93092533, 128.5449343);\n",
      "INSERT INTO parking_site (name, kind, parking_num, fare, lat, lng) VALUES ('칠곡중앙대로80길인근', '노상', 30, '무료', 35.9303755, 128.5508483);\n",
      "INSERT INTO parking_site (name, kind, parking_num, fare, lat, lng) VALUES ('칠곡중앙대로86길인근', '노상', 39, '무료', 35.93325493, 128.5518879);\n",
      "INSERT INTO parking_site (name, kind, parking_num, fare, lat, lng) VALUES ('칠곡중앙대로91길인근', '노상', 17, '무료', 35.93709063, 128.5448659);\n",
      "INSERT INTO parking_site (name, kind, parking_num, fare, lat, lng) VALUES ('칠곡중앙대로인근', '노상', 56, '무료', 35.94506549, 128.5511611);\n",
      "INSERT INTO parking_site (name, kind, parking_num, fare, lat, lng) VALUES ('칠성공구상가앞', '노상', 8, '유료', 35.8748935, 128.6070788);\n",
      "INSERT INTO parking_site (name, kind, parking_num, fare, lat, lng) VALUES ('칠성교북편', '노상', 10, '무료', 35.87736564, 128.6056874);\n",
      "INSERT INTO parking_site (name, kind, parking_num, fare, lat, lng) VALUES ('칠성꽃시장', '노상', 23, '유료', 35.87664626, 128.5950555);\n",
      "INSERT INTO parking_site (name, kind, parking_num, fare, lat, lng) VALUES ('칠성남로16길인근', '노상', 61, '무료', 35.87750286, 128.5926647);\n",
      "INSERT INTO parking_site (name, kind, parking_num, fare, lat, lng) VALUES ('칠성남로2길인근', '노상', 71, '무료', 35.87815117, 128.5854598);\n",
      "INSERT INTO parking_site (name, kind, parking_num, fare, lat, lng) VALUES ('칠성남로31길인근', '노상', 6, '무료', 35.8773027, 128.5987311);\n",
      "INSERT INTO parking_site (name, kind, parking_num, fare, lat, lng) VALUES ('칠성남로인근(고성동)', '노상', 102, '무료', 35.8798762, 128.5828921);\n",
      "INSERT INTO parking_site (name, kind, parking_num, fare, lat, lng) VALUES ('칠성농협앞', '노상', 30, '유료', 35.8766329, 128.6035994);\n",
      "INSERT INTO parking_site (name, kind, parking_num, fare, lat, lng) VALUES ('칠성로17길인근', '노상', 32, '무료', 35.88175275, 128.5971708);\n",
      "INSERT INTO parking_site (name, kind, parking_num, fare, lat, lng) VALUES ('칠성시장고가도로밑', '노상', 76, '유료', 35.8843224, 128.6006014);\n",
      "INSERT INTO parking_site (name, kind, parking_num, fare, lat, lng) VALUES ('칠성시장광로', '노상', 37, '유료', 35.88022495, 128.601689);\n",
      "INSERT INTO parking_site (name, kind, parking_num, fare, lat, lng) VALUES ('칠성시장남편', '노상', 39, '유료', 35.8748935, 128.6070788);\n",
      "INSERT INTO parking_site (name, kind, parking_num, fare, lat, lng) VALUES ('칠성시장동편', '노상', 16, '유료', 35.8748935, 128.6070788);\n",
      "INSERT INTO parking_site (name, kind, parking_num, fare, lat, lng) VALUES ('칠성시장방범초소', '노상', 24, '유료', 35.87915714, 128.6025337);\n",
      "INSERT INTO parking_site (name, kind, parking_num, fare, lat, lng) VALUES ('칠성시장북편', '노상', 9, '유료', 35.8748935, 128.6070788);\n",
      "INSERT INTO parking_site (name, kind, parking_num, fare, lat, lng) VALUES ('칠성시장서편도로', '노상', 30, '유료', 35.87718878, 128.6014334);\n",
      "INSERT INTO parking_site (name, kind, parking_num, fare, lat, lng) VALUES ('칠성전자상가앞', '노상', 7, '유료', 35.8748935, 128.6070788);\n",
      "INSERT INTO parking_site (name, kind, parking_num, fare, lat, lng) VALUES ('침산남로31길인근', '노상', 14, '무료', 35.88869225, 128.5929184);\n",
      "INSERT INTO parking_site (name, kind, parking_num, fare, lat, lng) VALUES ('침산남로39길인근', '노상', 18, '무료', 35.8872637, 128.596993);\n",
      "INSERT INTO parking_site (name, kind, parking_num, fare, lat, lng) VALUES ('침산남로9길인근', '노상', 10, '무료', 35.8938443, 128.5833779);\n",
      "INSERT INTO parking_site (name, kind, parking_num, fare, lat, lng) VALUES ('침산로40길인근', '노상', 4, '무료', 35.89371938, 128.5900286);\n",
      "INSERT INTO parking_site (name, kind, parking_num, fare, lat, lng) VALUES ('침산로42길인근', '노상', 7, '무료', 35.89462057, 128.5900122);\n",
      "INSERT INTO parking_site (name, kind, parking_num, fare, lat, lng) VALUES ('침산로46길인근', '노상', 3, '무료', 35.8965438, 128.5890978);\n",
      "INSERT INTO parking_site (name, kind, parking_num, fare, lat, lng) VALUES ('침산로48길인근', '노상', 10, '무료', 35.89698438, 128.5900278);\n",
      "INSERT INTO parking_site (name, kind, parking_num, fare, lat, lng) VALUES ('침산로인근', '노상', 30, '무료', 35.9015759, 128.5860551);\n",
      "INSERT INTO parking_site (name, kind, parking_num, fare, lat, lng) VALUES ('태암교(동편)', '노상', 39, '무료', 35.92779327, 128.5557174);\n",
      "INSERT INTO parking_site (name, kind, parking_num, fare, lat, lng) VALUES ('태암교(서편)', '노상', 49, '무료', 35.92862298, 128.5497501);\n",
      "INSERT INTO parking_site (name, kind, parking_num, fare, lat, lng) VALUES ('태암남로1길인근', '노상', 25, '무료', 35.92761837, 128.5486904);\n",
      "INSERT INTO parking_site (name, kind, parking_num, fare, lat, lng) VALUES ('태암로1길인근', '노상', 8, '무료', 35.92968303, 128.5485495);\n",
      "INSERT INTO parking_site (name, kind, parking_num, fare, lat, lng) VALUES ('태암로2길인근', '노상', 31, '무료', 35.92769255, 128.5482365);\n",
      "INSERT INTO parking_site (name, kind, parking_num, fare, lat, lng) VALUES ('태암로3길인근', '노상', 41, '무료', 35.92905631, 128.549598);\n",
      "INSERT INTO parking_site (name, kind, parking_num, fare, lat, lng) VALUES ('태암로4길인근', '노상', 25, '무료', 35.92757107, 128.5491776);\n",
      "INSERT INTO parking_site (name, kind, parking_num, fare, lat, lng) VALUES ('태암로5길인근', '노상', 33, '무료', 35.92945364, 128.551396);\n",
      "INSERT INTO parking_site (name, kind, parking_num, fare, lat, lng) VALUES ('태암로6길인근', '노상', 42, '무료', 35.92732892, 128.5497322);\n",
      "INSERT INTO parking_site (name, kind, parking_num, fare, lat, lng) VALUES ('팔거천서로35길인근', '노상', 35, '무료', 35.94037563, 128.5565536);\n",
      "INSERT INTO parking_site (name, kind, parking_num, fare, lat, lng) VALUES ('팔거천서로인근', '노상', 52, '무료', 35.92661052, 128.5503013);\n",
      "INSERT INTO parking_site (name, kind, parking_num, fare, lat, lng) VALUES ('팔달로37길인근', '노상', 27, '무료', 35.88867297, 128.5696997);\n",
      "INSERT INTO parking_site (name, kind, parking_num, fare, lat, lng) VALUES ('팔달로41길인근', '노상', 90, '무료', 35.88867297, 128.5696997);\n",
      "INSERT INTO parking_site (name, kind, parking_num, fare, lat, lng) VALUES ('팔달북로2길인근', '노상', 21, '무료', 35.8898311, 128.5610742);\n",
      "INSERT INTO parking_site (name, kind, parking_num, fare, lat, lng) VALUES ('팔달북로3길인근', '노상', 68, '무료', 35.8898311, 128.5610742);\n",
      "INSERT INTO parking_site (name, kind, parking_num, fare, lat, lng) VALUES ('팔달북로7길인근', '노상', 41, '무료', 35.8898311, 128.5610742);\n",
      "INSERT INTO parking_site (name, kind, parking_num, fare, lat, lng) VALUES ('팔달북로인근', '노상', 100, '무료', 35.8929865, 128.5591288);\n",
      "INSERT INTO parking_site (name, kind, parking_num, fare, lat, lng) VALUES ('풍국면앞', '노상', 16, '유료', 35.8898311, 128.5610742);\n",
      "INSERT INTO parking_site (name, kind, parking_num, fare, lat, lng) VALUES ('한국농촌공사', '노상', 30, '유료', 35.9313747, 128.557711);\n",
      "INSERT INTO parking_site (name, kind, parking_num, fare, lat, lng) VALUES ('힘나라2길인근', '노상', 43, '무료', 35.8898311, 128.5610742);\n",
      "INSERT INTO parking_site (name, kind, parking_num, fare, lat, lng) VALUES ('1·2', '노외', 50, '유료', 35.87750098, 128.5952941);\n",
      "INSERT INTO parking_site (name, kind, parking_num, fare, lat, lng) VALUES ('EXPO', '노외', 18, '유료', 35.89229316, 128.6212091);\n",
      "INSERT INTO parking_site (name, kind, parking_num, fare, lat, lng) VALUES ('RGB Tower', '노외', 52, '유료', 35.94355567, 128.5599291);\n",
      "INSERT INTO parking_site (name, kind, parking_num, fare, lat, lng) VALUES ('강북', '노외', 16, '유료', 35.93131704, 128.5559931);\n",
      "INSERT INTO parking_site (name, kind, parking_num, fare, lat, lng) VALUES ('경명여고앞', '노외', 40, '무료', 35.88072859, 128.5984327);\n",
      "INSERT INTO parking_site (name, kind, parking_num, fare, lat, lng) VALUES ('공단', '노외', 34, '유료', 35.89622155, 128.5726379);\n",
      "INSERT INTO parking_site (name, kind, parking_num, fare, lat, lng) VALUES ('관음(공영)', '노외', 169, '유료', 35.94104819, 128.5446936);\n",
      "INSERT INTO parking_site (name, kind, parking_num, fare, lat, lng) VALUES ('관음동 1255-14공영', '노외', 6, '무료', 35.94386972, 128.5446022);\n",
      "INSERT INTO parking_site (name, kind, parking_num, fare, lat, lng) VALUES ('관음동1275-27공영', '노외', 6, '무료', 35.94409921, 128.5456678);\n",
      "INSERT INTO parking_site (name, kind, parking_num, fare, lat, lng) VALUES ('관음동1284-5공영', '노외', 12, '무료', 35.94424575, 128.5471319);\n",
      "INSERT INTO parking_site (name, kind, parking_num, fare, lat, lng) VALUES ('구수산(공영)', '노외', 48, '무료', 35.9387852, 128.5524038);\n",
      "INSERT INTO parking_site (name, kind, parking_num, fare, lat, lng) VALUES ('구암동주민센터(공영)', '노외', 46, '무료', 35.9389234, 128.5660435);\n",
      "INSERT INTO parking_site (name, kind, parking_num, fare, lat, lng) VALUES ('노곡교남단1(공영)', '노외', 200, '무료', 35.90211005, 128.5663385);\n",
      "INSERT INTO parking_site (name, kind, parking_num, fare, lat, lng) VALUES ('노곡교남단2(공영)', '노외', 200, '무료', 35.90073053, 128.5645341);\n",
      "INSERT INTO parking_site (name, kind, parking_num, fare, lat, lng) VALUES ('노원(공영)', '노외', 82, '무료', 35.88820139, 128.5806918);\n",
      "INSERT INTO parking_site (name, kind, parking_num, fare, lat, lng) VALUES ('동변(공영)', '노외', 53, '무료', 35.9210095, 128.6033264);\n",
      "INSERT INTO parking_site (name, kind, parking_num, fare, lat, lng) VALUES ('동천동복합청사공영', '노외', 25, '무료', 35.93733721, 128.5581853);\n",
      "INSERT INTO parking_site (name, kind, parking_num, fare, lat, lng) VALUES ('동편업무지구(공영)', '노외', 123, '무료', 35.9077869, 128.6151458);\n",
      "INSERT INTO parking_site (name, kind, parking_num, fare, lat, lng) VALUES ('동호동(공영)', '노외', 10, '무료', 35.96363513, 128.5568502);\n",
      "INSERT INTO parking_site (name, kind, parking_num, fare, lat, lng) VALUES ('복현동임시공영주차장', '노외', 8, '무료', 35.90003894, 128.6222779);\n",
      "INSERT INTO parking_site (name, kind, parking_num, fare, lat, lng) VALUES ('북구문화회관앞(공영)', '노외', 110, '무료', 35.905774, 128.6160608);\n",
      "INSERT INTO parking_site (name, kind, parking_num, fare, lat, lng) VALUES ('산격(공영)', '노외', 43, '유료', 35.89796474, 128.6106083);\n",
      "INSERT INTO parking_site (name, kind, parking_num, fare, lat, lng) VALUES ('산격3동공영', '노외', 51, '유료', 35.89377121, 128.6053807);\n",
      "INSERT INTO parking_site (name, kind, parking_num, fare, lat, lng) VALUES ('산업용재관남편(공영)', '노외', 112, '무료', 35.9030285, 128.6070134);\n",
      "INSERT INTO parking_site (name, kind, parking_num, fare, lat, lng) VALUES ('서변1(공영)', '노외', 91, '유료', 35.9213327, 128.5970475);\n",
      "INSERT INTO parking_site (name, kind, parking_num, fare, lat, lng) VALUES ('서변2(공영)', '노외', 95, '유료', 35.9209007, 128.5971581);\n",
      "INSERT INTO parking_site (name, kind, parking_num, fare, lat, lng) VALUES ('서편업무지구(공영)', '노외', 105, '무료', 35.9040048, 128.6086279);\n",
      "INSERT INTO parking_site (name, kind, parking_num, fare, lat, lng) VALUES ('신기공원북편(공영)', '노외', 58, '무료', 35.9078387, 128.6083227);\n",
      "INSERT INTO parking_site (name, kind, parking_num, fare, lat, lng) VALUES ('신천둔치(공영)', '노외', 437, '유료', 35.87695466, 128.604501);\n",
      "INSERT INTO parking_site (name, kind, parking_num, fare, lat, lng) VALUES ('우편집중국서편(공영)', '노외', 29, '무료', 35.9102388, 128.612293);\n",
      "INSERT INTO parking_site (name, kind, parking_num, fare, lat, lng) VALUES ('읍내동임시공영', '노외', 10, '무료', 35.9528191, 128.5554145);\n",
      "INSERT INTO parking_site (name, kind, parking_num, fare, lat, lng) VALUES ('임시공영(공영청사부지)', '노외', 338, '무료', 35.94153605, 128.5657163);\n",
      "INSERT INTO parking_site (name, kind, parking_num, fare, lat, lng) VALUES ('임시공영(관음동)', '노외', 120, '무료', 35.94307205, 128.5420358);\n",
      "INSERT INTO parking_site (name, kind, parking_num, fare, lat, lng) VALUES ('임시공영(복현1동)1', '노외', 23, '무료', 35.89503549, 128.6140324);\n",
      "INSERT INTO parking_site (name, kind, parking_num, fare, lat, lng) VALUES ('임시공영(복현1동)2', '노외', 23, '무료', 35.8906191, 128.6162748);\n",
      "INSERT INTO parking_site (name, kind, parking_num, fare, lat, lng) VALUES ('임시공영(침산1동)', '노외', 17, '무료', 35.89532315, 128.5829465);\n",
      "INSERT INTO parking_site (name, kind, parking_num, fare, lat, lng) VALUES ('임시공영(팔달동)', '노외', 17, '무료', 35.89818443, 128.5512569);\n",
      "INSERT INTO parking_site (name, kind, parking_num, fare, lat, lng) VALUES ('전자관북편1(공영)', '노외', 107, '무료', 35.9077608, 128.605559);\n",
      "INSERT INTO parking_site (name, kind, parking_num, fare, lat, lng) VALUES ('전자관북편2(공영)', '노외', 104, '무료', 35.90621166, 128.6047681);\n",
      "INSERT INTO parking_site (name, kind, parking_num, fare, lat, lng) VALUES ('조야교남편(공영)', '노외', 74, '무료', 35.91200881, 128.5771953);\n",
      "INSERT INTO parking_site (name, kind, parking_num, fare, lat, lng) VALUES ('칠성(공영)', '노외', 165, '유료', 35.87610607, 128.6016615);\n",
      "INSERT INTO parking_site (name, kind, parking_num, fare, lat, lng) VALUES ('칠성동2가(공영)', '노외', 19, '무료', 35.879228, 128.600019);\n",
      "INSERT INTO parking_site (name, kind, parking_num, fare, lat, lng) VALUES ('태전1동임시공영', '노외', 11, '무료', 35.92703788, 128.5412594);\n",
      "INSERT INTO parking_site (name, kind, parking_num, fare, lat, lng) VALUES ('팔달신시장(공영)', '노외', 164, '유료', 35.89155443, 128.5660515);\n",
      "INSERT INTO parking_site (name, kind, parking_num, fare, lat, lng) VALUES ('패션센터남편(공영)', '노외', 66, '무료', 35.9061485, 128.6117408);\n",
      "INSERT INTO parking_site (name, kind, parking_num, fare, lat, lng) VALUES ('관음제2공영', '노외', 44, '유료', 35.94290709, 128.5462055);\n",
      "INSERT INTO parking_site (name, kind, parking_num, fare, lat, lng) VALUES ('무지개공영주차장', '노외', 51, '유료', 35.893295, 128.6085684);\n",
      "INSERT INTO parking_site (name, kind, parking_num, fare, lat, lng) VALUES ('복현장미공원 공영주차장', '노외', 96, '유료', 35.89336757, 128.6173123);\n",
      "INSERT INTO parking_site (name, kind, parking_num, fare, lat, lng) VALUES ('산격4동공영주차장', '노외', 63, '유료', 35.89900362, 128.606822);\n",
      "INSERT INTO parking_site (name, kind, parking_num, fare, lat, lng) VALUES ('운암지 공영주차장(노상)', '노상', 40, '유료', 35.931458, 128.563546);\n",
      "INSERT INTO parking_site (name, kind, parking_num, fare, lat, lng) VALUES ('운암지 공영주차장(노외)', '노외', 140, '유료', 35.931458, 128.563546);\n"
     ]
    }
   ],
   "source": [
    "db = pymysql.connect(\n",
    "    host='localhost',\n",
    "    port=3306,\n",
    "    user='root',\n",
    "    password='aksen5466!',\n",
    "    db='parking',\n",
    "    charset='utf8'\n",
    ")\n",
    "\n",
    "try:\n",
    "    cursor = db.cursor()\n",
    "\n",
    "    for num in range(229):\n",
    "        sql = \"INSERT INTO parking_site (name, kind, parking_num, fare, lat, lng) VALUES ('{0}', '{1}', {2}, '{3}', {4}, {5});\".format(\n",
    "            gov_parking.loc[num, \"주차장명\"],\n",
    "            gov_parking.loc[num, \"주차장 유형\"],\n",
    "            gov_parking.loc[num, \"주차구획수\"],\n",
    "            gov_parking.loc[num, \"요금정보\"],\n",
    "            gov_parking.loc[num, \"경도\"],\n",
    "            gov_parking.loc[num, \"위도\"])\n",
    "        print(sql)\n",
    "        cursor.execute(sql)\n",
    "\n",
    "    db.commit()\n",
    "finally:\n",
    "    db.close()"
   ],
   "metadata": {
    "collapsed": false,
    "pycharm": {
     "name": "#%%\n"
    }
   }
  },
  {
   "cell_type": "markdown",
   "source": [
    "### public_parking 데이터 확인, 전처리, DB에 입력"
   ],
   "metadata": {
    "collapsed": false
   }
  },
  {
   "cell_type": "code",
   "execution_count": 47,
   "outputs": [
    {
     "data": {
      "text/plain": "             순번      개방호수         면수         경도          위도\ncount  5.000000  5.000000   5.000000   5.000000    5.000000\nmean   3.000000  6.000000  32.000000  35.921616  128.577989\nstd    1.581139  1.581139  10.099505   0.020131    0.027802\nmin    1.000000  4.000000  17.000000  35.889957  128.545678\n25%    2.000000  5.000000  30.000000  35.916159  128.549839\n50%    3.000000  6.000000  33.000000  35.926087  128.594029\n75%    4.000000  7.000000  35.000000  35.933692  128.597808\nmax    5.000000  8.000000  45.000000  35.942186  128.602590",
      "text/html": "<div>\n<style scoped>\n    .dataframe tbody tr th:only-of-type {\n        vertical-align: middle;\n    }\n\n    .dataframe tbody tr th {\n        vertical-align: top;\n    }\n\n    .dataframe thead th {\n        text-align: right;\n    }\n</style>\n<table border=\"1\" class=\"dataframe\">\n  <thead>\n    <tr style=\"text-align: right;\">\n      <th></th>\n      <th>순번</th>\n      <th>개방호수</th>\n      <th>면수</th>\n      <th>경도</th>\n      <th>위도</th>\n    </tr>\n  </thead>\n  <tbody>\n    <tr>\n      <th>count</th>\n      <td>5.000000</td>\n      <td>5.000000</td>\n      <td>5.000000</td>\n      <td>5.000000</td>\n      <td>5.000000</td>\n    </tr>\n    <tr>\n      <th>mean</th>\n      <td>3.000000</td>\n      <td>6.000000</td>\n      <td>32.000000</td>\n      <td>35.921616</td>\n      <td>128.577989</td>\n    </tr>\n    <tr>\n      <th>std</th>\n      <td>1.581139</td>\n      <td>1.581139</td>\n      <td>10.099505</td>\n      <td>0.020131</td>\n      <td>0.027802</td>\n    </tr>\n    <tr>\n      <th>min</th>\n      <td>1.000000</td>\n      <td>4.000000</td>\n      <td>17.000000</td>\n      <td>35.889957</td>\n      <td>128.545678</td>\n    </tr>\n    <tr>\n      <th>25%</th>\n      <td>2.000000</td>\n      <td>5.000000</td>\n      <td>30.000000</td>\n      <td>35.916159</td>\n      <td>128.549839</td>\n    </tr>\n    <tr>\n      <th>50%</th>\n      <td>3.000000</td>\n      <td>6.000000</td>\n      <td>33.000000</td>\n      <td>35.926087</td>\n      <td>128.594029</td>\n    </tr>\n    <tr>\n      <th>75%</th>\n      <td>4.000000</td>\n      <td>7.000000</td>\n      <td>35.000000</td>\n      <td>35.933692</td>\n      <td>128.597808</td>\n    </tr>\n    <tr>\n      <th>max</th>\n      <td>5.000000</td>\n      <td>8.000000</td>\n      <td>45.000000</td>\n      <td>35.942186</td>\n      <td>128.602590</td>\n    </tr>\n  </tbody>\n</table>\n</div>"
     },
     "execution_count": 47,
     "metadata": {},
     "output_type": "execute_result"
    }
   ],
   "source": [
    "public_parking.describe()"
   ],
   "metadata": {
    "collapsed": false,
    "pycharm": {
     "name": "#%%\n"
    }
   }
  },
  {
   "cell_type": "code",
   "execution_count": 37,
   "outputs": [
    {
     "name": "stdout",
     "output_type": "stream",
     "text": [
      "<class 'pandas.core.frame.DataFrame'>\n",
      "RangeIndex: 5 entries, 0 to 4\n",
      "Data columns (total 10 columns):\n",
      " #   Column  Non-Null Count  Dtype  \n",
      "---  ------  --------------  -----  \n",
      " 0   순번      5 non-null      int64  \n",
      " 1   개방호수    5 non-null      int64  \n",
      " 2   주차장명    5 non-null      object \n",
      " 3   지번주소    5 non-null      object \n",
      " 4   면수      5 non-null      int64  \n",
      " 5   개방시간    5 non-null      object \n",
      " 6   약정시작일   5 non-null      object \n",
      " 7   약정종료일   5 non-null      object \n",
      " 8   경도      5 non-null      float64\n",
      " 9   위도      5 non-null      float64\n",
      "dtypes: float64(2), int64(3), object(5)\n",
      "memory usage: 528.0+ bytes\n"
     ]
    }
   ],
   "source": [
    "public_parking.info()"
   ],
   "metadata": {
    "collapsed": false,
    "pycharm": {
     "name": "#%%\n"
    }
   }
  },
  {
   "cell_type": "code",
   "execution_count": 39,
   "outputs": [],
   "source": [
    "# \"주차장 유형\" 컬럼추가\n",
    "public_parking[\"주차장 유형\"] = \"공유\""
   ],
   "metadata": {
    "collapsed": false,
    "pycharm": {
     "name": "#%%\n"
    }
   }
  },
  {
   "cell_type": "code",
   "execution_count": 41,
   "outputs": [],
   "source": [
    "# \"요금정보\" 컬럼추가\n",
    "public_parking[\"요금정보\"] = \"무료\""
   ],
   "metadata": {
    "collapsed": false,
    "pycharm": {
     "name": "#%%\n"
    }
   }
  },
  {
   "cell_type": "code",
   "execution_count": 44,
   "outputs": [
    {
     "name": "stdout",
     "output_type": "stream",
     "text": [
      "INSERT INTO parking_site (name, kind, parking_num, fare, lat, lng) VALUES ('성북초등학교', '공유', 33, '무료', 35.889957, 128.60259);\n",
      "INSERT INTO parking_site (name, kind, parking_num, fare, lat, lng) VALUES ('대도교회', '공유', 17, '무료', 35.93369151, 128.5498392);\n",
      "INSERT INTO parking_site (name, kind, parking_num, fare, lat, lng) VALUES ('대구칠곡중앙교회', '공유', 45, '무료', 35.92608727, 128.5940287);\n",
      "INSERT INTO parking_site (name, kind, parking_num, fare, lat, lng) VALUES ('소망교회', '공유', 30, '무료', 35.94218611, 128.5456776);\n",
      "INSERT INTO parking_site (name, kind, parking_num, fare, lat, lng) VALUES ('무태성당', '공유', 35, '무료', 35.91615863, 128.5978084);\n"
     ]
    }
   ],
   "source": [
    "for num in range(5):\n",
    "    sql = \"INSERT INTO parking_site (name, kind, parking_num, fare, lat, lng) VALUES ('{0}', '{1}', {2}, '{3}', {4}, {5});\".format(\n",
    "        (public_parking.loc[num, \"주차장명\"]),\n",
    "        public_parking.loc[num, \"주차장 유형\"],\n",
    "        public_parking.loc[num, \"면수\"],\n",
    "        public_parking.loc[num, \"요금정보\"],\n",
    "        public_parking.loc[num, \"경도\"],\n",
    "        public_parking.loc[num, \"위도\"])\n",
    "    print(sql)"
   ],
   "metadata": {
    "collapsed": false,
    "pycharm": {
     "name": "#%%\n"
    }
   }
  },
  {
   "cell_type": "code",
   "execution_count": 46,
   "outputs": [
    {
     "name": "stdout",
     "output_type": "stream",
     "text": [
      "INSERT INTO parking_site (name, kind, parking_num, fare, lat, lng) VALUES ('성북초등학교', '공유', 33, '무료', 35.889957, 128.60259);\n",
      "INSERT INTO parking_site (name, kind, parking_num, fare, lat, lng) VALUES ('대도교회', '공유', 17, '무료', 35.93369151, 128.5498392);\n",
      "INSERT INTO parking_site (name, kind, parking_num, fare, lat, lng) VALUES ('대구칠곡중앙교회', '공유', 45, '무료', 35.92608727, 128.5940287);\n",
      "INSERT INTO parking_site (name, kind, parking_num, fare, lat, lng) VALUES ('소망교회', '공유', 30, '무료', 35.94218611, 128.5456776);\n",
      "INSERT INTO parking_site (name, kind, parking_num, fare, lat, lng) VALUES ('무태성당', '공유', 35, '무료', 35.91615863, 128.5978084);\n"
     ]
    }
   ],
   "source": [
    "db = pymysql.connect(\n",
    "    host='localhost',\n",
    "    port=3306,\n",
    "    user='root',\n",
    "    password='aksen5466!',\n",
    "    db='parking',\n",
    "    charset='utf8'\n",
    ")\n",
    "\n",
    "try:\n",
    "    cursor = db.cursor()\n",
    "\n",
    "    for num in range(5):\n",
    "        sql = \"INSERT INTO parking_site (name, kind, parking_num, fare, lat, lng) VALUES ('{0}', '{1}', {2}, '{3}', {4}, {5});\".format(\n",
    "            (public_parking.loc[num, \"주차장명\"]),\n",
    "            public_parking.loc[num, \"주차장 유형\"],\n",
    "            public_parking.loc[num, \"면수\"],\n",
    "            public_parking.loc[num, \"요금정보\"],\n",
    "            public_parking.loc[num, \"경도\"],\n",
    "            public_parking.loc[num, \"위도\"])\n",
    "        print(sql)\n",
    "        cursor.execute(sql)\n",
    "\n",
    "    db.commit()\n",
    "finally:\n",
    "    db.close()"
   ],
   "metadata": {
    "collapsed": false,
    "pycharm": {
     "name": "#%%\n"
    }
   }
  },
  {
   "cell_type": "markdown",
   "source": [
    "### road_parking 데이터 확인, 전처리, DB에 입력"
   ],
   "metadata": {
    "collapsed": false
   }
  },
  {
   "cell_type": "code",
   "execution_count": 48,
   "outputs": [
    {
     "data": {
      "text/plain": "               순번       주차구획수        급지구분      주차기본시간       주차기본요금  \\\ncount  179.000000  179.000000  179.000000  179.000000   179.000000   \nmean    90.000000   31.122905    1.893855    4.189944    81.005587   \nstd     51.816986   33.339697    0.640327   10.428338   210.875902   \nmin      1.000000    2.000000    1.000000    0.000000     0.000000   \n25%     45.500000   11.000000    1.000000    0.000000     0.000000   \n50%     90.000000   23.000000    2.000000    0.000000     0.000000   \n75%    134.500000   39.500000    2.000000    0.000000     0.000000   \nmax    179.000000  329.000000    3.000000   30.000000  1000.000000   \n\n           추가단위시간      추가단위요금  1일주차권요금적용시간     1일주차권적용시간          월정기요금  \\\ncount  179.000000  179.000000        179.0    179.000000     179.000000   \nmean     1.396648   40.502793          0.0    245.810056    3519.553073   \nstd      3.476113  105.437951          0.0   1173.643988   15080.808841   \nmin      0.000000    0.000000          0.0      0.000000       0.000000   \n25%      0.000000    0.000000          0.0      0.000000       0.000000   \n50%      0.000000    0.000000          0.0      0.000000       0.000000   \n75%      0.000000    0.000000          0.0      0.000000       0.000000   \nmax     10.000000  500.000000          0.0  10000.000000  100000.000000   \n\n               경도          위도  \ncount  179.000000  179.000000  \nmean    35.899399  128.584100  \nstd      0.020230    0.023839  \nmin     35.874893  128.543012  \n25%     35.886627  128.561074  \n50%     35.892856  128.586568  \n75%     35.901048  128.605592  \nmax     35.945979  128.625135  ",
      "text/html": "<div>\n<style scoped>\n    .dataframe tbody tr th:only-of-type {\n        vertical-align: middle;\n    }\n\n    .dataframe tbody tr th {\n        vertical-align: top;\n    }\n\n    .dataframe thead th {\n        text-align: right;\n    }\n</style>\n<table border=\"1\" class=\"dataframe\">\n  <thead>\n    <tr style=\"text-align: right;\">\n      <th></th>\n      <th>순번</th>\n      <th>주차구획수</th>\n      <th>급지구분</th>\n      <th>주차기본시간</th>\n      <th>주차기본요금</th>\n      <th>추가단위시간</th>\n      <th>추가단위요금</th>\n      <th>1일주차권요금적용시간</th>\n      <th>1일주차권적용시간</th>\n      <th>월정기요금</th>\n      <th>경도</th>\n      <th>위도</th>\n    </tr>\n  </thead>\n  <tbody>\n    <tr>\n      <th>count</th>\n      <td>179.000000</td>\n      <td>179.000000</td>\n      <td>179.000000</td>\n      <td>179.000000</td>\n      <td>179.000000</td>\n      <td>179.000000</td>\n      <td>179.000000</td>\n      <td>179.0</td>\n      <td>179.000000</td>\n      <td>179.000000</td>\n      <td>179.000000</td>\n      <td>179.000000</td>\n    </tr>\n    <tr>\n      <th>mean</th>\n      <td>90.000000</td>\n      <td>31.122905</td>\n      <td>1.893855</td>\n      <td>4.189944</td>\n      <td>81.005587</td>\n      <td>1.396648</td>\n      <td>40.502793</td>\n      <td>0.0</td>\n      <td>245.810056</td>\n      <td>3519.553073</td>\n      <td>35.899399</td>\n      <td>128.584100</td>\n    </tr>\n    <tr>\n      <th>std</th>\n      <td>51.816986</td>\n      <td>33.339697</td>\n      <td>0.640327</td>\n      <td>10.428338</td>\n      <td>210.875902</td>\n      <td>3.476113</td>\n      <td>105.437951</td>\n      <td>0.0</td>\n      <td>1173.643988</td>\n      <td>15080.808841</td>\n      <td>0.020230</td>\n      <td>0.023839</td>\n    </tr>\n    <tr>\n      <th>min</th>\n      <td>1.000000</td>\n      <td>2.000000</td>\n      <td>1.000000</td>\n      <td>0.000000</td>\n      <td>0.000000</td>\n      <td>0.000000</td>\n      <td>0.000000</td>\n      <td>0.0</td>\n      <td>0.000000</td>\n      <td>0.000000</td>\n      <td>35.874893</td>\n      <td>128.543012</td>\n    </tr>\n    <tr>\n      <th>25%</th>\n      <td>45.500000</td>\n      <td>11.000000</td>\n      <td>1.000000</td>\n      <td>0.000000</td>\n      <td>0.000000</td>\n      <td>0.000000</td>\n      <td>0.000000</td>\n      <td>0.0</td>\n      <td>0.000000</td>\n      <td>0.000000</td>\n      <td>35.886627</td>\n      <td>128.561074</td>\n    </tr>\n    <tr>\n      <th>50%</th>\n      <td>90.000000</td>\n      <td>23.000000</td>\n      <td>2.000000</td>\n      <td>0.000000</td>\n      <td>0.000000</td>\n      <td>0.000000</td>\n      <td>0.000000</td>\n      <td>0.0</td>\n      <td>0.000000</td>\n      <td>0.000000</td>\n      <td>35.892856</td>\n      <td>128.586568</td>\n    </tr>\n    <tr>\n      <th>75%</th>\n      <td>134.500000</td>\n      <td>39.500000</td>\n      <td>2.000000</td>\n      <td>0.000000</td>\n      <td>0.000000</td>\n      <td>0.000000</td>\n      <td>0.000000</td>\n      <td>0.0</td>\n      <td>0.000000</td>\n      <td>0.000000</td>\n      <td>35.901048</td>\n      <td>128.605592</td>\n    </tr>\n    <tr>\n      <th>max</th>\n      <td>179.000000</td>\n      <td>329.000000</td>\n      <td>3.000000</td>\n      <td>30.000000</td>\n      <td>1000.000000</td>\n      <td>10.000000</td>\n      <td>500.000000</td>\n      <td>0.0</td>\n      <td>10000.000000</td>\n      <td>100000.000000</td>\n      <td>35.945979</td>\n      <td>128.625135</td>\n    </tr>\n  </tbody>\n</table>\n</div>"
     },
     "execution_count": 48,
     "metadata": {},
     "output_type": "execute_result"
    }
   ],
   "source": [
    "road_parking.describe()"
   ],
   "metadata": {
    "collapsed": false,
    "pycharm": {
     "name": "#%%\n"
    }
   }
  },
  {
   "cell_type": "code",
   "execution_count": 49,
   "outputs": [
    {
     "name": "stdout",
     "output_type": "stream",
     "text": [
      "<class 'pandas.core.frame.DataFrame'>\n",
      "RangeIndex: 179 entries, 0 to 178\n",
      "Data columns (total 27 columns):\n",
      " #   Column       Non-Null Count  Dtype  \n",
      "---  ------       --------------  -----  \n",
      " 0   순번           179 non-null    int64  \n",
      " 1   주차장관리번호      179 non-null    object \n",
      " 2   주차장명         179 non-null    object \n",
      " 3   주차장 유형       179 non-null    object \n",
      " 4   소재지지번주소      179 non-null    object \n",
      " 5   주차구획수        179 non-null    int64  \n",
      " 6   급지구분         179 non-null    int64  \n",
      " 7   부제시행구분       179 non-null    object \n",
      " 8   운영요일         179 non-null    object \n",
      " 9   평일운영시작시각     179 non-null    object \n",
      " 10  평일운영종료시각     179 non-null    object \n",
      " 11  토요일운영시작시각    179 non-null    object \n",
      " 12  토요일운영종료시각    179 non-null    object \n",
      " 13  공휴일운영시작시각    179 non-null    object \n",
      " 14  공유일운영종료시각    179 non-null    object \n",
      " 15  요금정보         179 non-null    object \n",
      " 16  주차기본시간       179 non-null    int64  \n",
      " 17  주차기본요금       179 non-null    int64  \n",
      " 18  추가단위시간       179 non-null    int64  \n",
      " 19  추가단위요금       179 non-null    int64  \n",
      " 20  1일주차권요금적용시간  179 non-null    int64  \n",
      " 21  1일주차권적용시간    179 non-null    int64  \n",
      " 22  월정기요금        179 non-null    int64  \n",
      " 23  결제방법         179 non-null    object \n",
      " 24  관리기관명        179 non-null    object \n",
      " 25  경도           179 non-null    float64\n",
      " 26  위도           179 non-null    float64\n",
      "dtypes: float64(2), int64(10), object(15)\n",
      "memory usage: 37.9+ KB\n"
     ]
    }
   ],
   "source": [
    "road_parking.info()"
   ],
   "metadata": {
    "collapsed": false,
    "pycharm": {
     "name": "#%%\n"
    }
   }
  },
  {
   "cell_type": "code",
   "execution_count": 50,
   "outputs": [
    {
     "data": {
      "text/plain": "   순번       주차장관리번호       주차장명 주차장 유형               소재지지번주소  주차구획수  급지구분  \\\n0   1  154-1-000001  3공단로25길인근     노상  대구광역시 북구 노원동3가 191-1      6     3   \n1   2  154-1-000002     3공단로인근     노상     대구광역시 북구 노원동3가 14    329     3   \n2   3  154-1-000003     검단동로인근     노상    대구광역시 북구 검단동 745-2     29     3   \n3   4  154-1-000004   경대로17길인근     노상      대구광역시 북구 복현동 573     78     2   \n4   5  154-1-000005   경대로23길인근     노상   대구광역시 북구 복현동 606-34      5     2   \n\n  부제시행구분        운영요일  평일운영시작시각  평일운영종료시각 토요일운영시작시각 토요일운영종료시각 공휴일운영시작시각  \\\n0    미시행  평일+토요일+공휴일  00:00:00  00:00:00  00:00:00  00:00:00  00:00:00   \n1    미시행  평일+토요일+공휴일  00:00:00  00:00:00  00:00:00  00:00:00  00:00:00   \n2    미시행  평일+토요일+공휴일  00:00:00  00:00:00  00:00:00  00:00:00  00:00:00   \n3    미시행  평일+토요일+공휴일  00:00:00  00:00:00  00:00:00  00:00:00  00:00:00   \n4    미시행  평일+토요일+공휴일  00:00:00  00:00:00  00:00:00  00:00:00  00:00:00   \n\n  공유일운영종료시각 요금정보  주차기본시간  주차기본요금  추가단위시간  추가단위요금  1일주차권요금적용시간  1일주차권적용시간  \\\n0  00:00:00   무료       0       0       0       0            0          0   \n1  00:00:00   무료       0       0       0       0            0          0   \n2  00:00:00   무료       0       0       0       0            0          0   \n3  00:00:00   무료       0       0       0       0            0          0   \n4  00:00:00   무료       0       0       0       0            0          0   \n\n   월정기요금 결제방법      관리기관명         경도          위도  \n0      0    0  대구광역시 북구청  35.897770  128.565410  \n1      0    0     대구광역시청  35.899471  128.569853  \n2      0    0  대구광역시 북구청  35.913949  128.625135  \n3      0    0  대구광역시 북구청  35.889011  128.614322  \n4      0    0  대구광역시 북구청  35.892635  128.616028  ",
      "text/html": "<div>\n<style scoped>\n    .dataframe tbody tr th:only-of-type {\n        vertical-align: middle;\n    }\n\n    .dataframe tbody tr th {\n        vertical-align: top;\n    }\n\n    .dataframe thead th {\n        text-align: right;\n    }\n</style>\n<table border=\"1\" class=\"dataframe\">\n  <thead>\n    <tr style=\"text-align: right;\">\n      <th></th>\n      <th>순번</th>\n      <th>주차장관리번호</th>\n      <th>주차장명</th>\n      <th>주차장 유형</th>\n      <th>소재지지번주소</th>\n      <th>주차구획수</th>\n      <th>급지구분</th>\n      <th>부제시행구분</th>\n      <th>운영요일</th>\n      <th>평일운영시작시각</th>\n      <th>평일운영종료시각</th>\n      <th>토요일운영시작시각</th>\n      <th>토요일운영종료시각</th>\n      <th>공휴일운영시작시각</th>\n      <th>공유일운영종료시각</th>\n      <th>요금정보</th>\n      <th>주차기본시간</th>\n      <th>주차기본요금</th>\n      <th>추가단위시간</th>\n      <th>추가단위요금</th>\n      <th>1일주차권요금적용시간</th>\n      <th>1일주차권적용시간</th>\n      <th>월정기요금</th>\n      <th>결제방법</th>\n      <th>관리기관명</th>\n      <th>경도</th>\n      <th>위도</th>\n    </tr>\n  </thead>\n  <tbody>\n    <tr>\n      <th>0</th>\n      <td>1</td>\n      <td>154-1-000001</td>\n      <td>3공단로25길인근</td>\n      <td>노상</td>\n      <td>대구광역시 북구 노원동3가 191-1</td>\n      <td>6</td>\n      <td>3</td>\n      <td>미시행</td>\n      <td>평일+토요일+공휴일</td>\n      <td>00:00:00</td>\n      <td>00:00:00</td>\n      <td>00:00:00</td>\n      <td>00:00:00</td>\n      <td>00:00:00</td>\n      <td>00:00:00</td>\n      <td>무료</td>\n      <td>0</td>\n      <td>0</td>\n      <td>0</td>\n      <td>0</td>\n      <td>0</td>\n      <td>0</td>\n      <td>0</td>\n      <td>0</td>\n      <td>대구광역시 북구청</td>\n      <td>35.897770</td>\n      <td>128.565410</td>\n    </tr>\n    <tr>\n      <th>1</th>\n      <td>2</td>\n      <td>154-1-000002</td>\n      <td>3공단로인근</td>\n      <td>노상</td>\n      <td>대구광역시 북구 노원동3가 14</td>\n      <td>329</td>\n      <td>3</td>\n      <td>미시행</td>\n      <td>평일+토요일+공휴일</td>\n      <td>00:00:00</td>\n      <td>00:00:00</td>\n      <td>00:00:00</td>\n      <td>00:00:00</td>\n      <td>00:00:00</td>\n      <td>00:00:00</td>\n      <td>무료</td>\n      <td>0</td>\n      <td>0</td>\n      <td>0</td>\n      <td>0</td>\n      <td>0</td>\n      <td>0</td>\n      <td>0</td>\n      <td>0</td>\n      <td>대구광역시청</td>\n      <td>35.899471</td>\n      <td>128.569853</td>\n    </tr>\n    <tr>\n      <th>2</th>\n      <td>3</td>\n      <td>154-1-000003</td>\n      <td>검단동로인근</td>\n      <td>노상</td>\n      <td>대구광역시 북구 검단동 745-2</td>\n      <td>29</td>\n      <td>3</td>\n      <td>미시행</td>\n      <td>평일+토요일+공휴일</td>\n      <td>00:00:00</td>\n      <td>00:00:00</td>\n      <td>00:00:00</td>\n      <td>00:00:00</td>\n      <td>00:00:00</td>\n      <td>00:00:00</td>\n      <td>무료</td>\n      <td>0</td>\n      <td>0</td>\n      <td>0</td>\n      <td>0</td>\n      <td>0</td>\n      <td>0</td>\n      <td>0</td>\n      <td>0</td>\n      <td>대구광역시 북구청</td>\n      <td>35.913949</td>\n      <td>128.625135</td>\n    </tr>\n    <tr>\n      <th>3</th>\n      <td>4</td>\n      <td>154-1-000004</td>\n      <td>경대로17길인근</td>\n      <td>노상</td>\n      <td>대구광역시 북구 복현동 573</td>\n      <td>78</td>\n      <td>2</td>\n      <td>미시행</td>\n      <td>평일+토요일+공휴일</td>\n      <td>00:00:00</td>\n      <td>00:00:00</td>\n      <td>00:00:00</td>\n      <td>00:00:00</td>\n      <td>00:00:00</td>\n      <td>00:00:00</td>\n      <td>무료</td>\n      <td>0</td>\n      <td>0</td>\n      <td>0</td>\n      <td>0</td>\n      <td>0</td>\n      <td>0</td>\n      <td>0</td>\n      <td>0</td>\n      <td>대구광역시 북구청</td>\n      <td>35.889011</td>\n      <td>128.614322</td>\n    </tr>\n    <tr>\n      <th>4</th>\n      <td>5</td>\n      <td>154-1-000005</td>\n      <td>경대로23길인근</td>\n      <td>노상</td>\n      <td>대구광역시 북구 복현동 606-34</td>\n      <td>5</td>\n      <td>2</td>\n      <td>미시행</td>\n      <td>평일+토요일+공휴일</td>\n      <td>00:00:00</td>\n      <td>00:00:00</td>\n      <td>00:00:00</td>\n      <td>00:00:00</td>\n      <td>00:00:00</td>\n      <td>00:00:00</td>\n      <td>무료</td>\n      <td>0</td>\n      <td>0</td>\n      <td>0</td>\n      <td>0</td>\n      <td>0</td>\n      <td>0</td>\n      <td>0</td>\n      <td>0</td>\n      <td>대구광역시 북구청</td>\n      <td>35.892635</td>\n      <td>128.616028</td>\n    </tr>\n  </tbody>\n</table>\n</div>"
     },
     "execution_count": 50,
     "metadata": {},
     "output_type": "execute_result"
    }
   ],
   "source": [
    "road_parking.head()"
   ],
   "metadata": {
    "collapsed": false,
    "pycharm": {
     "name": "#%%\n"
    }
   }
  },
  {
   "cell_type": "code",
   "execution_count": 51,
   "outputs": [
    {
     "name": "stdout",
     "output_type": "stream",
     "text": [
      "INSERT INTO parking_site (name, kind, parking_num, fare, lat, lng) VALUES ('3공단로25길인근', '노상', 6, '무료', 35.89777007, 128.5654103);\n",
      "INSERT INTO parking_site (name, kind, parking_num, fare, lat, lng) VALUES ('3공단로인근', '노상', 329, '무료', 35.89947054, 128.5698535);\n",
      "INSERT INTO parking_site (name, kind, parking_num, fare, lat, lng) VALUES ('검단동로인근', '노상', 29, '무료', 35.9139494, 128.6251348);\n",
      "INSERT INTO parking_site (name, kind, parking_num, fare, lat, lng) VALUES ('경대로17길인근', '노상', 78, '무료', 35.88901082, 128.6143217);\n",
      "INSERT INTO parking_site (name, kind, parking_num, fare, lat, lng) VALUES ('경대로23길인근', '노상', 5, '무료', 35.89263537, 128.6160279);\n",
      "INSERT INTO parking_site (name, kind, parking_num, fare, lat, lng) VALUES ('경대로27길인근', '노상', 8, '무료', 35.89380025, 128.6173543);\n",
      "INSERT INTO parking_site (name, kind, parking_num, fare, lat, lng) VALUES ('경대로5길인근', '노상', 33, '무료', 35.88474855, 128.6131925);\n",
      "INSERT INTO parking_site (name, kind, parking_num, fare, lat, lng) VALUES ('경대로7길인근', '노상', 19, '무료', 35.88659565, 128.6055917);\n",
      "INSERT INTO parking_site (name, kind, parking_num, fare, lat, lng) VALUES ('경대북문건너', '노상', 46, '유료', 35.891244, 128.6062891);\n",
      "INSERT INTO parking_site (name, kind, parking_num, fare, lat, lng) VALUES ('경진로1길인근', '노상', 15, '무료', 35.89526277, 128.6213799);\n",
      "INSERT INTO parking_site (name, kind, parking_num, fare, lat, lng) VALUES ('경진로남1길인근', '노상', 17, '무료', 35.89378323, 128.616552);\n",
      "INSERT INTO parking_site (name, kind, parking_num, fare, lat, lng) VALUES ('경진로인근', '노상', 92, '무료', 35.89526277, 128.6213799);\n",
      "INSERT INTO parking_site (name, kind, parking_num, fare, lat, lng) VALUES ('고성로34길인근', '노상', 9, '무료', 35.88013585, 128.5850979);\n",
      "INSERT INTO parking_site (name, kind, parking_num, fare, lat, lng) VALUES ('고성로37길인근', '노상', 57, '무료', 35.88301806, 128.5861564);\n",
      "INSERT INTO parking_site (name, kind, parking_num, fare, lat, lng) VALUES ('고성북로10길인근', '노상', 15, '무료', 35.88408994, 128.5841447);\n",
      "INSERT INTO parking_site (name, kind, parking_num, fare, lat, lng) VALUES ('고성북로1인근', '노상', 65, '무료', 35.88408994, 128.5841447);\n",
      "INSERT INTO parking_site (name, kind, parking_num, fare, lat, lng) VALUES ('고성북로2인근', '노상', 87, '무료', 35.88408994, 128.5841447);\n",
      "INSERT INTO parking_site (name, kind, parking_num, fare, lat, lng) VALUES ('관은동로32길인근', '노상', 27, '무료', 35.94592832, 128.5477642);\n",
      "INSERT INTO parking_site (name, kind, parking_num, fare, lat, lng) VALUES ('관음동로13길인근', '노상', 43, '무료', 35.93854663, 128.5457736);\n",
      "INSERT INTO parking_site (name, kind, parking_num, fare, lat, lng) VALUES ('관음동로31길인근', '노상', 6, '무료', 35.94531367, 128.546175);\n",
      "INSERT INTO parking_site (name, kind, parking_num, fare, lat, lng) VALUES ('관음동로9길인근', '노상', 8, '무료', 35.93739551, 128.5452115);\n",
      "INSERT INTO parking_site (name, kind, parking_num, fare, lat, lng) VALUES ('관음동로인근', '노상', 9, '무료', 35.94232272, 128.5478391);\n",
      "INSERT INTO parking_site (name, kind, parking_num, fare, lat, lng) VALUES ('관음중앙로17길인근', '노상', 26, '무료', 35.94453219, 128.5436091);\n",
      "INSERT INTO parking_site (name, kind, parking_num, fare, lat, lng) VALUES ('관음중앙로21길인근', '노상', 75, '무료', 35.94460696, 128.5450063);\n",
      "INSERT INTO parking_site (name, kind, parking_num, fare, lat, lng) VALUES ('관음중앙로28길인근', '노상', 60, '무료', 35.94229097, 128.5468967);\n",
      "INSERT INTO parking_site (name, kind, parking_num, fare, lat, lng) VALUES ('관음중앙로7길인근', '노상', 11, '무료', 35.93823471, 128.5430117);\n",
      "INSERT INTO parking_site (name, kind, parking_num, fare, lat, lng) VALUES ('관음중앙로인근', '노상', 62, '무료', 35.93461702, 128.5457465);\n",
      "INSERT INTO parking_site (name, kind, parking_num, fare, lat, lng) VALUES ('구암로15길인근', '노상', 43, '무료', 35.93539165, 128.5497971);\n",
      "INSERT INTO parking_site (name, kind, parking_num, fare, lat, lng) VALUES ('구암로16길인근', '노상', 20, '무료', 35.9320619, 128.5491495);\n",
      "INSERT INTO parking_site (name, kind, parking_num, fare, lat, lng) VALUES ('구암로17길인근', '노상', 37, '무료', 35.93396329, 128.5507292);\n",
      "INSERT INTO parking_site (name, kind, parking_num, fare, lat, lng) VALUES ('구암로인근', '노상', 40, '무료', 35.93172976, 128.5639126);\n",
      "INSERT INTO parking_site (name, kind, parking_num, fare, lat, lng) VALUES ('노곡로인근', '노상', 20, '무료', 35.90536223, 128.5628498);\n",
      "INSERT INTO parking_site (name, kind, parking_num, fare, lat, lng) VALUES ('노원네거리(북편)', '노상', 22, '무료', 35.89919158, 128.5865678);\n",
      "INSERT INTO parking_site (name, kind, parking_num, fare, lat, lng) VALUES ('노원동로7길', '노상', 11, '무료', 35.89538603, 128.575828);\n",
      "INSERT INTO parking_site (name, kind, parking_num, fare, lat, lng) VALUES ('노원동로인근(수성전기재료백화점)', '노상', 37, '유료', 35.89345536, 128.5762127);\n",
      "INSERT INTO parking_site (name, kind, parking_num, fare, lat, lng) VALUES ('노원로10길(대구산업-노원새마을금고)', '노상', 102, '유료', 35.88867297, 128.5696997);\n",
      "INSERT INTO parking_site (name, kind, parking_num, fare, lat, lng) VALUES ('노원로10길인근', '노상', 3, '무료', 35.88867297, 128.5696997);\n",
      "INSERT INTO parking_site (name, kind, parking_num, fare, lat, lng) VALUES ('노원로17길인근', '노상', 37, '무료', 35.8898311, 128.5610742);\n",
      "INSERT INTO parking_site (name, kind, parking_num, fare, lat, lng) VALUES ('노원로25길인근', '노상', 41, '무료', 35.8898311, 128.5610742);\n",
      "INSERT INTO parking_site (name, kind, parking_num, fare, lat, lng) VALUES ('노원로40길인근', '노상', 12, '무료', 35.89919158, 128.5865678);\n",
      "INSERT INTO parking_site (name, kind, parking_num, fare, lat, lng) VALUES ('노원로9길인근', '노상', 58, '무료', 35.89447588, 128.5675754);\n",
      "INSERT INTO parking_site (name, kind, parking_num, fare, lat, lng) VALUES ('노원로인근1', '노상', 14, '유료', 35.8898311, 128.5610742);\n",
      "INSERT INTO parking_site (name, kind, parking_num, fare, lat, lng) VALUES ('노원로인근2', '노상', 40, '유료', 35.8898311, 128.5610742);\n",
      "INSERT INTO parking_site (name, kind, parking_num, fare, lat, lng) VALUES ('노원로인근3', '노상', 38, '무료', 35.8898311, 128.5610742);\n",
      "INSERT INTO parking_site (name, kind, parking_num, fare, lat, lng) VALUES ('노원로인근4', '노상', 41, '무료', 35.8898311, 128.5610742);\n",
      "INSERT INTO parking_site (name, kind, parking_num, fare, lat, lng) VALUES ('대구역북편', '노상', 23, '무료', 35.87758404, 128.5962867);\n",
      "INSERT INTO parking_site (name, kind, parking_num, fare, lat, lng) VALUES ('대구체육관로10길인근', '노상', 14, '무료', 35.8914535, 128.6038566);\n",
      "INSERT INTO parking_site (name, kind, parking_num, fare, lat, lng) VALUES ('대구체육관로11길인근', '노상', 17, '무료', 35.8932259, 128.6044904);\n",
      "INSERT INTO parking_site (name, kind, parking_num, fare, lat, lng) VALUES ('대구체육관로9길인근', '노상', 41, '무료', 35.89375613, 128.6030093);\n",
      "INSERT INTO parking_site (name, kind, parking_num, fare, lat, lng) VALUES ('대구체육관로인근', '노상', 5, '무료', 35.88984739, 128.6006211);\n",
      "INSERT INTO parking_site (name, kind, parking_num, fare, lat, lng) VALUES ('대동로4길인근', '노상', 8, '무료', 35.89104648, 128.6059248);\n",
      "INSERT INTO parking_site (name, kind, parking_num, fare, lat, lng) VALUES ('대동로8길인근', '노상', 12, '무료', 35.89652368, 128.610032);\n",
      "INSERT INTO parking_site (name, kind, parking_num, fare, lat, lng) VALUES ('대동로9길인근', '노상', 13, '무료', 35.89720335, 128.6110785);\n",
      "INSERT INTO parking_site (name, kind, parking_num, fare, lat, lng) VALUES ('대불로5길인근', '노상', 14, '무료', 35.90263622, 128.6114859);\n",
      "INSERT INTO parking_site (name, kind, parking_num, fare, lat, lng) VALUES ('대천로7길인근', '노상', 7, '무료', 35.9403671, 128.5536665);\n",
      "INSERT INTO parking_site (name, kind, parking_num, fare, lat, lng) VALUES ('대천로9길인근', '노상', 28, '무료', 35.93916208, 128.5550213);\n",
      "INSERT INTO parking_site (name, kind, parking_num, fare, lat, lng) VALUES ('대학로15길인근', '노상', 3, '무료', 35.89455585, 128.6088427);\n",
      "INSERT INTO parking_site (name, kind, parking_num, fare, lat, lng) VALUES ('대학로17길인근', '노상', 8, '무료', 35.89455585, 128.6088427);\n",
      "INSERT INTO parking_site (name, kind, parking_num, fare, lat, lng) VALUES ('대학로23길인근', '노상', 2, '무료', 35.89455585, 128.6088427);\n",
      "INSERT INTO parking_site (name, kind, parking_num, fare, lat, lng) VALUES ('대학로25길인근', '노상', 19, '무료', 35.89455585, 128.6088427);\n",
      "INSERT INTO parking_site (name, kind, parking_num, fare, lat, lng) VALUES ('대학로9길인근', '노상', 10, '무료', 35.89114355, 128.6063354);\n",
      "INSERT INTO parking_site (name, kind, parking_num, fare, lat, lng) VALUES ('대학로인근', '노상', 33, '무료', 35.89285578, 128.6098518);\n",
      "INSERT INTO parking_site (name, kind, parking_num, fare, lat, lng) VALUES ('대현남로8길인근', '노상', 15, '무료', 35.88180651, 128.6097638);\n",
      "INSERT INTO parking_site (name, kind, parking_num, fare, lat, lng) VALUES ('대현남로9길인근', '노상', 14, '무료', 35.88180651, 128.6097638);\n",
      "INSERT INTO parking_site (name, kind, parking_num, fare, lat, lng) VALUES ('대현로10길인근', '노상', 5, '무료', 35.88260472, 128.6034237);\n",
      "INSERT INTO parking_site (name, kind, parking_num, fare, lat, lng) VALUES ('대현로13길인근', '노상', 14, '무료', 35.88659565, 128.6055917);\n",
      "INSERT INTO parking_site (name, kind, parking_num, fare, lat, lng) VALUES ('대현로19길인근', '노상', 80, '무료', 35.88629636, 128.6112825);\n",
      "INSERT INTO parking_site (name, kind, parking_num, fare, lat, lng) VALUES ('대현로21길인근', '노상', 30, '무료', 35.88388222, 128.6110091);\n",
      "INSERT INTO parking_site (name, kind, parking_num, fare, lat, lng) VALUES ('대현로3길인근', '노상', 9, '무료', 35.88713607, 128.6038791);\n",
      "INSERT INTO parking_site (name, kind, parking_num, fare, lat, lng) VALUES ('대현로9길인근', '노상', 38, '무료', 35.88909849, 128.6143217);\n",
      "INSERT INTO parking_site (name, kind, parking_num, fare, lat, lng) VALUES ('대현로서15길인근', '노상', 31, '무료', 35.88659565, 128.6055917);\n",
      "INSERT INTO parking_site (name, kind, parking_num, fare, lat, lng) VALUES ('동북로26길인근', '노상', 14, '무료', 35.90068702, 128.6066299);\n",
      "INSERT INTO parking_site (name, kind, parking_num, fare, lat, lng) VALUES ('동북로37길인근', '노상', 17, '무료', 35.9004714, 128.613574);\n",
      "INSERT INTO parking_site (name, kind, parking_num, fare, lat, lng) VALUES ('동북로50길인근', '노상', 10, '무료', 35.89526277, 128.6213799);\n",
      "INSERT INTO parking_site (name, kind, parking_num, fare, lat, lng) VALUES ('동북로53길인근', '노상', 37, '무료', 35.89461348, 128.6220753);\n",
      "INSERT INTO parking_site (name, kind, parking_num, fare, lat, lng) VALUES ('동북로55길인근', '노상', 10, '무료', 35.89526277, 128.6213799);\n",
      "INSERT INTO parking_site (name, kind, parking_num, fare, lat, lng) VALUES ('동북로57길인근', '노상', 39, '무료', 35.89526277, 128.6213799);\n",
      "INSERT INTO parking_site (name, kind, parking_num, fare, lat, lng) VALUES ('동암로7길인근', '노상', 47, '무료', 35.94597857, 128.5544706);\n",
      "INSERT INTO parking_site (name, kind, parking_num, fare, lat, lng) VALUES ('동천교인근', '노상', 19, '무료', 35.93168424, 128.5550631);\n",
      "INSERT INTO parking_site (name, kind, parking_num, fare, lat, lng) VALUES ('백사벌네거리(남편)', '노상', 56, '무료', 35.89919158, 128.5865678);\n",
      "INSERT INTO parking_site (name, kind, parking_num, fare, lat, lng) VALUES ('백사벌네거리(북편)', '노상', 23, '무료', 35.89919158, 128.5865678);\n",
      "INSERT INTO parking_site (name, kind, parking_num, fare, lat, lng) VALUES ('복현로북2길인근', '노상', 14, '무료', 35.89526277, 128.6213799);\n",
      "INSERT INTO parking_site (name, kind, parking_num, fare, lat, lng) VALUES ('북구청인근', '노상', 39, '유료', 35.88809698, 128.582742);\n",
      "INSERT INTO parking_site (name, kind, parking_num, fare, lat, lng) VALUES ('북부소방서뒤편', '노상', 24, '무료', 35.87750286, 128.5926647);\n",
      "INSERT INTO parking_site (name, kind, parking_num, fare, lat, lng) VALUES ('북침산네거리(북편)', '노상', 16, '무료', 35.89347056, 128.5897599);\n",
      "INSERT INTO parking_site (name, kind, parking_num, fare, lat, lng) VALUES ('산격로10길인근', '노상', 10, '무료', 35.89455585, 128.6088427);\n",
      "INSERT INTO parking_site (name, kind, parking_num, fare, lat, lng) VALUES ('산격로13길인근', '노상', 3, '무료', 35.89722774, 128.6027042);\n",
      "INSERT INTO parking_site (name, kind, parking_num, fare, lat, lng) VALUES ('산격로19길인근', '노상', 7, '무료', 35.89104648, 128.6059248);\n",
      "INSERT INTO parking_site (name, kind, parking_num, fare, lat, lng) VALUES ('산격로8길인근', '노상', 15, '무료', 35.89455585, 128.6088427);\n",
      "INSERT INTO parking_site (name, kind, parking_num, fare, lat, lng) VALUES ('산격로9길인근', '노상', 24, '무료', 35.89493084, 128.6042043);\n",
      "INSERT INTO parking_site (name, kind, parking_num, fare, lat, lng) VALUES ('성북로13길인근', '노상', 10, '무료', 35.89216791, 128.590725);\n",
      "INSERT INTO parking_site (name, kind, parking_num, fare, lat, lng) VALUES ('성북로5길인근', '노상', 134, '무료', 35.89496634, 128.5880098);\n",
      "INSERT INTO parking_site (name, kind, parking_num, fare, lat, lng) VALUES ('성북로9길인근', '노상', 39, '무료', 35.89145827, 128.5884047);\n",
      "INSERT INTO parking_site (name, kind, parking_num, fare, lat, lng) VALUES ('시체육회앞', '노상', 59, '유료', 35.88301806, 128.5861564);\n",
      "INSERT INTO parking_site (name, kind, parking_num, fare, lat, lng) VALUES ('신천교', '노상', 27, '유료', 35.87980685, 128.6023836);\n",
      "INSERT INTO parking_site (name, kind, parking_num, fare, lat, lng) VALUES ('신천교고가도로밑', '노상', 46, '유료', 35.87512466, 128.608594);\n",
      "INSERT INTO parking_site (name, kind, parking_num, fare, lat, lng) VALUES ('신천동로(대현동)', '노상', 11, '무료', 35.88441248, 128.6024075);\n",
      "INSERT INTO parking_site (name, kind, parking_num, fare, lat, lng) VALUES ('신천동로146길인근', '노상', 12, '무료', 35.88441248, 128.6024075);\n",
      "INSERT INTO parking_site (name, kind, parking_num, fare, lat, lng) VALUES ('신천동로148길인근', '노상', 15, '무료', 35.88441248, 128.6024075);\n",
      "INSERT INTO parking_site (name, kind, parking_num, fare, lat, lng) VALUES ('연암공원로10길인근', '노상', 16, '무료', 35.8944331, 128.6010214);\n",
      "INSERT INTO parking_site (name, kind, parking_num, fare, lat, lng) VALUES ('연암공원로14길인근', '노상', 10, '무료', 35.89700877, 128.6014397);\n",
      "INSERT INTO parking_site (name, kind, parking_num, fare, lat, lng) VALUES ('연암공원로28길인근', '노상', 4, '무료', 35.89104648, 128.6059248);\n",
      "INSERT INTO parking_site (name, kind, parking_num, fare, lat, lng) VALUES ('연암공원로32길인근', '노상', 34, '무료', 35.90140838, 128.6065689);\n",
      "INSERT INTO parking_site (name, kind, parking_num, fare, lat, lng) VALUES ('연암공원로인근', '노상', 15, '무료', 35.89179162, 128.5957289);\n",
      "INSERT INTO parking_site (name, kind, parking_num, fare, lat, lng) VALUES ('연암로인근', '노상', 48, '무료', 35.89653618, 128.5950001);\n",
      "INSERT INTO parking_site (name, kind, parking_num, fare, lat, lng) VALUES ('영송로인근', '노상', 8, '무료', 35.92990667, 128.5449716);\n",
      "INSERT INTO parking_site (name, kind, parking_num, fare, lat, lng) VALUES ('오봉로10길인근', '노상', 13, '무료', 35.88989334, 128.5784575);\n",
      "INSERT INTO parking_site (name, kind, parking_num, fare, lat, lng) VALUES ('오봉로1길인근', '노상', 12, '무료', 35.88867297, 128.5696997);\n",
      "INSERT INTO parking_site (name, kind, parking_num, fare, lat, lng) VALUES ('오봉로1길인근(보성아파트)', '노상', 11, '무료', 35.88867297, 128.5696997);\n",
      "INSERT INTO parking_site (name, kind, parking_num, fare, lat, lng) VALUES ('오봉로3길인근', '노상', 10, '무료', 35.88867297, 128.5696997);\n",
      "INSERT INTO parking_site (name, kind, parking_num, fare, lat, lng) VALUES ('오봉로6길인근', '노상', 18, '무료', 35.88989334, 128.5784575);\n",
      "INSERT INTO parking_site (name, kind, parking_num, fare, lat, lng) VALUES ('오봉로7길인근', '노상', 19, '무료', 35.88867297, 128.5696997);\n",
      "INSERT INTO parking_site (name, kind, parking_num, fare, lat, lng) VALUES ('오봉로인근', '노상', 135, '유료', 35.89867951, 128.5788096);\n",
      "INSERT INTO parking_site (name, kind, parking_num, fare, lat, lng) VALUES ('옥산로3길인근', '노상', 10, '무료', 35.88754215, 128.5781967);\n",
      "INSERT INTO parking_site (name, kind, parking_num, fare, lat, lng) VALUES ('옥산로5길인근', '노상', 28, '무료', 35.88662726, 128.5810034);\n",
      "INSERT INTO parking_site (name, kind, parking_num, fare, lat, lng) VALUES ('옥산로9길인근', '노상', 28, '무료', 35.88802114, 128.581656);\n",
      "INSERT INTO parking_site (name, kind, parking_num, fare, lat, lng) VALUES ('옥산로인근(북구)', '노상', 25, '무료', 35.88408994, 128.5841447);\n",
      "INSERT INTO parking_site (name, kind, parking_num, fare, lat, lng) VALUES ('원대로19길인근', '노상', 25, '무료', 35.88623316, 128.580491);\n",
      "INSERT INTO parking_site (name, kind, parking_num, fare, lat, lng) VALUES ('원대로21길인근', '노상', 12, '무료', 35.88662726, 128.5810034);\n",
      "INSERT INTO parking_site (name, kind, parking_num, fare, lat, lng) VALUES ('원대로23길인근', '노상', 4, '무료', 35.88797474, 128.5800717);\n",
      "INSERT INTO parking_site (name, kind, parking_num, fare, lat, lng) VALUES ('원대로25길인근', '노상', 31, '무료', 35.88846132, 128.5819583);\n",
      "INSERT INTO parking_site (name, kind, parking_num, fare, lat, lng) VALUES ('유통단지로21길인근', '노상', 42, '무료', 35.90868017, 128.6104761);\n",
      "INSERT INTO parking_site (name, kind, parking_num, fare, lat, lng) VALUES ('중앙대로105길인근', '노상', 17, '무료', 35.88053131, 128.5944814);\n",
      "INSERT INTO parking_site (name, kind, parking_num, fare, lat, lng) VALUES ('중앙대로118길인근', '노상', 19, '무료', 35.88338799, 128.5987608);\n",
      "INSERT INTO parking_site (name, kind, parking_num, fare, lat, lng) VALUES ('지하철대구역인근', '노상', 9, '무료', 35.87604689, 128.599077);\n",
      "INSERT INTO parking_site (name, kind, parking_num, fare, lat, lng) VALUES ('청운로인근', '노상', 7, '무료', 35.89059993, 128.5869916);\n",
      "INSERT INTO parking_site (name, kind, parking_num, fare, lat, lng) VALUES ('칠곡중앙대로105길인근', '노상', 75, '무료', 35.94402173, 128.5488151);\n",
      "INSERT INTO parking_site (name, kind, parking_num, fare, lat, lng) VALUES ('칠곡중앙대로75길인근', '노상', 15, '무료', 35.92943275, 128.5461208);\n",
      "INSERT INTO parking_site (name, kind, parking_num, fare, lat, lng) VALUES ('칠곡중앙대로77길인근', '노상', 73, '무료', 35.93092533, 128.5449343);\n",
      "INSERT INTO parking_site (name, kind, parking_num, fare, lat, lng) VALUES ('칠곡중앙대로80길인근', '노상', 30, '무료', 35.9303755, 128.5508483);\n",
      "INSERT INTO parking_site (name, kind, parking_num, fare, lat, lng) VALUES ('칠곡중앙대로86길인근', '노상', 39, '무료', 35.93325493, 128.5518879);\n",
      "INSERT INTO parking_site (name, kind, parking_num, fare, lat, lng) VALUES ('칠곡중앙대로91길인근', '노상', 17, '무료', 35.93709063, 128.5448659);\n",
      "INSERT INTO parking_site (name, kind, parking_num, fare, lat, lng) VALUES ('칠곡중앙대로인근', '노상', 56, '무료', 35.94506549, 128.5511611);\n",
      "INSERT INTO parking_site (name, kind, parking_num, fare, lat, lng) VALUES ('칠성공구상가앞', '노상', 8, '유료', 35.8748935, 128.6070788);\n",
      "INSERT INTO parking_site (name, kind, parking_num, fare, lat, lng) VALUES ('칠성교북편', '노상', 10, '무료', 35.87736564, 128.6056874);\n",
      "INSERT INTO parking_site (name, kind, parking_num, fare, lat, lng) VALUES ('칠성꽃시장', '노상', 23, '유료', 35.87664626, 128.5950555);\n",
      "INSERT INTO parking_site (name, kind, parking_num, fare, lat, lng) VALUES ('칠성남로16길인근', '노상', 61, '무료', 35.87750286, 128.5926647);\n",
      "INSERT INTO parking_site (name, kind, parking_num, fare, lat, lng) VALUES ('칠성남로2길인근', '노상', 71, '무료', 35.87815117, 128.5854598);\n",
      "INSERT INTO parking_site (name, kind, parking_num, fare, lat, lng) VALUES ('칠성남로31길인근', '노상', 6, '무료', 35.8773027, 128.5987311);\n",
      "INSERT INTO parking_site (name, kind, parking_num, fare, lat, lng) VALUES ('칠성남로인근(고성동)', '노상', 102, '무료', 35.8798762, 128.5828921);\n",
      "INSERT INTO parking_site (name, kind, parking_num, fare, lat, lng) VALUES ('칠성농협앞', '노상', 30, '유료', 35.8766329, 128.6035994);\n",
      "INSERT INTO parking_site (name, kind, parking_num, fare, lat, lng) VALUES ('칠성로17길인근', '노상', 32, '무료', 35.88175275, 128.5971708);\n",
      "INSERT INTO parking_site (name, kind, parking_num, fare, lat, lng) VALUES ('칠성시장고가도로밑', '노상', 76, '유료', 35.8843224, 128.6006014);\n",
      "INSERT INTO parking_site (name, kind, parking_num, fare, lat, lng) VALUES ('칠성시장광로', '노상', 37, '유료', 35.88022495, 128.601689);\n",
      "INSERT INTO parking_site (name, kind, parking_num, fare, lat, lng) VALUES ('칠성시장남편', '노상', 39, '유료', 35.8748935, 128.6070788);\n",
      "INSERT INTO parking_site (name, kind, parking_num, fare, lat, lng) VALUES ('칠성시장동편', '노상', 16, '유료', 35.8748935, 128.6070788);\n",
      "INSERT INTO parking_site (name, kind, parking_num, fare, lat, lng) VALUES ('칠성시장방범초소', '노상', 24, '유료', 35.87915714, 128.6025337);\n",
      "INSERT INTO parking_site (name, kind, parking_num, fare, lat, lng) VALUES ('칠성시장북편', '노상', 9, '유료', 35.8748935, 128.6070788);\n",
      "INSERT INTO parking_site (name, kind, parking_num, fare, lat, lng) VALUES ('칠성시장서편도로', '노상', 30, '유료', 35.87718878, 128.6014334);\n",
      "INSERT INTO parking_site (name, kind, parking_num, fare, lat, lng) VALUES ('칠성전자상가앞', '노상', 7, '유료', 35.8748935, 128.6070788);\n",
      "INSERT INTO parking_site (name, kind, parking_num, fare, lat, lng) VALUES ('침산남로31길인근', '노상', 14, '무료', 35.88869225, 128.5929184);\n",
      "INSERT INTO parking_site (name, kind, parking_num, fare, lat, lng) VALUES ('침산남로39길인근', '노상', 18, '무료', 35.8872637, 128.596993);\n",
      "INSERT INTO parking_site (name, kind, parking_num, fare, lat, lng) VALUES ('침산남로9길인근', '노상', 10, '무료', 35.8938443, 128.5833779);\n",
      "INSERT INTO parking_site (name, kind, parking_num, fare, lat, lng) VALUES ('침산로40길인근', '노상', 4, '무료', 35.89371938, 128.5900286);\n",
      "INSERT INTO parking_site (name, kind, parking_num, fare, lat, lng) VALUES ('침산로42길인근', '노상', 7, '무료', 35.89462057, 128.5900122);\n",
      "INSERT INTO parking_site (name, kind, parking_num, fare, lat, lng) VALUES ('침산로46길인근', '노상', 3, '무료', 35.8965438, 128.5890978);\n",
      "INSERT INTO parking_site (name, kind, parking_num, fare, lat, lng) VALUES ('침산로48길인근', '노상', 10, '무료', 35.89698438, 128.5900278);\n",
      "INSERT INTO parking_site (name, kind, parking_num, fare, lat, lng) VALUES ('침산로인근', '노상', 30, '무료', 35.9015759, 128.5860551);\n",
      "INSERT INTO parking_site (name, kind, parking_num, fare, lat, lng) VALUES ('태암교(동편)', '노상', 39, '무료', 35.92779327, 128.5557174);\n",
      "INSERT INTO parking_site (name, kind, parking_num, fare, lat, lng) VALUES ('태암교(서편)', '노상', 49, '무료', 35.92862298, 128.5497501);\n",
      "INSERT INTO parking_site (name, kind, parking_num, fare, lat, lng) VALUES ('태암남로1길인근', '노상', 25, '무료', 35.92761837, 128.5486904);\n",
      "INSERT INTO parking_site (name, kind, parking_num, fare, lat, lng) VALUES ('태암로1길인근', '노상', 8, '무료', 35.92968303, 128.5485495);\n",
      "INSERT INTO parking_site (name, kind, parking_num, fare, lat, lng) VALUES ('태암로2길인근', '노상', 31, '무료', 35.92769255, 128.5482365);\n",
      "INSERT INTO parking_site (name, kind, parking_num, fare, lat, lng) VALUES ('태암로3길인근', '노상', 41, '무료', 35.92905631, 128.549598);\n",
      "INSERT INTO parking_site (name, kind, parking_num, fare, lat, lng) VALUES ('태암로4길인근', '노상', 25, '무료', 35.92757107, 128.5491776);\n",
      "INSERT INTO parking_site (name, kind, parking_num, fare, lat, lng) VALUES ('태암로5길인근', '노상', 33, '무료', 35.92945364, 128.551396);\n",
      "INSERT INTO parking_site (name, kind, parking_num, fare, lat, lng) VALUES ('태암로6길인근', '노상', 42, '무료', 35.92732892, 128.5497322);\n",
      "INSERT INTO parking_site (name, kind, parking_num, fare, lat, lng) VALUES ('팔거천서로35길인근', '노상', 35, '무료', 35.94037563, 128.5565536);\n",
      "INSERT INTO parking_site (name, kind, parking_num, fare, lat, lng) VALUES ('팔거천서로인근', '노상', 52, '무료', 35.92661052, 128.5503013);\n",
      "INSERT INTO parking_site (name, kind, parking_num, fare, lat, lng) VALUES ('팔달로37길인근', '노상', 27, '무료', 35.88867297, 128.5696997);\n",
      "INSERT INTO parking_site (name, kind, parking_num, fare, lat, lng) VALUES ('팔달로41길인근', '노상', 90, '무료', 35.88867297, 128.5696997);\n",
      "INSERT INTO parking_site (name, kind, parking_num, fare, lat, lng) VALUES ('팔달북로2길인근', '노상', 21, '무료', 35.8898311, 128.5610742);\n",
      "INSERT INTO parking_site (name, kind, parking_num, fare, lat, lng) VALUES ('팔달북로3길인근', '노상', 68, '무료', 35.8898311, 128.5610742);\n",
      "INSERT INTO parking_site (name, kind, parking_num, fare, lat, lng) VALUES ('팔달북로7길인근', '노상', 41, '무료', 35.8898311, 128.5610742);\n",
      "INSERT INTO parking_site (name, kind, parking_num, fare, lat, lng) VALUES ('팔달북로인근', '노상', 100, '무료', 35.8929865, 128.5591288);\n",
      "INSERT INTO parking_site (name, kind, parking_num, fare, lat, lng) VALUES ('풍국면앞', '노상', 16, '유료', 35.8898311, 128.5610742);\n",
      "INSERT INTO parking_site (name, kind, parking_num, fare, lat, lng) VALUES ('한국농촌공사', '노상', 30, '유료', 35.9313747, 128.557711);\n",
      "INSERT INTO parking_site (name, kind, parking_num, fare, lat, lng) VALUES ('힘나라2길인근', '노상', 43, '무료', 35.8898311, 128.5610742);\n",
      "INSERT INTO parking_site (name, kind, parking_num, fare, lat, lng) VALUES ('운암지 공영주차장(노상)', '노상', 40, '유료', 35.931458, 128.563546);\n"
     ]
    }
   ],
   "source": [
    "for num in range(179):\n",
    "    sql = \"INSERT INTO parking_site (name, kind, parking_num, fare, lat, lng) VALUES ('{0}', '{1}', {2}, '{3}', {4}, {5});\".format(\n",
    "        (road_parking.loc[num, \"주차장명\"]),\n",
    "        road_parking.loc[num, \"주차장 유형\"],\n",
    "        road_parking.loc[num, \"주차구획수\"],\n",
    "        road_parking.loc[num, \"요금정보\"],\n",
    "        road_parking.loc[num, \"경도\"],\n",
    "        road_parking.loc[num, \"위도\"])\n",
    "    print(sql)"
   ],
   "metadata": {
    "collapsed": false,
    "pycharm": {
     "name": "#%%\n"
    }
   }
  },
  {
   "cell_type": "code",
   "execution_count": 52,
   "outputs": [
    {
     "name": "stdout",
     "output_type": "stream",
     "text": [
      "INSERT INTO parking_site (name, kind, parking_num, fare, lat, lng) VALUES ('3공단로25길인근', '노상', 6, '무료', 35.89777007, 128.5654103);\n",
      "INSERT INTO parking_site (name, kind, parking_num, fare, lat, lng) VALUES ('3공단로인근', '노상', 329, '무료', 35.89947054, 128.5698535);\n",
      "INSERT INTO parking_site (name, kind, parking_num, fare, lat, lng) VALUES ('검단동로인근', '노상', 29, '무료', 35.9139494, 128.6251348);\n",
      "INSERT INTO parking_site (name, kind, parking_num, fare, lat, lng) VALUES ('경대로17길인근', '노상', 78, '무료', 35.88901082, 128.6143217);\n",
      "INSERT INTO parking_site (name, kind, parking_num, fare, lat, lng) VALUES ('경대로23길인근', '노상', 5, '무료', 35.89263537, 128.6160279);\n",
      "INSERT INTO parking_site (name, kind, parking_num, fare, lat, lng) VALUES ('경대로27길인근', '노상', 8, '무료', 35.89380025, 128.6173543);\n",
      "INSERT INTO parking_site (name, kind, parking_num, fare, lat, lng) VALUES ('경대로5길인근', '노상', 33, '무료', 35.88474855, 128.6131925);\n",
      "INSERT INTO parking_site (name, kind, parking_num, fare, lat, lng) VALUES ('경대로7길인근', '노상', 19, '무료', 35.88659565, 128.6055917);\n",
      "INSERT INTO parking_site (name, kind, parking_num, fare, lat, lng) VALUES ('경대북문건너', '노상', 46, '유료', 35.891244, 128.6062891);\n",
      "INSERT INTO parking_site (name, kind, parking_num, fare, lat, lng) VALUES ('경진로1길인근', '노상', 15, '무료', 35.89526277, 128.6213799);\n",
      "INSERT INTO parking_site (name, kind, parking_num, fare, lat, lng) VALUES ('경진로남1길인근', '노상', 17, '무료', 35.89378323, 128.616552);\n",
      "INSERT INTO parking_site (name, kind, parking_num, fare, lat, lng) VALUES ('경진로인근', '노상', 92, '무료', 35.89526277, 128.6213799);\n",
      "INSERT INTO parking_site (name, kind, parking_num, fare, lat, lng) VALUES ('고성로34길인근', '노상', 9, '무료', 35.88013585, 128.5850979);\n",
      "INSERT INTO parking_site (name, kind, parking_num, fare, lat, lng) VALUES ('고성로37길인근', '노상', 57, '무료', 35.88301806, 128.5861564);\n",
      "INSERT INTO parking_site (name, kind, parking_num, fare, lat, lng) VALUES ('고성북로10길인근', '노상', 15, '무료', 35.88408994, 128.5841447);\n",
      "INSERT INTO parking_site (name, kind, parking_num, fare, lat, lng) VALUES ('고성북로1인근', '노상', 65, '무료', 35.88408994, 128.5841447);\n",
      "INSERT INTO parking_site (name, kind, parking_num, fare, lat, lng) VALUES ('고성북로2인근', '노상', 87, '무료', 35.88408994, 128.5841447);\n",
      "INSERT INTO parking_site (name, kind, parking_num, fare, lat, lng) VALUES ('관은동로32길인근', '노상', 27, '무료', 35.94592832, 128.5477642);\n",
      "INSERT INTO parking_site (name, kind, parking_num, fare, lat, lng) VALUES ('관음동로13길인근', '노상', 43, '무료', 35.93854663, 128.5457736);\n",
      "INSERT INTO parking_site (name, kind, parking_num, fare, lat, lng) VALUES ('관음동로31길인근', '노상', 6, '무료', 35.94531367, 128.546175);\n",
      "INSERT INTO parking_site (name, kind, parking_num, fare, lat, lng) VALUES ('관음동로9길인근', '노상', 8, '무료', 35.93739551, 128.5452115);\n",
      "INSERT INTO parking_site (name, kind, parking_num, fare, lat, lng) VALUES ('관음동로인근', '노상', 9, '무료', 35.94232272, 128.5478391);\n",
      "INSERT INTO parking_site (name, kind, parking_num, fare, lat, lng) VALUES ('관음중앙로17길인근', '노상', 26, '무료', 35.94453219, 128.5436091);\n",
      "INSERT INTO parking_site (name, kind, parking_num, fare, lat, lng) VALUES ('관음중앙로21길인근', '노상', 75, '무료', 35.94460696, 128.5450063);\n",
      "INSERT INTO parking_site (name, kind, parking_num, fare, lat, lng) VALUES ('관음중앙로28길인근', '노상', 60, '무료', 35.94229097, 128.5468967);\n",
      "INSERT INTO parking_site (name, kind, parking_num, fare, lat, lng) VALUES ('관음중앙로7길인근', '노상', 11, '무료', 35.93823471, 128.5430117);\n",
      "INSERT INTO parking_site (name, kind, parking_num, fare, lat, lng) VALUES ('관음중앙로인근', '노상', 62, '무료', 35.93461702, 128.5457465);\n",
      "INSERT INTO parking_site (name, kind, parking_num, fare, lat, lng) VALUES ('구암로15길인근', '노상', 43, '무료', 35.93539165, 128.5497971);\n",
      "INSERT INTO parking_site (name, kind, parking_num, fare, lat, lng) VALUES ('구암로16길인근', '노상', 20, '무료', 35.9320619, 128.5491495);\n",
      "INSERT INTO parking_site (name, kind, parking_num, fare, lat, lng) VALUES ('구암로17길인근', '노상', 37, '무료', 35.93396329, 128.5507292);\n",
      "INSERT INTO parking_site (name, kind, parking_num, fare, lat, lng) VALUES ('구암로인근', '노상', 40, '무료', 35.93172976, 128.5639126);\n",
      "INSERT INTO parking_site (name, kind, parking_num, fare, lat, lng) VALUES ('노곡로인근', '노상', 20, '무료', 35.90536223, 128.5628498);\n",
      "INSERT INTO parking_site (name, kind, parking_num, fare, lat, lng) VALUES ('노원네거리(북편)', '노상', 22, '무료', 35.89919158, 128.5865678);\n",
      "INSERT INTO parking_site (name, kind, parking_num, fare, lat, lng) VALUES ('노원동로7길', '노상', 11, '무료', 35.89538603, 128.575828);\n",
      "INSERT INTO parking_site (name, kind, parking_num, fare, lat, lng) VALUES ('노원동로인근(수성전기재료백화점)', '노상', 37, '유료', 35.89345536, 128.5762127);\n",
      "INSERT INTO parking_site (name, kind, parking_num, fare, lat, lng) VALUES ('노원로10길(대구산업-노원새마을금고)', '노상', 102, '유료', 35.88867297, 128.5696997);\n",
      "INSERT INTO parking_site (name, kind, parking_num, fare, lat, lng) VALUES ('노원로10길인근', '노상', 3, '무료', 35.88867297, 128.5696997);\n",
      "INSERT INTO parking_site (name, kind, parking_num, fare, lat, lng) VALUES ('노원로17길인근', '노상', 37, '무료', 35.8898311, 128.5610742);\n",
      "INSERT INTO parking_site (name, kind, parking_num, fare, lat, lng) VALUES ('노원로25길인근', '노상', 41, '무료', 35.8898311, 128.5610742);\n",
      "INSERT INTO parking_site (name, kind, parking_num, fare, lat, lng) VALUES ('노원로40길인근', '노상', 12, '무료', 35.89919158, 128.5865678);\n",
      "INSERT INTO parking_site (name, kind, parking_num, fare, lat, lng) VALUES ('노원로9길인근', '노상', 58, '무료', 35.89447588, 128.5675754);\n",
      "INSERT INTO parking_site (name, kind, parking_num, fare, lat, lng) VALUES ('노원로인근1', '노상', 14, '유료', 35.8898311, 128.5610742);\n",
      "INSERT INTO parking_site (name, kind, parking_num, fare, lat, lng) VALUES ('노원로인근2', '노상', 40, '유료', 35.8898311, 128.5610742);\n",
      "INSERT INTO parking_site (name, kind, parking_num, fare, lat, lng) VALUES ('노원로인근3', '노상', 38, '무료', 35.8898311, 128.5610742);\n",
      "INSERT INTO parking_site (name, kind, parking_num, fare, lat, lng) VALUES ('노원로인근4', '노상', 41, '무료', 35.8898311, 128.5610742);\n",
      "INSERT INTO parking_site (name, kind, parking_num, fare, lat, lng) VALUES ('대구역북편', '노상', 23, '무료', 35.87758404, 128.5962867);\n",
      "INSERT INTO parking_site (name, kind, parking_num, fare, lat, lng) VALUES ('대구체육관로10길인근', '노상', 14, '무료', 35.8914535, 128.6038566);\n",
      "INSERT INTO parking_site (name, kind, parking_num, fare, lat, lng) VALUES ('대구체육관로11길인근', '노상', 17, '무료', 35.8932259, 128.6044904);\n",
      "INSERT INTO parking_site (name, kind, parking_num, fare, lat, lng) VALUES ('대구체육관로9길인근', '노상', 41, '무료', 35.89375613, 128.6030093);\n",
      "INSERT INTO parking_site (name, kind, parking_num, fare, lat, lng) VALUES ('대구체육관로인근', '노상', 5, '무료', 35.88984739, 128.6006211);\n",
      "INSERT INTO parking_site (name, kind, parking_num, fare, lat, lng) VALUES ('대동로4길인근', '노상', 8, '무료', 35.89104648, 128.6059248);\n",
      "INSERT INTO parking_site (name, kind, parking_num, fare, lat, lng) VALUES ('대동로8길인근', '노상', 12, '무료', 35.89652368, 128.610032);\n",
      "INSERT INTO parking_site (name, kind, parking_num, fare, lat, lng) VALUES ('대동로9길인근', '노상', 13, '무료', 35.89720335, 128.6110785);\n",
      "INSERT INTO parking_site (name, kind, parking_num, fare, lat, lng) VALUES ('대불로5길인근', '노상', 14, '무료', 35.90263622, 128.6114859);\n",
      "INSERT INTO parking_site (name, kind, parking_num, fare, lat, lng) VALUES ('대천로7길인근', '노상', 7, '무료', 35.9403671, 128.5536665);\n",
      "INSERT INTO parking_site (name, kind, parking_num, fare, lat, lng) VALUES ('대천로9길인근', '노상', 28, '무료', 35.93916208, 128.5550213);\n",
      "INSERT INTO parking_site (name, kind, parking_num, fare, lat, lng) VALUES ('대학로15길인근', '노상', 3, '무료', 35.89455585, 128.6088427);\n",
      "INSERT INTO parking_site (name, kind, parking_num, fare, lat, lng) VALUES ('대학로17길인근', '노상', 8, '무료', 35.89455585, 128.6088427);\n",
      "INSERT INTO parking_site (name, kind, parking_num, fare, lat, lng) VALUES ('대학로23길인근', '노상', 2, '무료', 35.89455585, 128.6088427);\n",
      "INSERT INTO parking_site (name, kind, parking_num, fare, lat, lng) VALUES ('대학로25길인근', '노상', 19, '무료', 35.89455585, 128.6088427);\n",
      "INSERT INTO parking_site (name, kind, parking_num, fare, lat, lng) VALUES ('대학로9길인근', '노상', 10, '무료', 35.89114355, 128.6063354);\n",
      "INSERT INTO parking_site (name, kind, parking_num, fare, lat, lng) VALUES ('대학로인근', '노상', 33, '무료', 35.89285578, 128.6098518);\n",
      "INSERT INTO parking_site (name, kind, parking_num, fare, lat, lng) VALUES ('대현남로8길인근', '노상', 15, '무료', 35.88180651, 128.6097638);\n",
      "INSERT INTO parking_site (name, kind, parking_num, fare, lat, lng) VALUES ('대현남로9길인근', '노상', 14, '무료', 35.88180651, 128.6097638);\n",
      "INSERT INTO parking_site (name, kind, parking_num, fare, lat, lng) VALUES ('대현로10길인근', '노상', 5, '무료', 35.88260472, 128.6034237);\n",
      "INSERT INTO parking_site (name, kind, parking_num, fare, lat, lng) VALUES ('대현로13길인근', '노상', 14, '무료', 35.88659565, 128.6055917);\n",
      "INSERT INTO parking_site (name, kind, parking_num, fare, lat, lng) VALUES ('대현로19길인근', '노상', 80, '무료', 35.88629636, 128.6112825);\n",
      "INSERT INTO parking_site (name, kind, parking_num, fare, lat, lng) VALUES ('대현로21길인근', '노상', 30, '무료', 35.88388222, 128.6110091);\n",
      "INSERT INTO parking_site (name, kind, parking_num, fare, lat, lng) VALUES ('대현로3길인근', '노상', 9, '무료', 35.88713607, 128.6038791);\n",
      "INSERT INTO parking_site (name, kind, parking_num, fare, lat, lng) VALUES ('대현로9길인근', '노상', 38, '무료', 35.88909849, 128.6143217);\n",
      "INSERT INTO parking_site (name, kind, parking_num, fare, lat, lng) VALUES ('대현로서15길인근', '노상', 31, '무료', 35.88659565, 128.6055917);\n",
      "INSERT INTO parking_site (name, kind, parking_num, fare, lat, lng) VALUES ('동북로26길인근', '노상', 14, '무료', 35.90068702, 128.6066299);\n",
      "INSERT INTO parking_site (name, kind, parking_num, fare, lat, lng) VALUES ('동북로37길인근', '노상', 17, '무료', 35.9004714, 128.613574);\n",
      "INSERT INTO parking_site (name, kind, parking_num, fare, lat, lng) VALUES ('동북로50길인근', '노상', 10, '무료', 35.89526277, 128.6213799);\n",
      "INSERT INTO parking_site (name, kind, parking_num, fare, lat, lng) VALUES ('동북로53길인근', '노상', 37, '무료', 35.89461348, 128.6220753);\n",
      "INSERT INTO parking_site (name, kind, parking_num, fare, lat, lng) VALUES ('동북로55길인근', '노상', 10, '무료', 35.89526277, 128.6213799);\n",
      "INSERT INTO parking_site (name, kind, parking_num, fare, lat, lng) VALUES ('동북로57길인근', '노상', 39, '무료', 35.89526277, 128.6213799);\n",
      "INSERT INTO parking_site (name, kind, parking_num, fare, lat, lng) VALUES ('동암로7길인근', '노상', 47, '무료', 35.94597857, 128.5544706);\n",
      "INSERT INTO parking_site (name, kind, parking_num, fare, lat, lng) VALUES ('동천교인근', '노상', 19, '무료', 35.93168424, 128.5550631);\n",
      "INSERT INTO parking_site (name, kind, parking_num, fare, lat, lng) VALUES ('백사벌네거리(남편)', '노상', 56, '무료', 35.89919158, 128.5865678);\n",
      "INSERT INTO parking_site (name, kind, parking_num, fare, lat, lng) VALUES ('백사벌네거리(북편)', '노상', 23, '무료', 35.89919158, 128.5865678);\n",
      "INSERT INTO parking_site (name, kind, parking_num, fare, lat, lng) VALUES ('복현로북2길인근', '노상', 14, '무료', 35.89526277, 128.6213799);\n",
      "INSERT INTO parking_site (name, kind, parking_num, fare, lat, lng) VALUES ('북구청인근', '노상', 39, '유료', 35.88809698, 128.582742);\n",
      "INSERT INTO parking_site (name, kind, parking_num, fare, lat, lng) VALUES ('북부소방서뒤편', '노상', 24, '무료', 35.87750286, 128.5926647);\n",
      "INSERT INTO parking_site (name, kind, parking_num, fare, lat, lng) VALUES ('북침산네거리(북편)', '노상', 16, '무료', 35.89347056, 128.5897599);\n",
      "INSERT INTO parking_site (name, kind, parking_num, fare, lat, lng) VALUES ('산격로10길인근', '노상', 10, '무료', 35.89455585, 128.6088427);\n",
      "INSERT INTO parking_site (name, kind, parking_num, fare, lat, lng) VALUES ('산격로13길인근', '노상', 3, '무료', 35.89722774, 128.6027042);\n",
      "INSERT INTO parking_site (name, kind, parking_num, fare, lat, lng) VALUES ('산격로19길인근', '노상', 7, '무료', 35.89104648, 128.6059248);\n",
      "INSERT INTO parking_site (name, kind, parking_num, fare, lat, lng) VALUES ('산격로8길인근', '노상', 15, '무료', 35.89455585, 128.6088427);\n",
      "INSERT INTO parking_site (name, kind, parking_num, fare, lat, lng) VALUES ('산격로9길인근', '노상', 24, '무료', 35.89493084, 128.6042043);\n",
      "INSERT INTO parking_site (name, kind, parking_num, fare, lat, lng) VALUES ('성북로13길인근', '노상', 10, '무료', 35.89216791, 128.590725);\n",
      "INSERT INTO parking_site (name, kind, parking_num, fare, lat, lng) VALUES ('성북로5길인근', '노상', 134, '무료', 35.89496634, 128.5880098);\n",
      "INSERT INTO parking_site (name, kind, parking_num, fare, lat, lng) VALUES ('성북로9길인근', '노상', 39, '무료', 35.89145827, 128.5884047);\n",
      "INSERT INTO parking_site (name, kind, parking_num, fare, lat, lng) VALUES ('시체육회앞', '노상', 59, '유료', 35.88301806, 128.5861564);\n",
      "INSERT INTO parking_site (name, kind, parking_num, fare, lat, lng) VALUES ('신천교', '노상', 27, '유료', 35.87980685, 128.6023836);\n",
      "INSERT INTO parking_site (name, kind, parking_num, fare, lat, lng) VALUES ('신천교고가도로밑', '노상', 46, '유료', 35.87512466, 128.608594);\n",
      "INSERT INTO parking_site (name, kind, parking_num, fare, lat, lng) VALUES ('신천동로(대현동)', '노상', 11, '무료', 35.88441248, 128.6024075);\n",
      "INSERT INTO parking_site (name, kind, parking_num, fare, lat, lng) VALUES ('신천동로146길인근', '노상', 12, '무료', 35.88441248, 128.6024075);\n",
      "INSERT INTO parking_site (name, kind, parking_num, fare, lat, lng) VALUES ('신천동로148길인근', '노상', 15, '무료', 35.88441248, 128.6024075);\n",
      "INSERT INTO parking_site (name, kind, parking_num, fare, lat, lng) VALUES ('연암공원로10길인근', '노상', 16, '무료', 35.8944331, 128.6010214);\n",
      "INSERT INTO parking_site (name, kind, parking_num, fare, lat, lng) VALUES ('연암공원로14길인근', '노상', 10, '무료', 35.89700877, 128.6014397);\n",
      "INSERT INTO parking_site (name, kind, parking_num, fare, lat, lng) VALUES ('연암공원로28길인근', '노상', 4, '무료', 35.89104648, 128.6059248);\n",
      "INSERT INTO parking_site (name, kind, parking_num, fare, lat, lng) VALUES ('연암공원로32길인근', '노상', 34, '무료', 35.90140838, 128.6065689);\n",
      "INSERT INTO parking_site (name, kind, parking_num, fare, lat, lng) VALUES ('연암공원로인근', '노상', 15, '무료', 35.89179162, 128.5957289);\n",
      "INSERT INTO parking_site (name, kind, parking_num, fare, lat, lng) VALUES ('연암로인근', '노상', 48, '무료', 35.89653618, 128.5950001);\n",
      "INSERT INTO parking_site (name, kind, parking_num, fare, lat, lng) VALUES ('영송로인근', '노상', 8, '무료', 35.92990667, 128.5449716);\n",
      "INSERT INTO parking_site (name, kind, parking_num, fare, lat, lng) VALUES ('오봉로10길인근', '노상', 13, '무료', 35.88989334, 128.5784575);\n",
      "INSERT INTO parking_site (name, kind, parking_num, fare, lat, lng) VALUES ('오봉로1길인근', '노상', 12, '무료', 35.88867297, 128.5696997);\n",
      "INSERT INTO parking_site (name, kind, parking_num, fare, lat, lng) VALUES ('오봉로1길인근(보성아파트)', '노상', 11, '무료', 35.88867297, 128.5696997);\n",
      "INSERT INTO parking_site (name, kind, parking_num, fare, lat, lng) VALUES ('오봉로3길인근', '노상', 10, '무료', 35.88867297, 128.5696997);\n",
      "INSERT INTO parking_site (name, kind, parking_num, fare, lat, lng) VALUES ('오봉로6길인근', '노상', 18, '무료', 35.88989334, 128.5784575);\n",
      "INSERT INTO parking_site (name, kind, parking_num, fare, lat, lng) VALUES ('오봉로7길인근', '노상', 19, '무료', 35.88867297, 128.5696997);\n",
      "INSERT INTO parking_site (name, kind, parking_num, fare, lat, lng) VALUES ('오봉로인근', '노상', 135, '유료', 35.89867951, 128.5788096);\n",
      "INSERT INTO parking_site (name, kind, parking_num, fare, lat, lng) VALUES ('옥산로3길인근', '노상', 10, '무료', 35.88754215, 128.5781967);\n",
      "INSERT INTO parking_site (name, kind, parking_num, fare, lat, lng) VALUES ('옥산로5길인근', '노상', 28, '무료', 35.88662726, 128.5810034);\n",
      "INSERT INTO parking_site (name, kind, parking_num, fare, lat, lng) VALUES ('옥산로9길인근', '노상', 28, '무료', 35.88802114, 128.581656);\n",
      "INSERT INTO parking_site (name, kind, parking_num, fare, lat, lng) VALUES ('옥산로인근(북구)', '노상', 25, '무료', 35.88408994, 128.5841447);\n",
      "INSERT INTO parking_site (name, kind, parking_num, fare, lat, lng) VALUES ('원대로19길인근', '노상', 25, '무료', 35.88623316, 128.580491);\n",
      "INSERT INTO parking_site (name, kind, parking_num, fare, lat, lng) VALUES ('원대로21길인근', '노상', 12, '무료', 35.88662726, 128.5810034);\n",
      "INSERT INTO parking_site (name, kind, parking_num, fare, lat, lng) VALUES ('원대로23길인근', '노상', 4, '무료', 35.88797474, 128.5800717);\n",
      "INSERT INTO parking_site (name, kind, parking_num, fare, lat, lng) VALUES ('원대로25길인근', '노상', 31, '무료', 35.88846132, 128.5819583);\n",
      "INSERT INTO parking_site (name, kind, parking_num, fare, lat, lng) VALUES ('유통단지로21길인근', '노상', 42, '무료', 35.90868017, 128.6104761);\n",
      "INSERT INTO parking_site (name, kind, parking_num, fare, lat, lng) VALUES ('중앙대로105길인근', '노상', 17, '무료', 35.88053131, 128.5944814);\n",
      "INSERT INTO parking_site (name, kind, parking_num, fare, lat, lng) VALUES ('중앙대로118길인근', '노상', 19, '무료', 35.88338799, 128.5987608);\n",
      "INSERT INTO parking_site (name, kind, parking_num, fare, lat, lng) VALUES ('지하철대구역인근', '노상', 9, '무료', 35.87604689, 128.599077);\n",
      "INSERT INTO parking_site (name, kind, parking_num, fare, lat, lng) VALUES ('청운로인근', '노상', 7, '무료', 35.89059993, 128.5869916);\n",
      "INSERT INTO parking_site (name, kind, parking_num, fare, lat, lng) VALUES ('칠곡중앙대로105길인근', '노상', 75, '무료', 35.94402173, 128.5488151);\n",
      "INSERT INTO parking_site (name, kind, parking_num, fare, lat, lng) VALUES ('칠곡중앙대로75길인근', '노상', 15, '무료', 35.92943275, 128.5461208);\n",
      "INSERT INTO parking_site (name, kind, parking_num, fare, lat, lng) VALUES ('칠곡중앙대로77길인근', '노상', 73, '무료', 35.93092533, 128.5449343);\n",
      "INSERT INTO parking_site (name, kind, parking_num, fare, lat, lng) VALUES ('칠곡중앙대로80길인근', '노상', 30, '무료', 35.9303755, 128.5508483);\n",
      "INSERT INTO parking_site (name, kind, parking_num, fare, lat, lng) VALUES ('칠곡중앙대로86길인근', '노상', 39, '무료', 35.93325493, 128.5518879);\n",
      "INSERT INTO parking_site (name, kind, parking_num, fare, lat, lng) VALUES ('칠곡중앙대로91길인근', '노상', 17, '무료', 35.93709063, 128.5448659);\n",
      "INSERT INTO parking_site (name, kind, parking_num, fare, lat, lng) VALUES ('칠곡중앙대로인근', '노상', 56, '무료', 35.94506549, 128.5511611);\n",
      "INSERT INTO parking_site (name, kind, parking_num, fare, lat, lng) VALUES ('칠성공구상가앞', '노상', 8, '유료', 35.8748935, 128.6070788);\n",
      "INSERT INTO parking_site (name, kind, parking_num, fare, lat, lng) VALUES ('칠성교북편', '노상', 10, '무료', 35.87736564, 128.6056874);\n",
      "INSERT INTO parking_site (name, kind, parking_num, fare, lat, lng) VALUES ('칠성꽃시장', '노상', 23, '유료', 35.87664626, 128.5950555);\n",
      "INSERT INTO parking_site (name, kind, parking_num, fare, lat, lng) VALUES ('칠성남로16길인근', '노상', 61, '무료', 35.87750286, 128.5926647);\n",
      "INSERT INTO parking_site (name, kind, parking_num, fare, lat, lng) VALUES ('칠성남로2길인근', '노상', 71, '무료', 35.87815117, 128.5854598);\n",
      "INSERT INTO parking_site (name, kind, parking_num, fare, lat, lng) VALUES ('칠성남로31길인근', '노상', 6, '무료', 35.8773027, 128.5987311);\n",
      "INSERT INTO parking_site (name, kind, parking_num, fare, lat, lng) VALUES ('칠성남로인근(고성동)', '노상', 102, '무료', 35.8798762, 128.5828921);\n",
      "INSERT INTO parking_site (name, kind, parking_num, fare, lat, lng) VALUES ('칠성농협앞', '노상', 30, '유료', 35.8766329, 128.6035994);\n",
      "INSERT INTO parking_site (name, kind, parking_num, fare, lat, lng) VALUES ('칠성로17길인근', '노상', 32, '무료', 35.88175275, 128.5971708);\n",
      "INSERT INTO parking_site (name, kind, parking_num, fare, lat, lng) VALUES ('칠성시장고가도로밑', '노상', 76, '유료', 35.8843224, 128.6006014);\n",
      "INSERT INTO parking_site (name, kind, parking_num, fare, lat, lng) VALUES ('칠성시장광로', '노상', 37, '유료', 35.88022495, 128.601689);\n",
      "INSERT INTO parking_site (name, kind, parking_num, fare, lat, lng) VALUES ('칠성시장남편', '노상', 39, '유료', 35.8748935, 128.6070788);\n",
      "INSERT INTO parking_site (name, kind, parking_num, fare, lat, lng) VALUES ('칠성시장동편', '노상', 16, '유료', 35.8748935, 128.6070788);\n",
      "INSERT INTO parking_site (name, kind, parking_num, fare, lat, lng) VALUES ('칠성시장방범초소', '노상', 24, '유료', 35.87915714, 128.6025337);\n",
      "INSERT INTO parking_site (name, kind, parking_num, fare, lat, lng) VALUES ('칠성시장북편', '노상', 9, '유료', 35.8748935, 128.6070788);\n",
      "INSERT INTO parking_site (name, kind, parking_num, fare, lat, lng) VALUES ('칠성시장서편도로', '노상', 30, '유료', 35.87718878, 128.6014334);\n",
      "INSERT INTO parking_site (name, kind, parking_num, fare, lat, lng) VALUES ('칠성전자상가앞', '노상', 7, '유료', 35.8748935, 128.6070788);\n",
      "INSERT INTO parking_site (name, kind, parking_num, fare, lat, lng) VALUES ('침산남로31길인근', '노상', 14, '무료', 35.88869225, 128.5929184);\n",
      "INSERT INTO parking_site (name, kind, parking_num, fare, lat, lng) VALUES ('침산남로39길인근', '노상', 18, '무료', 35.8872637, 128.596993);\n",
      "INSERT INTO parking_site (name, kind, parking_num, fare, lat, lng) VALUES ('침산남로9길인근', '노상', 10, '무료', 35.8938443, 128.5833779);\n",
      "INSERT INTO parking_site (name, kind, parking_num, fare, lat, lng) VALUES ('침산로40길인근', '노상', 4, '무료', 35.89371938, 128.5900286);\n",
      "INSERT INTO parking_site (name, kind, parking_num, fare, lat, lng) VALUES ('침산로42길인근', '노상', 7, '무료', 35.89462057, 128.5900122);\n",
      "INSERT INTO parking_site (name, kind, parking_num, fare, lat, lng) VALUES ('침산로46길인근', '노상', 3, '무료', 35.8965438, 128.5890978);\n",
      "INSERT INTO parking_site (name, kind, parking_num, fare, lat, lng) VALUES ('침산로48길인근', '노상', 10, '무료', 35.89698438, 128.5900278);\n",
      "INSERT INTO parking_site (name, kind, parking_num, fare, lat, lng) VALUES ('침산로인근', '노상', 30, '무료', 35.9015759, 128.5860551);\n",
      "INSERT INTO parking_site (name, kind, parking_num, fare, lat, lng) VALUES ('태암교(동편)', '노상', 39, '무료', 35.92779327, 128.5557174);\n",
      "INSERT INTO parking_site (name, kind, parking_num, fare, lat, lng) VALUES ('태암교(서편)', '노상', 49, '무료', 35.92862298, 128.5497501);\n",
      "INSERT INTO parking_site (name, kind, parking_num, fare, lat, lng) VALUES ('태암남로1길인근', '노상', 25, '무료', 35.92761837, 128.5486904);\n",
      "INSERT INTO parking_site (name, kind, parking_num, fare, lat, lng) VALUES ('태암로1길인근', '노상', 8, '무료', 35.92968303, 128.5485495);\n",
      "INSERT INTO parking_site (name, kind, parking_num, fare, lat, lng) VALUES ('태암로2길인근', '노상', 31, '무료', 35.92769255, 128.5482365);\n",
      "INSERT INTO parking_site (name, kind, parking_num, fare, lat, lng) VALUES ('태암로3길인근', '노상', 41, '무료', 35.92905631, 128.549598);\n",
      "INSERT INTO parking_site (name, kind, parking_num, fare, lat, lng) VALUES ('태암로4길인근', '노상', 25, '무료', 35.92757107, 128.5491776);\n",
      "INSERT INTO parking_site (name, kind, parking_num, fare, lat, lng) VALUES ('태암로5길인근', '노상', 33, '무료', 35.92945364, 128.551396);\n",
      "INSERT INTO parking_site (name, kind, parking_num, fare, lat, lng) VALUES ('태암로6길인근', '노상', 42, '무료', 35.92732892, 128.5497322);\n",
      "INSERT INTO parking_site (name, kind, parking_num, fare, lat, lng) VALUES ('팔거천서로35길인근', '노상', 35, '무료', 35.94037563, 128.5565536);\n",
      "INSERT INTO parking_site (name, kind, parking_num, fare, lat, lng) VALUES ('팔거천서로인근', '노상', 52, '무료', 35.92661052, 128.5503013);\n",
      "INSERT INTO parking_site (name, kind, parking_num, fare, lat, lng) VALUES ('팔달로37길인근', '노상', 27, '무료', 35.88867297, 128.5696997);\n",
      "INSERT INTO parking_site (name, kind, parking_num, fare, lat, lng) VALUES ('팔달로41길인근', '노상', 90, '무료', 35.88867297, 128.5696997);\n",
      "INSERT INTO parking_site (name, kind, parking_num, fare, lat, lng) VALUES ('팔달북로2길인근', '노상', 21, '무료', 35.8898311, 128.5610742);\n",
      "INSERT INTO parking_site (name, kind, parking_num, fare, lat, lng) VALUES ('팔달북로3길인근', '노상', 68, '무료', 35.8898311, 128.5610742);\n",
      "INSERT INTO parking_site (name, kind, parking_num, fare, lat, lng) VALUES ('팔달북로7길인근', '노상', 41, '무료', 35.8898311, 128.5610742);\n",
      "INSERT INTO parking_site (name, kind, parking_num, fare, lat, lng) VALUES ('팔달북로인근', '노상', 100, '무료', 35.8929865, 128.5591288);\n",
      "INSERT INTO parking_site (name, kind, parking_num, fare, lat, lng) VALUES ('풍국면앞', '노상', 16, '유료', 35.8898311, 128.5610742);\n",
      "INSERT INTO parking_site (name, kind, parking_num, fare, lat, lng) VALUES ('한국농촌공사', '노상', 30, '유료', 35.9313747, 128.557711);\n",
      "INSERT INTO parking_site (name, kind, parking_num, fare, lat, lng) VALUES ('힘나라2길인근', '노상', 43, '무료', 35.8898311, 128.5610742);\n",
      "INSERT INTO parking_site (name, kind, parking_num, fare, lat, lng) VALUES ('운암지 공영주차장(노상)', '노상', 40, '유료', 35.931458, 128.563546);\n"
     ]
    }
   ],
   "source": [
    "db = pymysql.connect(\n",
    "    host='localhost',\n",
    "    port=3306,\n",
    "    user='root',\n",
    "    password='aksen5466!',\n",
    "    db='parking',\n",
    "    charset='utf8'\n",
    ")\n",
    "\n",
    "try:\n",
    "    cursor = db.cursor()\n",
    "\n",
    "    for num in range(179):\n",
    "        sql = \"INSERT INTO parking_site (name, kind, parking_num, fare, lat, lng) VALUES ('{0}', '{1}', {2}, '{3}', {4}, {5});\".format(\n",
    "            (road_parking.loc[num, \"주차장명\"]),\n",
    "            road_parking.loc[num, \"주차장 유형\"],\n",
    "            road_parking.loc[num, \"주차구획수\"],\n",
    "            road_parking.loc[num, \"요금정보\"],\n",
    "            road_parking.loc[num, \"경도\"],\n",
    "            road_parking.loc[num, \"위도\"])\n",
    "        print(sql)\n",
    "        cursor.execute(sql)\n",
    "\n",
    "    db.commit()\n",
    "finally:\n",
    "    db.close()"
   ],
   "metadata": {
    "collapsed": false,
    "pycharm": {
     "name": "#%%\n"
    }
   }
  },
  {
   "cell_type": "markdown",
   "source": [
    "### private_parking 데이터 확인, 전처리, DB에 입력"
   ],
   "metadata": {
    "collapsed": false
   }
  },
  {
   "cell_type": "code",
   "execution_count": 53,
   "outputs": [
    {
     "data": {
      "text/plain": "              순번      주차구획수       급지구분     주차기본시간       주차기본요금     추가단위시간  \\\ncount  35.000000  35.000000  35.000000  35.000000    35.000000  35.000000   \nmean   18.000000  20.085714   1.885714  36.000000   911.428571  22.285714   \nstd    10.246951  12.587041   0.758149  15.941068   322.464251  27.874268   \nmin     1.000000   4.000000   1.000000   0.000000     0.000000   0.000000   \n25%     9.500000  12.000000   1.000000  30.000000  1000.000000   0.000000   \n50%    18.000000  18.000000   2.000000  30.000000  1000.000000  10.000000   \n75%    26.500000  24.000000   2.000000  45.000000  1000.000000  60.000000   \nmax    35.000000  62.000000   3.000000  60.000000  2000.000000  60.000000   \n\n            추가단위요금  1일주차권요금적용시간     1일주차권적용시간          월정기요금         경도  \\\ncount    35.000000         35.0     35.000000      35.000000  35.000000   \nmean    591.428571          0.0   3400.000000   40285.714286  35.896650   \nstd     756.295705          0.0   3516.348373   35685.366443   0.021869   \nmin       0.000000          0.0      0.000000       0.000000  35.875724   \n25%       0.000000          0.0      0.000000       0.000000  35.884900   \n50%     100.000000          0.0   3000.000000   60000.000000  35.889395   \n75%    1000.000000          0.0   5000.000000   70000.000000  35.895010   \nmax    2000.000000          0.0  10000.000000  100000.000000  35.944010   \n\n               위도  \ncount   35.000000  \nmean   128.580910  \nstd      0.018708  \nmin    128.549202  \n25%    128.565651  \n50%    128.576499  \n75%    128.598088  \nmax    128.613341  ",
      "text/html": "<div>\n<style scoped>\n    .dataframe tbody tr th:only-of-type {\n        vertical-align: middle;\n    }\n\n    .dataframe tbody tr th {\n        vertical-align: top;\n    }\n\n    .dataframe thead th {\n        text-align: right;\n    }\n</style>\n<table border=\"1\" class=\"dataframe\">\n  <thead>\n    <tr style=\"text-align: right;\">\n      <th></th>\n      <th>순번</th>\n      <th>주차구획수</th>\n      <th>급지구분</th>\n      <th>주차기본시간</th>\n      <th>주차기본요금</th>\n      <th>추가단위시간</th>\n      <th>추가단위요금</th>\n      <th>1일주차권요금적용시간</th>\n      <th>1일주차권적용시간</th>\n      <th>월정기요금</th>\n      <th>경도</th>\n      <th>위도</th>\n    </tr>\n  </thead>\n  <tbody>\n    <tr>\n      <th>count</th>\n      <td>35.000000</td>\n      <td>35.000000</td>\n      <td>35.000000</td>\n      <td>35.000000</td>\n      <td>35.000000</td>\n      <td>35.000000</td>\n      <td>35.000000</td>\n      <td>35.0</td>\n      <td>35.000000</td>\n      <td>35.000000</td>\n      <td>35.000000</td>\n      <td>35.000000</td>\n    </tr>\n    <tr>\n      <th>mean</th>\n      <td>18.000000</td>\n      <td>20.085714</td>\n      <td>1.885714</td>\n      <td>36.000000</td>\n      <td>911.428571</td>\n      <td>22.285714</td>\n      <td>591.428571</td>\n      <td>0.0</td>\n      <td>3400.000000</td>\n      <td>40285.714286</td>\n      <td>35.896650</td>\n      <td>128.580910</td>\n    </tr>\n    <tr>\n      <th>std</th>\n      <td>10.246951</td>\n      <td>12.587041</td>\n      <td>0.758149</td>\n      <td>15.941068</td>\n      <td>322.464251</td>\n      <td>27.874268</td>\n      <td>756.295705</td>\n      <td>0.0</td>\n      <td>3516.348373</td>\n      <td>35685.366443</td>\n      <td>0.021869</td>\n      <td>0.018708</td>\n    </tr>\n    <tr>\n      <th>min</th>\n      <td>1.000000</td>\n      <td>4.000000</td>\n      <td>1.000000</td>\n      <td>0.000000</td>\n      <td>0.000000</td>\n      <td>0.000000</td>\n      <td>0.000000</td>\n      <td>0.0</td>\n      <td>0.000000</td>\n      <td>0.000000</td>\n      <td>35.875724</td>\n      <td>128.549202</td>\n    </tr>\n    <tr>\n      <th>25%</th>\n      <td>9.500000</td>\n      <td>12.000000</td>\n      <td>1.000000</td>\n      <td>30.000000</td>\n      <td>1000.000000</td>\n      <td>0.000000</td>\n      <td>0.000000</td>\n      <td>0.0</td>\n      <td>0.000000</td>\n      <td>0.000000</td>\n      <td>35.884900</td>\n      <td>128.565651</td>\n    </tr>\n    <tr>\n      <th>50%</th>\n      <td>18.000000</td>\n      <td>18.000000</td>\n      <td>2.000000</td>\n      <td>30.000000</td>\n      <td>1000.000000</td>\n      <td>10.000000</td>\n      <td>100.000000</td>\n      <td>0.0</td>\n      <td>3000.000000</td>\n      <td>60000.000000</td>\n      <td>35.889395</td>\n      <td>128.576499</td>\n    </tr>\n    <tr>\n      <th>75%</th>\n      <td>26.500000</td>\n      <td>24.000000</td>\n      <td>2.000000</td>\n      <td>45.000000</td>\n      <td>1000.000000</td>\n      <td>60.000000</td>\n      <td>1000.000000</td>\n      <td>0.0</td>\n      <td>5000.000000</td>\n      <td>70000.000000</td>\n      <td>35.895010</td>\n      <td>128.598088</td>\n    </tr>\n    <tr>\n      <th>max</th>\n      <td>35.000000</td>\n      <td>62.000000</td>\n      <td>3.000000</td>\n      <td>60.000000</td>\n      <td>2000.000000</td>\n      <td>60.000000</td>\n      <td>2000.000000</td>\n      <td>0.0</td>\n      <td>10000.000000</td>\n      <td>100000.000000</td>\n      <td>35.944010</td>\n      <td>128.613341</td>\n    </tr>\n  </tbody>\n</table>\n</div>"
     },
     "execution_count": 53,
     "metadata": {},
     "output_type": "execute_result"
    }
   ],
   "source": [
    "private_parking.describe()"
   ],
   "metadata": {
    "collapsed": false,
    "pycharm": {
     "name": "#%%\n"
    }
   }
  },
  {
   "cell_type": "code",
   "execution_count": 54,
   "outputs": [
    {
     "name": "stdout",
     "output_type": "stream",
     "text": [
      "<class 'pandas.core.frame.DataFrame'>\n",
      "RangeIndex: 35 entries, 0 to 34\n",
      "Data columns (total 27 columns):\n",
      " #   Column       Non-Null Count  Dtype  \n",
      "---  ------       --------------  -----  \n",
      " 0   순번           35 non-null     int64  \n",
      " 1   주차장관리번호      35 non-null     object \n",
      " 2   주차장명         35 non-null     object \n",
      " 3   주차장 유형       35 non-null     object \n",
      " 4   소재지지번주소      35 non-null     object \n",
      " 5   주차구획수        35 non-null     int64  \n",
      " 6   급지구분         35 non-null     int64  \n",
      " 7   부제시행구분       35 non-null     object \n",
      " 8   운영요일         35 non-null     object \n",
      " 9   평일운영시작시각     35 non-null     object \n",
      " 10  평일운영종료시각     35 non-null     object \n",
      " 11  토요일운영시작시각    35 non-null     object \n",
      " 12  토요일운영종료시각    35 non-null     object \n",
      " 13  공휴일운영시작시각    35 non-null     object \n",
      " 14  공유일운영종료시각    35 non-null     object \n",
      " 15  요금정보         35 non-null     object \n",
      " 16  주차기본시간       35 non-null     int64  \n",
      " 17  주차기본요금       35 non-null     int64  \n",
      " 18  추가단위시간       35 non-null     int64  \n",
      " 19  추가단위요금       35 non-null     int64  \n",
      " 20  1일주차권요금적용시간  35 non-null     int64  \n",
      " 21  1일주차권적용시간    35 non-null     int64  \n",
      " 22  월정기요금        35 non-null     int64  \n",
      " 23  결제방법         35 non-null     object \n",
      " 24  관리기관명        35 non-null     object \n",
      " 25  경도           35 non-null     float64\n",
      " 26  위도           35 non-null     float64\n",
      "dtypes: float64(2), int64(10), object(15)\n",
      "memory usage: 7.5+ KB\n"
     ]
    }
   ],
   "source": [
    "private_parking.info()"
   ],
   "metadata": {
    "collapsed": false,
    "pycharm": {
     "name": "#%%\n"
    }
   }
  },
  {
   "cell_type": "code",
   "execution_count": 55,
   "outputs": [
    {
     "data": {
      "text/plain": "   순번       주차장관리번호       주차장명 주차장 유형               소재지지번주소  주차구획수  급지구분  \\\n0   1  154-4-000190         광양     노외  대구광역시 북구 노원동3가 892-1     25     2   \n1   2  154-4-000191         구남     노외   대구광역시 북구 읍내동 1121-1     15     2   \n2   3  154-4-000192  구마니 유료주차장     노외    대구광역시 북구 칠성동2가 504     31     1   \n3   4  154-4-000198         뉴욕     노외  대구광역시 북구 칠성동1가 155-2     10     1   \n4   5  154-4-000199         대광     노외    대구광역시 북구 노원동1가 205     10     2   \n\n  부제시행구분        운영요일  평일운영시작시각  평일운영종료시각 토요일운영시작시각 토요일운영종료시각 공휴일운영시작시각  \\\n0    미시행  평일+토요일+공휴일  00:00:00  00:00:00  00:00:00  00:00:00  00:00:00   \n1    미시행  평일+토요일+공휴일  00:00:00  00:00:00  00:00:00  00:00:00  00:00:00   \n2    미시행  평일+토요일+공휴일  00:00:00  00:00:00  00:00:00  00:00:00  00:00:00   \n3    미시행  평일+토요일+공휴일  00:00:00  00:00:00  00:00:00  00:00:00  00:00:00   \n4    미시행      평일+토요일  07:00:00  21:00:00  07:00:00  21:00:00  00:00:00   \n\n  공유일운영종료시각 요금정보  주차기본시간  주차기본요금  추가단위시간  추가단위요금  1일주차권요금적용시간  1일주차권적용시간  \\\n0  00:00:00   유료      30     500      60    1000            0       5000   \n1  00:00:00   유료      30    1000      60    2000            0      10000   \n2  00:00:00   유료      30    1000      10     500            0          0   \n3  00:00:00   유료      60    1000       0       0            0          0   \n4  00:00:00   유료      30    1000      60    1500            0       6000   \n\n    월정기요금 결제방법      관리기관명         경도          위도  \n0   80000   현금  대구광역시 북구청  35.892206  128.567963  \n1  100000   현금  대구광역시 북구청  35.932928  128.550395  \n2       0   현금  대구광역시 북구청  35.876955  128.596260  \n3       0   현금  대구광역시 북구청  35.875724  128.604874  \n4   70000   현금  대구광역시 북구청  35.888803  128.576499  ",
      "text/html": "<div>\n<style scoped>\n    .dataframe tbody tr th:only-of-type {\n        vertical-align: middle;\n    }\n\n    .dataframe tbody tr th {\n        vertical-align: top;\n    }\n\n    .dataframe thead th {\n        text-align: right;\n    }\n</style>\n<table border=\"1\" class=\"dataframe\">\n  <thead>\n    <tr style=\"text-align: right;\">\n      <th></th>\n      <th>순번</th>\n      <th>주차장관리번호</th>\n      <th>주차장명</th>\n      <th>주차장 유형</th>\n      <th>소재지지번주소</th>\n      <th>주차구획수</th>\n      <th>급지구분</th>\n      <th>부제시행구분</th>\n      <th>운영요일</th>\n      <th>평일운영시작시각</th>\n      <th>평일운영종료시각</th>\n      <th>토요일운영시작시각</th>\n      <th>토요일운영종료시각</th>\n      <th>공휴일운영시작시각</th>\n      <th>공유일운영종료시각</th>\n      <th>요금정보</th>\n      <th>주차기본시간</th>\n      <th>주차기본요금</th>\n      <th>추가단위시간</th>\n      <th>추가단위요금</th>\n      <th>1일주차권요금적용시간</th>\n      <th>1일주차권적용시간</th>\n      <th>월정기요금</th>\n      <th>결제방법</th>\n      <th>관리기관명</th>\n      <th>경도</th>\n      <th>위도</th>\n    </tr>\n  </thead>\n  <tbody>\n    <tr>\n      <th>0</th>\n      <td>1</td>\n      <td>154-4-000190</td>\n      <td>광양</td>\n      <td>노외</td>\n      <td>대구광역시 북구 노원동3가 892-1</td>\n      <td>25</td>\n      <td>2</td>\n      <td>미시행</td>\n      <td>평일+토요일+공휴일</td>\n      <td>00:00:00</td>\n      <td>00:00:00</td>\n      <td>00:00:00</td>\n      <td>00:00:00</td>\n      <td>00:00:00</td>\n      <td>00:00:00</td>\n      <td>유료</td>\n      <td>30</td>\n      <td>500</td>\n      <td>60</td>\n      <td>1000</td>\n      <td>0</td>\n      <td>5000</td>\n      <td>80000</td>\n      <td>현금</td>\n      <td>대구광역시 북구청</td>\n      <td>35.892206</td>\n      <td>128.567963</td>\n    </tr>\n    <tr>\n      <th>1</th>\n      <td>2</td>\n      <td>154-4-000191</td>\n      <td>구남</td>\n      <td>노외</td>\n      <td>대구광역시 북구 읍내동 1121-1</td>\n      <td>15</td>\n      <td>2</td>\n      <td>미시행</td>\n      <td>평일+토요일+공휴일</td>\n      <td>00:00:00</td>\n      <td>00:00:00</td>\n      <td>00:00:00</td>\n      <td>00:00:00</td>\n      <td>00:00:00</td>\n      <td>00:00:00</td>\n      <td>유료</td>\n      <td>30</td>\n      <td>1000</td>\n      <td>60</td>\n      <td>2000</td>\n      <td>0</td>\n      <td>10000</td>\n      <td>100000</td>\n      <td>현금</td>\n      <td>대구광역시 북구청</td>\n      <td>35.932928</td>\n      <td>128.550395</td>\n    </tr>\n    <tr>\n      <th>2</th>\n      <td>3</td>\n      <td>154-4-000192</td>\n      <td>구마니 유료주차장</td>\n      <td>노외</td>\n      <td>대구광역시 북구 칠성동2가 504</td>\n      <td>31</td>\n      <td>1</td>\n      <td>미시행</td>\n      <td>평일+토요일+공휴일</td>\n      <td>00:00:00</td>\n      <td>00:00:00</td>\n      <td>00:00:00</td>\n      <td>00:00:00</td>\n      <td>00:00:00</td>\n      <td>00:00:00</td>\n      <td>유료</td>\n      <td>30</td>\n      <td>1000</td>\n      <td>10</td>\n      <td>500</td>\n      <td>0</td>\n      <td>0</td>\n      <td>0</td>\n      <td>현금</td>\n      <td>대구광역시 북구청</td>\n      <td>35.876955</td>\n      <td>128.596260</td>\n    </tr>\n    <tr>\n      <th>3</th>\n      <td>4</td>\n      <td>154-4-000198</td>\n      <td>뉴욕</td>\n      <td>노외</td>\n      <td>대구광역시 북구 칠성동1가 155-2</td>\n      <td>10</td>\n      <td>1</td>\n      <td>미시행</td>\n      <td>평일+토요일+공휴일</td>\n      <td>00:00:00</td>\n      <td>00:00:00</td>\n      <td>00:00:00</td>\n      <td>00:00:00</td>\n      <td>00:00:00</td>\n      <td>00:00:00</td>\n      <td>유료</td>\n      <td>60</td>\n      <td>1000</td>\n      <td>0</td>\n      <td>0</td>\n      <td>0</td>\n      <td>0</td>\n      <td>0</td>\n      <td>현금</td>\n      <td>대구광역시 북구청</td>\n      <td>35.875724</td>\n      <td>128.604874</td>\n    </tr>\n    <tr>\n      <th>4</th>\n      <td>5</td>\n      <td>154-4-000199</td>\n      <td>대광</td>\n      <td>노외</td>\n      <td>대구광역시 북구 노원동1가 205</td>\n      <td>10</td>\n      <td>2</td>\n      <td>미시행</td>\n      <td>평일+토요일</td>\n      <td>07:00:00</td>\n      <td>21:00:00</td>\n      <td>07:00:00</td>\n      <td>21:00:00</td>\n      <td>00:00:00</td>\n      <td>00:00:00</td>\n      <td>유료</td>\n      <td>30</td>\n      <td>1000</td>\n      <td>60</td>\n      <td>1500</td>\n      <td>0</td>\n      <td>6000</td>\n      <td>70000</td>\n      <td>현금</td>\n      <td>대구광역시 북구청</td>\n      <td>35.888803</td>\n      <td>128.576499</td>\n    </tr>\n  </tbody>\n</table>\n</div>"
     },
     "execution_count": 55,
     "metadata": {},
     "output_type": "execute_result"
    }
   ],
   "source": [
    "private_parking.head()"
   ],
   "metadata": {
    "collapsed": false,
    "pycharm": {
     "name": "#%%\n"
    }
   }
  },
  {
   "cell_type": "code",
   "execution_count": 56,
   "outputs": [
    {
     "name": "stdout",
     "output_type": "stream",
     "text": [
      "INSERT INTO parking_site (name, kind, parking_num, fare, lat, lng) VALUES ('광양', '노외', 25, '유료', 35.89220587, 128.5679626);\n",
      "INSERT INTO parking_site (name, kind, parking_num, fare, lat, lng) VALUES ('구남', '노외', 15, '유료', 35.93292828, 128.5503945);\n",
      "INSERT INTO parking_site (name, kind, parking_num, fare, lat, lng) VALUES ('구마니 유료주차장', '노외', 31, '유료', 35.87695476, 128.5962597);\n",
      "INSERT INTO parking_site (name, kind, parking_num, fare, lat, lng) VALUES ('뉴욕', '노외', 10, '유료', 35.8757242, 128.6048736);\n",
      "INSERT INTO parking_site (name, kind, parking_num, fare, lat, lng) VALUES ('대광', '노외', 10, '유료', 35.88880316, 128.5764994);\n",
      "INSERT INTO parking_site (name, kind, parking_num, fare, lat, lng) VALUES ('대륙', '노외', 24, '유료', 35.8778587, 128.6006471);\n",
      "INSERT INTO parking_site (name, kind, parking_num, fare, lat, lng) VALUES ('대보', '노외', 9, '유료', 35.87688665, 128.5951518);\n",
      "INSERT INTO parking_site (name, kind, parking_num, fare, lat, lng) VALUES ('대진', '노외', 28, '유료', 35.89060717, 128.5648608);\n",
      "INSERT INTO parking_site (name, kind, parking_num, fare, lat, lng) VALUES ('대현', '노외', 18, '유료', 35.8800966, 128.6102939);\n",
      "INSERT INTO parking_site (name, kind, parking_num, fare, lat, lng) VALUES ('대흥', '노외', 24, '유료', 35.89769395, 128.5700623);\n",
      "INSERT INTO parking_site (name, kind, parking_num, fare, lat, lng) VALUES ('도성', '노외', 25, '유료', 35.88553119, 128.5814603);\n",
      "INSERT INTO parking_site (name, kind, parking_num, fare, lat, lng) VALUES ('동서', '노외', 18, '유료', 35.8880973, 128.5744019);\n",
      "INSERT INTO parking_site (name, kind, parking_num, fare, lat, lng) VALUES ('만평', '노외', 16, '유료', 35.88939489, 128.5671873);\n",
      "INSERT INTO parking_site (name, kind, parking_num, fare, lat, lng) VALUES ('명성', '노외', 33, '유료', 35.8878395, 128.5922723);\n",
      "INSERT INTO parking_site (name, kind, parking_num, fare, lat, lng) VALUES ('미니', '노외', 5, '무료', 35.87766279, 128.5985705);\n",
      "INSERT INTO parking_site (name, kind, parking_num, fare, lat, lng) VALUES ('벧엘', '노외', 13, '유료', 35.88518404, 128.6049054);\n",
      "INSERT INTO parking_site (name, kind, parking_num, fare, lat, lng) VALUES ('보근', '노외', 7, '유료', 35.87792093, 128.6010181);\n",
      "INSERT INTO parking_site (name, kind, parking_num, fare, lat, lng) VALUES ('빵빵주차장', '노외', 24, '유료', 35.9349066, 128.5492023);\n",
      "INSERT INTO parking_site (name, kind, parking_num, fare, lat, lng) VALUES ('송원', '노외', 22, '무료', 35.94325188, 128.5593616);\n",
      "INSERT INTO parking_site (name, kind, parking_num, fare, lat, lng) VALUES ('스마일', '노외', 52, '유료', 35.8967946, 128.6133411);\n",
      "INSERT INTO parking_site (name, kind, parking_num, fare, lat, lng) VALUES ('삼성주차장(박문웅)', '노외', 14, '유료', 35.94245761, 128.5589261);\n",
      "INSERT INTO parking_site (name, kind, parking_num, fare, lat, lng) VALUES ('시민', '노외', 62, '유료', 35.8852831, 128.5857108);\n",
      "INSERT INTO parking_site (name, kind, parking_num, fare, lat, lng) VALUES ('신만평', '노외', 13, '유료', 35.8896644, 128.5643057);\n",
      "INSERT INTO parking_site (name, kind, parking_num, fare, lat, lng) VALUES ('신태경', '노외', 13, '유료', 35.92433357, 128.5986496);\n",
      "INSERT INTO parking_site (name, kind, parking_num, fare, lat, lng) VALUES ('아진', '노외', 17, '유료', 35.88926955, 128.5675428);\n",
      "INSERT INTO parking_site (name, kind, parking_num, fare, lat, lng) VALUES ('역후', '노외', 21, '유료', 35.87688665, 128.5951518);\n",
      "INSERT INTO parking_site (name, kind, parking_num, fare, lat, lng) VALUES ('영덕', '노외', 16, '유료', 35.89181778, 128.5674167);\n",
      "INSERT INTO parking_site (name, kind, parking_num, fare, lat, lng) VALUES ('우정', '노외', 4, '유료', 35.8920819, 128.5693763);\n",
      "INSERT INTO parking_site (name, kind, parking_num, fare, lat, lng) VALUES ('청신', '노외', 20, '유료', 35.89122502, 128.5664349);\n",
      "INSERT INTO parking_site (name, kind, parking_num, fare, lat, lng) VALUES ('태호', '노외', 44, '유료', 35.9440102, 128.5620563);\n",
      "INSERT INTO parking_site (name, kind, parking_num, fare, lat, lng) VALUES ('통일로', '노외', 10, '유료', 35.8869306, 128.5985068);\n",
      "INSERT INTO parking_site (name, kind, parking_num, fare, lat, lng) VALUES ('풍국', '노외', 23, '유료', 35.89212138, 128.5648666);\n",
      "INSERT INTO parking_site (name, kind, parking_num, fare, lat, lng) VALUES ('화성', '노외', 8, '유료', 35.8846168, 128.5975673);\n",
      "INSERT INTO parking_site (name, kind, parking_num, fare, lat, lng) VALUES ('오렌지유료주차장(이옥분)', '노외', 18, '유료', 35.94248568, 128.5589261);\n",
      "INSERT INTO parking_site (name, kind, parking_num, fare, lat, lng) VALUES ('산격유료주차장', '노외', 11, '유료', 35.89322494, 128.5976695);\n"
     ]
    }
   ],
   "source": [
    "for num in range(35):\n",
    "    sql = \"INSERT INTO parking_site (name, kind, parking_num, fare, lat, lng) VALUES ('{0}', '{1}', {2}, '{3}', {4}, {5});\".format(\n",
    "        (private_parking.loc[num, \"주차장명\"]),\n",
    "        private_parking.loc[num, \"주차장 유형\"],\n",
    "        private_parking.loc[num, \"주차구획수\"],\n",
    "        private_parking.loc[num, \"요금정보\"],\n",
    "        private_parking.loc[num, \"경도\"],\n",
    "        private_parking.loc[num, \"위도\"])\n",
    "    print(sql)"
   ],
   "metadata": {
    "collapsed": false,
    "pycharm": {
     "name": "#%%\n"
    }
   }
  },
  {
   "cell_type": "code",
   "execution_count": 57,
   "outputs": [
    {
     "name": "stdout",
     "output_type": "stream",
     "text": [
      "INSERT INTO parking_site (name, kind, parking_num, fare, lat, lng) VALUES ('광양', '노외', 25, '유료', 35.89220587, 128.5679626);\n",
      "INSERT INTO parking_site (name, kind, parking_num, fare, lat, lng) VALUES ('구남', '노외', 15, '유료', 35.93292828, 128.5503945);\n",
      "INSERT INTO parking_site (name, kind, parking_num, fare, lat, lng) VALUES ('구마니 유료주차장', '노외', 31, '유료', 35.87695476, 128.5962597);\n",
      "INSERT INTO parking_site (name, kind, parking_num, fare, lat, lng) VALUES ('뉴욕', '노외', 10, '유료', 35.8757242, 128.6048736);\n",
      "INSERT INTO parking_site (name, kind, parking_num, fare, lat, lng) VALUES ('대광', '노외', 10, '유료', 35.88880316, 128.5764994);\n",
      "INSERT INTO parking_site (name, kind, parking_num, fare, lat, lng) VALUES ('대륙', '노외', 24, '유료', 35.8778587, 128.6006471);\n",
      "INSERT INTO parking_site (name, kind, parking_num, fare, lat, lng) VALUES ('대보', '노외', 9, '유료', 35.87688665, 128.5951518);\n",
      "INSERT INTO parking_site (name, kind, parking_num, fare, lat, lng) VALUES ('대진', '노외', 28, '유료', 35.89060717, 128.5648608);\n",
      "INSERT INTO parking_site (name, kind, parking_num, fare, lat, lng) VALUES ('대현', '노외', 18, '유료', 35.8800966, 128.6102939);\n",
      "INSERT INTO parking_site (name, kind, parking_num, fare, lat, lng) VALUES ('대흥', '노외', 24, '유료', 35.89769395, 128.5700623);\n",
      "INSERT INTO parking_site (name, kind, parking_num, fare, lat, lng) VALUES ('도성', '노외', 25, '유료', 35.88553119, 128.5814603);\n",
      "INSERT INTO parking_site (name, kind, parking_num, fare, lat, lng) VALUES ('동서', '노외', 18, '유료', 35.8880973, 128.5744019);\n",
      "INSERT INTO parking_site (name, kind, parking_num, fare, lat, lng) VALUES ('만평', '노외', 16, '유료', 35.88939489, 128.5671873);\n",
      "INSERT INTO parking_site (name, kind, parking_num, fare, lat, lng) VALUES ('명성', '노외', 33, '유료', 35.8878395, 128.5922723);\n",
      "INSERT INTO parking_site (name, kind, parking_num, fare, lat, lng) VALUES ('미니', '노외', 5, '무료', 35.87766279, 128.5985705);\n",
      "INSERT INTO parking_site (name, kind, parking_num, fare, lat, lng) VALUES ('벧엘', '노외', 13, '유료', 35.88518404, 128.6049054);\n",
      "INSERT INTO parking_site (name, kind, parking_num, fare, lat, lng) VALUES ('보근', '노외', 7, '유료', 35.87792093, 128.6010181);\n",
      "INSERT INTO parking_site (name, kind, parking_num, fare, lat, lng) VALUES ('빵빵주차장', '노외', 24, '유료', 35.9349066, 128.5492023);\n",
      "INSERT INTO parking_site (name, kind, parking_num, fare, lat, lng) VALUES ('송원', '노외', 22, '무료', 35.94325188, 128.5593616);\n",
      "INSERT INTO parking_site (name, kind, parking_num, fare, lat, lng) VALUES ('스마일', '노외', 52, '유료', 35.8967946, 128.6133411);\n",
      "INSERT INTO parking_site (name, kind, parking_num, fare, lat, lng) VALUES ('삼성주차장(박문웅)', '노외', 14, '유료', 35.94245761, 128.5589261);\n",
      "INSERT INTO parking_site (name, kind, parking_num, fare, lat, lng) VALUES ('시민', '노외', 62, '유료', 35.8852831, 128.5857108);\n",
      "INSERT INTO parking_site (name, kind, parking_num, fare, lat, lng) VALUES ('신만평', '노외', 13, '유료', 35.8896644, 128.5643057);\n",
      "INSERT INTO parking_site (name, kind, parking_num, fare, lat, lng) VALUES ('신태경', '노외', 13, '유료', 35.92433357, 128.5986496);\n",
      "INSERT INTO parking_site (name, kind, parking_num, fare, lat, lng) VALUES ('아진', '노외', 17, '유료', 35.88926955, 128.5675428);\n",
      "INSERT INTO parking_site (name, kind, parking_num, fare, lat, lng) VALUES ('역후', '노외', 21, '유료', 35.87688665, 128.5951518);\n",
      "INSERT INTO parking_site (name, kind, parking_num, fare, lat, lng) VALUES ('영덕', '노외', 16, '유료', 35.89181778, 128.5674167);\n",
      "INSERT INTO parking_site (name, kind, parking_num, fare, lat, lng) VALUES ('우정', '노외', 4, '유료', 35.8920819, 128.5693763);\n",
      "INSERT INTO parking_site (name, kind, parking_num, fare, lat, lng) VALUES ('청신', '노외', 20, '유료', 35.89122502, 128.5664349);\n",
      "INSERT INTO parking_site (name, kind, parking_num, fare, lat, lng) VALUES ('태호', '노외', 44, '유료', 35.9440102, 128.5620563);\n",
      "INSERT INTO parking_site (name, kind, parking_num, fare, lat, lng) VALUES ('통일로', '노외', 10, '유료', 35.8869306, 128.5985068);\n",
      "INSERT INTO parking_site (name, kind, parking_num, fare, lat, lng) VALUES ('풍국', '노외', 23, '유료', 35.89212138, 128.5648666);\n",
      "INSERT INTO parking_site (name, kind, parking_num, fare, lat, lng) VALUES ('화성', '노외', 8, '유료', 35.8846168, 128.5975673);\n",
      "INSERT INTO parking_site (name, kind, parking_num, fare, lat, lng) VALUES ('오렌지유료주차장(이옥분)', '노외', 18, '유료', 35.94248568, 128.5589261);\n",
      "INSERT INTO parking_site (name, kind, parking_num, fare, lat, lng) VALUES ('산격유료주차장', '노외', 11, '유료', 35.89322494, 128.5976695);\n"
     ]
    }
   ],
   "source": [
    "db = pymysql.connect(\n",
    "    host='localhost',\n",
    "    port=3306,\n",
    "    user='root',\n",
    "    password='aksen5466!',\n",
    "    db='parking',\n",
    "    charset='utf8'\n",
    ")\n",
    "\n",
    "try:\n",
    "    cursor = db.cursor()\n",
    "\n",
    "    for num in range(35):\n",
    "        sql = \"INSERT INTO parking_site (name, kind, parking_num, fare, lat, lng) VALUES ('{0}', '{1}', {2}, '{3}', {4}, {5});\".format(\n",
    "            (private_parking.loc[num, \"주차장명\"]),\n",
    "            private_parking.loc[num, \"주차장 유형\"],\n",
    "            private_parking.loc[num, \"주차구획수\"],\n",
    "            private_parking.loc[num, \"요금정보\"],\n",
    "            private_parking.loc[num, \"경도\"],\n",
    "            private_parking.loc[num, \"위도\"])\n",
    "        print(sql)\n",
    "        cursor.execute(sql)\n",
    "\n",
    "    db.commit()\n",
    "finally:\n",
    "    db.close()"
   ],
   "metadata": {
    "collapsed": false,
    "pycharm": {
     "name": "#%%\n"
    }
   }
  },
  {
   "cell_type": "code",
   "execution_count": null,
   "outputs": [],
   "source": [],
   "metadata": {
    "collapsed": false,
    "pycharm": {
     "name": "#%%\n"
    }
   }
  }
 ],
 "metadata": {
  "kernelspec": {
   "display_name": "Python 3",
   "language": "python",
   "name": "python3"
  },
  "language_info": {
   "codemirror_mode": {
    "name": "ipython",
    "version": 2
   },
   "file_extension": ".py",
   "mimetype": "text/x-python",
   "name": "python",
   "nbconvert_exporter": "python",
   "pygments_lexer": "ipython2",
   "version": "2.7.6"
  }
 },
 "nbformat": 4,
 "nbformat_minor": 0
}